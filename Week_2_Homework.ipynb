{
 "cells": [
  {
   "cell_type": "markdown",
   "metadata": {},
   "source": [
    "# Python for Librarians - Week 2 Homework\n",
    "\n",
    "## Examing a dataset with Pandas\n",
    "\n",
    "A data set has been created for you. It comprises of just about **5000** items found using the [Cross-Ref Search API](https://www.crossref.org/education/retrieve-metadata/rest-api/). This data is information about DOIs registered with Cross-Ref during the month of January 2020 that match the search `information literacy`. We are going to use our Pandas skills to perform a basic analysis of the data. Check out the first few paragraphs of the DOI [entry](https://en.wikipedia.org/wiki/Digital_object_identifier) on wikipedia if you haven't heard of this before or if you need a refresher."
   ]
  },
  {
   "cell_type": "code",
   "execution_count": null,
   "metadata": {},
   "outputs": [],
   "source": [
    "#Load in our Libraries\n",
    "import pandas as pd"
   ]
  },
  {
   "cell_type": "code",
   "execution_count": null,
   "metadata": {},
   "outputs": [],
   "source": [
    "doi_data = pd.read_csv(\"https://raw.githubusercontent.com/elibtronic/lja_datasets/master/week_2_homework_doi.csv\")\n",
    "\n",
    "#this datafile doesn't have column names so we'll add them in manually\n",
    "doi_data.columns = ['DOI','Prefix','ISSN','Type','Publisher','Title','Date','Reference-count','Alt title','Score']"
   ]
  },
  {
   "cell_type": "code",
   "execution_count": null,
   "metadata": {},
   "outputs": [],
   "source": [
    "#Display 5 random entries in our df. In the workalong we've been using head instea of sample.\n",
    "#Try running this cell a few times to see different samples of the data\n",
    "doi_data.sample(5)"
   ]
  },
  {
   "cell_type": "markdown",
   "metadata": {},
   "source": [
    "## Columns in the Data\n",
    "\n",
    "- DOI: The full DOI of the item\n",
    "- Prefix: The publisher DOI prefix (more info)\n",
    "- ISSN: The ISSN of the publication\n",
    "- Type: What kind of item this eg. journal article, book chapter etc\n",
    "- Publisher: Name of the publisher\n",
    "- Title: Title of the journal/conference proceeding\n",
    "- Date: Date item was added to cross-ref index\n",
    "- Reference-count: How many references this article has\n",
    "- Alt title: An alternate title to the item\n",
    "- Score: The Cross-Ref _score_ for the item\n",
    "\n",
    "\n",
    "Try to write some lines of code that answer the following questions in the cells below."
   ]
  },
  {
   "cell_type": "markdown",
   "metadata": {},
   "source": [
    "### Q1\n",
    "What are the different **Types** of items in this dataset?"
   ]
  },
  {
   "cell_type": "code",
   "execution_count": null,
   "metadata": {},
   "outputs": [],
   "source": [
    "doi_data"
   ]
  },
  {
   "cell_type": "markdown",
   "metadata": {},
   "source": [
    "### Q2\n",
    "What are the different **Publishers** found in this dataset?"
   ]
  },
  {
   "cell_type": "code",
   "execution_count": null,
   "metadata": {},
   "outputs": [],
   "source": []
  },
  {
   "cell_type": "markdown",
   "metadata": {},
   "source": [
    "### Q3\n",
    "\n",
    "What is the average **Score** in this dataset? "
   ]
  },
  {
   "cell_type": "code",
   "execution_count": null,
   "metadata": {},
   "outputs": [],
   "source": []
  },
  {
   "cell_type": "markdown",
   "metadata": {},
   "source": [
    "### Q4\n",
    "What is the average **Score** in the dataset if we only look at scores above 0?"
   ]
  },
  {
   "cell_type": "code",
   "execution_count": null,
   "metadata": {},
   "outputs": [],
   "source": []
  },
  {
   "cell_type": "markdown",
   "metadata": {},
   "source": [
    "### Q5\n",
    "\n",
    "What is the maximum number of **References** for an item in this dataset?"
   ]
  },
  {
   "cell_type": "code",
   "execution_count": null,
   "metadata": {},
   "outputs": [],
   "source": []
  },
  {
   "cell_type": "markdown",
   "metadata": {},
   "source": [
    "### Q6\n",
    "\n",
    "What is the average number of **References** if we only look at items that have more than 0 references?"
   ]
  },
  {
   "cell_type": "code",
   "execution_count": null,
   "metadata": {},
   "outputs": [],
   "source": []
  },
  {
   "cell_type": "markdown",
   "metadata": {},
   "source": [
    "# A tad more Pandas\n",
    "\n",
    "Pandas has a couple of other interesting functions we can make use of, let's explore those quickly.\n",
    "\n",
    "**unique()** - tells us what are the unique entries in a particular column of a dataframe.\n",
    "The following cell demonstrates this.\n"
   ]
  },
  {
   "cell_type": "code",
   "execution_count": null,
   "metadata": {},
   "outputs": [],
   "source": [
    "doi_data[\"Type\"].unique()"
   ]
  },
  {
   "cell_type": "markdown",
   "metadata": {},
   "source": [
    "**nunique()** - tells us the number of unique entries in a particular column of a dataframe.\n",
    "The following cell demonstrates this."
   ]
  },
  {
   "cell_type": "code",
   "execution_count": null,
   "metadata": {},
   "outputs": [],
   "source": [
    "doi_data[\"Type\"].nunique()"
   ]
  },
  {
   "cell_type": "markdown",
   "metadata": {},
   "source": [
    "# Why?\n",
    "\n",
    "Why are we learning these extra functions now? The answer is that in all programming projects there almost always is more than 1 way to do something, as the following questions demonstrate."
   ]
  },
  {
   "cell_type": "markdown",
   "metadata": {},
   "source": [
    "### Q7\n",
    "\n",
    "What are the different **Publishers** are in this dataset, using **unique()**?"
   ]
  },
  {
   "cell_type": "code",
   "execution_count": null,
   "metadata": {},
   "outputs": [],
   "source": []
  },
  {
   "cell_type": "markdown",
   "metadata": {},
   "source": [
    "### Q8\n",
    "\n",
    "What is total count of **Publishers** in this dataset, using **nunique()**? "
   ]
  },
  {
   "cell_type": "code",
   "execution_count": null,
   "metadata": {},
   "outputs": [],
   "source": []
  },
  {
   "cell_type": "markdown",
   "metadata": {},
   "source": [
    "### Q9\n",
    "\n",
    "Try reloading the cell that has the `sample(5)` code above a few time to get more glimpses of the data. In the cell below write up an interesting line of code that examines the data in a way similar to the questions above. Add details about what your code does to the comment."
   ]
  },
  {
   "cell_type": "code",
   "execution_count": null,
   "metadata": {},
   "outputs": [],
   "source": [
    "\n",
    "# My following code does...\n",
    "#\n",
    "#\n",
    "\n",
    "doi_data"
   ]
  },
  {
   "cell_type": "markdown",
   "metadata": {},
   "source": [
    "## Congrats!\n",
    "\n",
    "You have now completed week 2 of class. Pandas is such an important part of data analysis with Python we are going to continue building our knowledge of it in next week's class. Be sure to save a PDF of this notebook, upload it to the class page, and make your forum post."
   ]
  }
 ],
 "metadata": {
  "kernelspec": {
   "display_name": "Python 3",
   "language": "python",
   "name": "python3"
  },
  "language_info": {
   "codemirror_mode": {
    "name": "ipython",
    "version": 3
   },
   "file_extension": ".py",
   "mimetype": "text/x-python",
   "name": "python",
   "nbconvert_exporter": "python",
   "pygments_lexer": "ipython3",
   "version": "3.7.4"
  }
 },
 "nbformat": 4,
 "nbformat_minor": 2
}
