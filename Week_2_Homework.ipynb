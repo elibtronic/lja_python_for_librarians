{
 "cells": [
  {
   "cell_type": "markdown",
   "metadata": {},
   "source": [
    "# Week 2 - Homework"
   ]
  },
  {
   "cell_type": "code",
   "execution_count": null,
   "metadata": {},
   "outputs": [],
   "source": [
    "#Load in our Libraries\n",
    "import pandas as pd\n",
    "import matplotlib.pyplot as plt"
   ]
  },
  {
   "cell_type": "markdown",
   "metadata": {},
   "source": [
    "\n",
    "\n",
    "A data set has been created for you. It comprises of just about **5000** items found using the [Cross-Ref Search API](https://www.crossref.org/education/retrieve-metadata/rest-api/). This data is information about DOIs registered with Cross-Ref during the month of January 2020 that match the search `information literacy`. We are going to use our Pandas skills to perform a basic analysis of the data."
   ]
  },
  {
   "cell_type": "code",
   "execution_count": null,
   "metadata": {},
   "outputs": [],
   "source": [
    "doi_data = pd.read_csv(\"https://raw.githubusercontent.com/elibtronic/lja_datasets/master/week_2_homework_doi.csv\")\n",
    "\n",
    "#this datafile doesn't have column names so we'll add them in manually\n",
    "doi_data.columns = ['DOI','Prefix','ISSN','Type','Publisher','Title','Date','Reference-count','Alt title','Score']"
   ]
  },
  {
   "cell_type": "code",
   "execution_count": null,
   "metadata": {},
   "outputs": [],
   "source": [
    "#Display 5 random entries in our df. In the workalong we've been using head instea of sample.\n",
    "#Try running this cell a few times to see different samples of the data\n",
    "doi_data.sample(5)"
   ]
  },
  {
   "cell_type": "markdown",
   "metadata": {},
   "source": [
    "## Columns in the Data\n",
    "\n",
    "- DOI: The full DOI of the item\n",
    "- Prefix: The publisher DOI prefix (more info)\n",
    "- ISSN: The ISSN of the publication\n",
    "- Type: What kind of item this eg. journal article, book chapter etc\n",
    "- Publisher: Name of the publisher\n",
    "- Title: Title of the journal/conference proceeding\n",
    "- Date: Date item was added to cross-ref index\n",
    "- Reference-count: How many references this article has\n",
    "- Alt title: An alternate title to the item\n",
    "- Score: The Cross-Ref _score_ for the item"
   ]
  },
  {
   "cell_type": "markdown",
   "metadata": {},
   "source": [
    "### Q1\n",
    "What are the different types of items in this dataset? "
   ]
  },
  {
   "cell_type": "code",
   "execution_count": null,
   "metadata": {},
   "outputs": [],
   "source": []
  },
  {
   "cell_type": "markdown",
   "metadata": {},
   "source": [
    "### Q2\n",
    "What are the different publishers found in this dataset?"
   ]
  },
  {
   "cell_type": "code",
   "execution_count": null,
   "metadata": {},
   "outputs": [],
   "source": []
  },
  {
   "cell_type": "markdown",
   "metadata": {},
   "source": [
    "### Q3\n",
    "\n",
    "What is the average _score_ in this dataset? "
   ]
  },
  {
   "cell_type": "code",
   "execution_count": null,
   "metadata": {},
   "outputs": [],
   "source": []
  },
  {
   "cell_type": "markdown",
   "metadata": {},
   "source": [
    "### Q4\n",
    "What is the average _score_ in the dataset if we only look at scores above 0?"
   ]
  },
  {
   "cell_type": "code",
   "execution_count": null,
   "metadata": {},
   "outputs": [],
   "source": []
  },
  {
   "cell_type": "markdown",
   "metadata": {},
   "source": [
    "# A tad more Pandas\n",
    "\n",
    "**unique()**\n",
    "**nunique()**"
   ]
  }
 ],
 "metadata": {
  "kernelspec": {
   "display_name": "Python 3",
   "language": "python",
   "name": "python3"
  },
  "language_info": {
   "codemirror_mode": {
    "name": "ipython",
    "version": 3
   },
   "file_extension": ".py",
   "mimetype": "text/x-python",
   "name": "python",
   "nbconvert_exporter": "python",
   "pygments_lexer": "ipython3",
   "version": "3.7.4"
  }
 },
 "nbformat": 4,
 "nbformat_minor": 2
}
