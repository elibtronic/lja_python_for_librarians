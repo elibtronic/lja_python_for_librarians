{
 "cells": [
  {
   "cell_type": "markdown",
   "metadata": {},
   "source": [
    " ### Student Name\n",
    " \n",
    "Please add your name to this markdown cell."
   ]
  },
  {
   "cell_type": "markdown",
   "metadata": {},
   "source": [
    "## Submitting your homework!\n",
    "\n",
    "Three steps are required for this week's homework once you have completed it:\n",
    "\n",
    "- __Share__ this notebook with _libraryjuicepresspython@gmail.com_ so it can be marked in Colab\n",
    "- __Print as PDF__ and upload to the the week's homework submission location on the Library Juice Academy LMS\n",
    "- __Post__ to the Week 2 Forum"
   ]
  },
  {
   "cell_type": "markdown",
   "metadata": {},
   "source": [
    "# Python for Librarians - Week 2 Homework\n",
    "\n",
    "## Examing a dataset with Pandas\n",
    "\n",
    "A data set has been created for you. It comprises about **5000** items found using the [Cross-Ref Search API](https://www.crossref.org/education/retrieve-metadata/rest-api/). This data is information about DOIs registered with Cross-Ref during the month of January 2020 that match the search `information literacy`. We are going to use our Pandas skills to perform a basic analysis of the data. Check out the first few paragraphs of the DOI [entry](https://en.wikipedia.org/wiki/Digital_object_identifier) on Wikipedia if you haven't heard of A DOI before or if you need a refresher about what it is and how it is structured."
   ]
  },
  {
   "cell_type": "code",
   "execution_count": null,
   "metadata": {},
   "outputs": [],
   "source": [
    "#Load in our Libraries\n",
    "import pandas as pd\n",
    "\n",
    "#We'll use numPy to blank out the redundant info in our correlation matrix later, so we import it here\n",
    "import numpy as np\n",
    "\n",
    "#Suppress the distracting warnings\n",
    "import warnings\n",
    "warnings.filterwarnings(\"ignore\", category=DeprecationWarning)\n",
    "warnings.filterwarnings(\"ignore\", category=FutureWarning)"
   ]
  },
  {
   "cell_type": "code",
   "execution_count": null,
   "metadata": {},
   "outputs": [],
   "source": [
    "#Load our dataset from the CSV file\n",
    "doi_data = pd.read_csv(\"https://raw.githubusercontent.com/elibtronic/lja_datasets/master/week_2_homework_doi.csv\")\n",
    "\n",
    "#We'll set the column names manually so they will be what we expect them to be\n",
    "doi_data.columns = ['DOI','Prefix','ISSN','Type','Publisher','Title','Date','Reference-count','Alt title','Score']"
   ]
  },
  {
   "cell_type": "code",
   "execution_count": null,
   "metadata": {},
   "outputs": [],
   "source": [
    "#Display 5 random entries in our df. In the workalong we've been using head instea of sample.\n",
    "#Try running this cell a few times to see different samples of the data\n",
    "doi_data.sample(5)"
   ]
  },
  {
   "cell_type": "markdown",
   "metadata": {},
   "source": [
    "## Columns in the Data\n",
    "\n",
    "- DOI: The full DOI of the item\n",
    "- Prefix: The publisher DOI prefix (more info)\n",
    "- ISSN: The ISSN of the publication\n",
    "- Type: What kind of item this eg. journal article, book chapter etc\n",
    "- Publisher: Name of the publisher\n",
    "- Title: Title of the journal/conference proceeding\n",
    "- Date: Date item was added to cross-ref index\n",
    "- Reference-count: How many references this article has\n",
    "- Alt title: An alternate title to the item\n",
    "- Score: The Cross-Ref _score_ for the item\n",
    "\n",
    "\n",
    "Try to write some lines of code that answer the following questions in the cells below. Remember, there are multiple different ways to get the answers to these questions. Just stick with what works the best for you."
   ]
  },
  {
   "cell_type": "markdown",
   "metadata": {},
   "source": [
    "### Q1\n",
    "What are the different **Types** of items in this dataset?"
   ]
  },
  {
   "cell_type": "code",
   "execution_count": null,
   "metadata": {},
   "outputs": [],
   "source": [
    "doi_data"
   ]
  },
  {
   "cell_type": "markdown",
   "metadata": {},
   "source": [
    "### Q2\n",
    "What are the different **Publishers** found in this dataset?"
   ]
  },
  {
   "cell_type": "code",
   "execution_count": null,
   "metadata": {},
   "outputs": [],
   "source": []
  },
  {
   "cell_type": "markdown",
   "metadata": {},
   "source": [
    "### Q3\n",
    "\n",
    "What is the average **Score** in this dataset? "
   ]
  },
  {
   "cell_type": "code",
   "execution_count": null,
   "metadata": {},
   "outputs": [],
   "source": []
  },
  {
   "cell_type": "markdown",
   "metadata": {},
   "source": [
    "### Q4\n",
    "What is the average **Score** in the dataset if we only look at scores above 0? (Don't forget to add `numeric_only=True` to your code)"
   ]
  },
  {
   "cell_type": "code",
   "execution_count": null,
   "metadata": {},
   "outputs": [],
   "source": []
  },
  {
   "cell_type": "markdown",
   "metadata": {},
   "source": [
    "### Q5\n",
    "\n",
    "What is the maximum number of **References** for an item in this dataset?"
   ]
  },
  {
   "cell_type": "code",
   "execution_count": null,
   "metadata": {},
   "outputs": [],
   "source": []
  },
  {
   "cell_type": "markdown",
   "metadata": {},
   "source": [
    "### Q6\n",
    "\n",
    "What is the average number of **References** if we only look at items that have more than 0 references? (Don't forget to add `numeric_only=True` to your code)"
   ]
  },
  {
   "cell_type": "code",
   "execution_count": null,
   "metadata": {},
   "outputs": [],
   "source": []
  },
  {
   "cell_type": "markdown",
   "metadata": {},
   "source": [
    "# A tad more Pandas\n",
    "\n",
    "Pandas has a couple of other interesting functions we can make use of, let's explore those quickly.\n",
    "\n",
    "**unique()** - tells us what are the unique entries in a particular column of a dataframe.\n",
    "The following cell demonstrates this.\n"
   ]
  },
  {
   "cell_type": "code",
   "execution_count": null,
   "metadata": {},
   "outputs": [],
   "source": [
    "doi_data[\"Type\"].unique()"
   ]
  },
  {
   "cell_type": "markdown",
   "metadata": {},
   "source": [
    "**nunique()** - tells us the number of unique entries in a particular column of a dataframe.\n",
    "The following cell demonstrates this."
   ]
  },
  {
   "cell_type": "code",
   "execution_count": null,
   "metadata": {},
   "outputs": [],
   "source": [
    "doi_data[\"Type\"].nunique()"
   ]
  },
  {
   "cell_type": "markdown",
   "metadata": {},
   "source": [
    "# Why?\n",
    "\n",
    "Why are we learning these extra functions now? As mentioned, there are multiple ways to accomplish the same thing in programming, it is good to get a bit familiar with these alternate ways."
   ]
  },
  {
   "cell_type": "markdown",
   "metadata": {},
   "source": [
    "### Q7\n",
    "\n",
    "What are the different **Publishers** are in this dataset, using **unique()**?"
   ]
  },
  {
   "cell_type": "code",
   "execution_count": null,
   "metadata": {},
   "outputs": [],
   "source": []
  },
  {
   "cell_type": "markdown",
   "metadata": {},
   "source": [
    "### Q8\n",
    "\n",
    "What is total count of **Publishers** in this dataset, using **nunique()**? "
   ]
  },
  {
   "cell_type": "code",
   "execution_count": null,
   "metadata": {},
   "outputs": [],
   "source": []
  },
  {
   "cell_type": "markdown",
   "metadata": {},
   "source": [
    "### Q9\n",
    "\n",
    "Try reloading the cell that has the `sample(5)` code above a few time to get more glimpses of the data. \n",
    "\n",
    "\n",
    "In the cell below write a line or two of code that does some sort of analysis with the data.\n",
    "\n",
    "\n",
    "Add details about what your code does to the comment."
   ]
  },
  {
   "cell_type": "code",
   "execution_count": null,
   "metadata": {},
   "outputs": [],
   "source": [
    "\n",
    "# My following code does...\n",
    "#\n",
    "#\n",
    "\n",
    "doi_data"
   ]
  },
  {
   "cell_type": "markdown",
   "metadata": {},
   "source": [
    "### Q10\n",
    "\n",
    "Run the code below to create a correlation matrix visualization just like we saw in the _Workalong_ notebook."
   ]
  },
  {
   "cell_type": "code",
   "execution_count": null,
   "metadata": {},
   "outputs": [],
   "source": [
    "#Lot going on here... Just run this cell and look at the final product to answer the next question\n",
    "corr = doi_data.corr()\n",
    "corr.style.background_gradient(cmap='coolwarm')\n",
    "mask = np.zeros_like(corr, dtype=bool)\n",
    "mask[np.triu_indices_from(mask)] = True\n",
    "corr[mask] = np.nan\n",
    "(corr\n",
    " .style\n",
    " .background_gradient(cmap='coolwarm', axis=None, vmin=-1, vmax=1)\n",
    " .highlight_null(null_color='#f1f1f1')  # Color NaNs grey\n",
    " .set_precision(2))"
   ]
  },
  {
   "cell_type": "markdown",
   "metadata": {},
   "source": [
    "Please answer following:\n",
    "\n",
    "From this correlation matrix I can describe the relationship between `Reference-count` and `Score` as follows. \n",
    "\n",
    "(Leave only the correct answer below, by deleting the wrong statement)\n",
    "\n",
    "\n",
    "\n",
    "- `Score` is positively correlated to `Reference-count`\n",
    "- `Score` is negatively correlated to `Reference-count`"
   ]
  },
  {
   "cell_type": "markdown",
   "metadata": {},
   "source": [
    "## Congrats!\n",
    "\n",
    "You have now completed week 2 of class. Pandas is such an important part of data analysis with Python that we are going to continue building our knowledge of it in next week's class. \n",
    "\n",
    "Be sure to Print as PDF, upload it to the class page\n",
    "\n",
    "Also click the **Share** button above and enter `libraryjuicepresspython@gmail.com` so I can get a shared copy of your work.\n",
    "\n",
    "Remember also to make your forum post."
   ]
  }
 ],
 "metadata": {
  "kernelspec": {
   "display_name": "Python 3 (ipykernel)",
   "language": "python",
   "name": "python3"
  },
  "language_info": {
   "codemirror_mode": {
    "name": "ipython",
    "version": 3
   },
   "file_extension": ".py",
   "mimetype": "text/x-python",
   "name": "python",
   "nbconvert_exporter": "python",
   "pygments_lexer": "ipython3",
   "version": "3.9.13"
  }
 },
 "nbformat": 4,
 "nbformat_minor": 2
}
