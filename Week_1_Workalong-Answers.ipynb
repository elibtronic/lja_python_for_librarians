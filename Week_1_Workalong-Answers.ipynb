{
 "cells": [
  {
   "cell_type": "markdown",
   "metadata": {},
   "source": [
    "# Python for Librarians - Week 1 Workalong\n",
    "\n",
    "\n",
    "Answers just in case you need them."
   ]
  },
  {
   "cell_type": "markdown",
   "metadata": {},
   "source": [
    "## Question 1\n",
    "\n",
    "Complete the code cell below to set the variable age equal to your age in years."
   ]
  },
  {
   "cell_type": "code",
   "execution_count": null,
   "metadata": {},
   "outputs": [],
   "source": [
    "#Tim's age in 2022...\n",
    "age = 41"
   ]
  },
  {
   "cell_type": "markdown",
   "metadata": {},
   "source": [
    "## Question 2\n",
    "\n",
    "Add your new variable age to the print function below to print it to the screen. To do this please add the variable `age` to the print statement below by typing it in between the brackets."
   ]
  },
  {
   "cell_type": "code",
   "execution_count": null,
   "metadata": {},
   "outputs": [],
   "source": [
    "print(age)"
   ]
  },
  {
   "cell_type": "code",
   "execution_count": 3,
   "metadata": {},
   "outputs": [],
   "source": [
    "phone_numbers = {\n",
    "    \"Mom\":\"555-8980\",\n",
    "    \"Joe\":\"555-1021\"\n",
    "}\n",
    "\n",
    "#We enter these values as `reals` by including the decimal 0\n",
    "toronto_weather = {\n",
    "    \"Monday\": 10.0,\n",
    "    \"Tuesday\" : 12.0,\n",
    "    \"Wednesday\" : 15.0,\n",
    "    \"Thursday\" : 10.0,\n",
    "    \"Friday\" : 9.0,\n",
    "    \"Saturday\" : 6.0,\n",
    "    \"Sunday\" : 6.0\n",
    "    }"
   ]
  },
  {
   "cell_type": "markdown",
   "metadata": {},
   "source": [
    "## Question 3\n",
    "\n",
    "Can you print Mom's phone number to the screen, by adding the `key` into the code cell below?"
   ]
  },
  {
   "cell_type": "code",
   "execution_count": null,
   "metadata": {},
   "outputs": [],
   "source": [
    "print(phone_numbers[\"Mom\"])"
   ]
  },
  {
   "cell_type": "markdown",
   "metadata": {},
   "source": [
    "## Question 4\n",
    "\n",
    "Can print Joe's phone number to the screen using the cell below?"
   ]
  },
  {
   "cell_type": "code",
   "execution_count": null,
   "metadata": {},
   "outputs": [],
   "source": [
    "print(phone_numbers[\"Joe\" ])"
   ]
  },
  {
   "cell_type": "markdown",
   "metadata": {},
   "source": [
    "- Let's find the average recorded for the weekdays\n",
    "- Another Python hint: if you need to go across multiple lines use `\\` like in the following cell\n",
    "- The next cell shows us how we can calculate the average temp for the the weekdays in our data set"
   ]
  },
  {
   "cell_type": "code",
   "execution_count": null,
   "metadata": {},
   "outputs": [],
   "source": [
    "five_day_total = toronto_weather[\"Monday\"] + \\\n",
    "                    toronto_weather[\"Tuesday\"] + \\\n",
    "                    toronto_weather[\"Wednesday\"] + \\\n",
    "                    toronto_weather[\"Thursday\"] + \\\n",
    "                    toronto_weather[\"Friday\"]\n",
    "\n",
    "print(five_day_total / 5)"
   ]
  },
  {
   "cell_type": "markdown",
   "metadata": {},
   "source": [
    "- All of our temp data is in **C**\n",
    "- What if we want to know it in **F**?\n",
    "- Let's combine our knowledge of dictionary keys and math operators to covert these values\n",
    "- Let convert between the two with the well known formula by multiplying by 9/5 and adding 32\n",
    "- The following cell will calculate and print Monday's temp in **F**"
   ]
  },
  {
   "cell_type": "code",
   "execution_count": null,
   "metadata": {},
   "outputs": [],
   "source": [
    "print(toronto_weather[\"Monday\"] * 9/5 + 32)"
   ]
  },
  {
   "cell_type": "markdown",
   "metadata": {},
   "source": [
    "## Question 5\n",
    "\n",
    "Can you print out Thursday's temp in **F**?"
   ]
  },
  {
   "cell_type": "code",
   "execution_count": null,
   "metadata": {},
   "outputs": [],
   "source": [
    "print(toronto_weather[\"Thursday\"] * 9/5 + 32)"
   ]
  },
  {
   "cell_type": "markdown",
   "metadata": {},
   "source": [
    "## Question 6\n",
    "\n",
    "Can you complete the following expression to find out the average temp from the weekend?"
   ]
  },
  {
   "cell_type": "code",
   "execution_count": null,
   "metadata": {},
   "outputs": [],
   "source": [
    "weekend_average  = (toronto_weather[\"Saturday\"] + toronto_weather[\"Sunday\"] ) / 2\n",
    "print(weekend_average)"
   ]
  },
  {
   "cell_type": "markdown",
   "metadata": {},
   "source": [
    "## Question 7\n",
    "\n",
    "Can you print how many days you have been alive for (approximately) using the `age` variable in the following cell?"
   ]
  },
  {
   "cell_type": "code",
   "execution_count": null,
   "metadata": {},
   "outputs": [],
   "source": [
    "age = 41 * 365\n",
    "print(age)"
   ]
  },
  {
   "cell_type": "markdown",
   "metadata": {},
   "source": [
    "## Question 8\n",
    "\n",
    "If you had 45 donuts and you were putting them into boxes that could hold 12 donuts, how many donuts would be in the last box?"
   ]
  },
  {
   "cell_type": "code",
   "execution_count": null,
   "metadata": {},
   "outputs": [],
   "source": [
    "lastbox = 45 % 12\n",
    "print(lastbox)"
   ]
  },
  {
   "cell_type": "markdown",
   "metadata": {},
   "source": [
    "## Question 9\n",
    "\n",
    "Python uses brackets just like in algebra class. Add some round brackets, which look like: ( and ) to the following statements so that it actually prints out the average of the numbers: 10, 15, 20, 10, 15\n"
   ]
  },
  {
   "cell_type": "code",
   "execution_count": null,
   "metadata": {},
   "outputs": [],
   "source": [
    "average = (10 + 15 + 20 + 10 + 15) / 5\n",
    "print(average)"
   ]
  },
  {
   "cell_type": "markdown",
   "metadata": {},
   "source": [
    "## Question 11\n",
    "\n",
    "Can you finish the following loop to print all of the numbers in the list variable called `numbers` in the following cell?"
   ]
  },
  {
   "cell_type": "code",
   "execution_count": null,
   "metadata": {},
   "outputs": [],
   "source": [
    "numbers = [1,2,3,4,5]\n",
    "\n",
    "for digit in numbers:\n",
    "    print(digit)"
   ]
  },
  {
   "cell_type": "markdown",
   "metadata": {},
   "source": [
    "## Question 12\n",
    "\n",
    "Python is pretty smart and will loop through anything that looks like it can be looped through. With a list it will loop through all of the items in the list. With a string variable it will loop through all of the letters found in the string.\n",
    "\n",
    "Can you complete the loop in the next cell so that it prints the letters of Captain Kirk's name?"
   ]
  },
  {
   "cell_type": "code",
   "execution_count": null,
   "metadata": {},
   "outputs": [],
   "source": [
    "name = \"James Tiberius Kirk\"\n",
    "\n",
    "for letter in name:\n",
    "    print(letter)\n"
   ]
  },
  {
   "cell_type": "markdown",
   "metadata": {},
   "source": [
    "## Question 13\n",
    "\n",
    "Let's try one a little more challenging. Can you write a loop in the following cell that will print each letter of the string variable called `alphabet`? You need to completed lines 3 & 4."
   ]
  },
  {
   "cell_type": "code",
   "execution_count": null,
   "metadata": {},
   "outputs": [],
   "source": [
    "alphabet = \"abcdefghijklmnopqrstuvwxyz\"\n",
    "\n",
    "for letter in alphabet:\n",
    "    print(letter)"
   ]
  },
  {
   "cell_type": "markdown",
   "metadata": {},
   "source": [
    "## Question 14\n",
    "\n",
    "Let's try to print out each key and the corresponding value for that key so the results look something like the following:\n",
    "\n",
    "`QC -> Quebec`\n",
    "\n",
    "We'll use a loop to go through each of the keys in our dictionary and then look up each corresponding value. In other words we'll find the full form of the province name by looking up the abbreviation.\n",
    "\n",
    "You just need to modify line 9."
   ]
  },
  {
   "cell_type": "code",
   "execution_count": null,
   "metadata": {},
   "outputs": [],
   "source": [
    "#we setup our loop to go through the province_look_up dictionary\n",
    "for abbreviation in province_look_up:\n",
    "    \n",
    "    #we lookup the value in the dictionary associated with abbreviation\n",
    "    #and put it in a variable called full_name\n",
    "    full_name = province_look_up[abbreviation]\n",
    "    \n",
    "    #you need to construct a complex print statement like described above\n",
    "    print( abbreviation, \" -> \", full_name)   "
   ]
  },
  {
   "cell_type": "markdown",
   "metadata": {},
   "source": [
    "## Question 15\n",
    "\n",
    "Consider the following:"
   ]
  },
  {
   "cell_type": "code",
   "execution_count": null,
   "metadata": {},
   "outputs": [],
   "source": [
    "guess = 8\n",
    "\n",
    "if guess > 10 or guess < 1:\n",
    "    print(\"Your guess is not between 1-10\")\n",
    "else:\n",
    "    print(\"Your guess is between 1 - 10\")\n"
   ]
  },
  {
   "cell_type": "markdown",
   "metadata": {},
   "source": [
    "## Extra credit Question!\n",
    "\n",
    "Try to complete the following code cell. It is the start of a new version of rock/paper/scissors game that uses booleans in the conditionals to make the code shorter. (This is another great example of a lesson you learn about coding, there is often *many* *many* different ways to accomplish the same thing.)"
   ]
  },
  {
   "cell_type": "code",
   "execution_count": null,
   "metadata": {},
   "outputs": [],
   "source": [
    "# Complete the following cell\n",
    "# and change the value of player_1 and player_2 to test out the different parts of the new conditional below\n",
    "#\n",
    "#pick from the following options\n",
    "#  rock\n",
    "#  paper\n",
    "#  scissors\n",
    "\n",
    "player_1 = \"rock\"\n",
    "player_2 = \"rock\"\n",
    "\n",
    "#Tie\n",
    "if player_1 == player_2:\n",
    "    print(\"Tie!\")\n",
    "#Player 1 has rock\n",
    "elif player_1 == \"rock\" and player_2 == \"paper\":\n",
    "    print(\"Player 2 Wins!\")\n",
    "elif player_1 == \"rock\" and player_2 == \"scissors\":\n",
    "    print(\"Player 1 Wins!\")\n",
    "#Player 1 has paper\n",
    "elif player_1 == \"paper\" and player_2 == \"rock\":\n",
    "    print(\"Player 1 Wins!\")\n",
    "elif player_1 == \"paper\" and player_2 == \"scissors\":\n",
    "    print(\"Player 2 Wins!\")\n",
    "#Player 1 has scissor\n",
    "elif player_1 == \"scissors\" and player_2 == \"rock\":\n",
    "    print(\"Player 2 Wins!\")\n",
    "elif player_1 == \"scissors\" and player_2 == \"paper\":\n",
    "    print(\"Player 1 Wins!\")\n",
    "    \n"
   ]
  }
 ],
 "metadata": {
  "kernelspec": {
   "display_name": "Python 3",
   "language": "python",
   "name": "python3"
  },
  "language_info": {
   "codemirror_mode": {
    "name": "ipython",
    "version": 3
   },
   "file_extension": ".py",
   "mimetype": "text/x-python",
   "name": "python",
   "nbconvert_exporter": "python",
   "pygments_lexer": "ipython3",
   "version": "3.7.4"
  }
 },
 "nbformat": 4,
 "nbformat_minor": 2
}
