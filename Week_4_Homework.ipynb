{
 "cells": [
  {
   "cell_type": "markdown",
   "metadata": {},
   "source": [
    "# Week 4\n",
    "\n",
    "This week we are going to look at a concatenated version of a [dataset](https://datadryad.org/stash/dataset/doi:10.5061/dryad.2h4j5). Let's look at this dataset, after we load up our Libraries"
   ]
  },
  {
   "cell_type": "code",
   "execution_count": 1,
   "metadata": {},
   "outputs": [],
   "source": [
    "import pandas\n",
    "\n",
    "#We'll draw a graph later on\n",
    "import matplotlib.pyplot as plt\n",
    "\n",
    "#Our 'Machine Learning pieces'\n",
    "from sklearn.tree import DecisionTreeClassifier \n",
    "from sklearn.model_selection import train_test_split\n",
    "from sklearn import metrics \n",
    "from sklearn import tree"
   ]
  },
  {
   "cell_type": "code",
   "execution_count": 2,
   "metadata": {},
   "outputs": [],
   "source": [
    "citation_data = pandas.read_csv(\"week_4_citation_homework.csv\")"
   ]
  },
  {
   "cell_type": "markdown",
   "metadata": {},
   "source": [
    "Our data is 834 lines from the original dataset that represents the top X journals. The columns are:\n",
    "\n",
    "- Score1\n",
    "- Score2\n",
    "- IF2\n",
    "- IF5\n",
    "- TopCitation - If the citation is among the top 10% this is marked 1, if not \n",
    "\n",
    "We are going to build a model to predict how many citations a paper will get based on characteristics"
   ]
  },
  {
   "cell_type": "code",
   "execution_count": 3,
   "metadata": {},
   "outputs": [
    {
     "data": {
      "text/html": [
       "<div>\n",
       "<style scoped>\n",
       "    .dataframe tbody tr th:only-of-type {\n",
       "        vertical-align: middle;\n",
       "    }\n",
       "\n",
       "    .dataframe tbody tr th {\n",
       "        vertical-align: top;\n",
       "    }\n",
       "\n",
       "    .dataframe thead th {\n",
       "        text-align: right;\n",
       "    }\n",
       "</style>\n",
       "<table border=\"1\" class=\"dataframe\">\n",
       "  <thead>\n",
       "    <tr style=\"text-align: right;\">\n",
       "      <th></th>\n",
       "      <th>Journal</th>\n",
       "      <th>Score1</th>\n",
       "      <th>Score2</th>\n",
       "      <th>IF2</th>\n",
       "      <th>IF5</th>\n",
       "      <th>TopCitation</th>\n",
       "    </tr>\n",
       "  </thead>\n",
       "  <tbody>\n",
       "    <tr>\n",
       "      <td>0</td>\n",
       "      <td>Journal of the American Chemical Society</td>\n",
       "      <td>6</td>\n",
       "      <td>6.0</td>\n",
       "      <td>9.023</td>\n",
       "      <td>8.981</td>\n",
       "      <td>0</td>\n",
       "    </tr>\n",
       "    <tr>\n",
       "      <td>1</td>\n",
       "      <td>Science</td>\n",
       "      <td>8</td>\n",
       "      <td>10.0</td>\n",
       "      <td>31.377</td>\n",
       "      <td>31.777</td>\n",
       "      <td>1</td>\n",
       "    </tr>\n",
       "    <tr>\n",
       "      <td>2</td>\n",
       "      <td>Gastroenterology</td>\n",
       "      <td>6</td>\n",
       "      <td>8.0</td>\n",
       "      <td>12.032</td>\n",
       "      <td>12.403</td>\n",
       "      <td>0</td>\n",
       "    </tr>\n",
       "    <tr>\n",
       "      <td>3</td>\n",
       "      <td>Neuron</td>\n",
       "      <td>8</td>\n",
       "      <td>8.0</td>\n",
       "      <td>14.027</td>\n",
       "      <td>14.927</td>\n",
       "      <td>0</td>\n",
       "    </tr>\n",
       "    <tr>\n",
       "      <td>4</td>\n",
       "      <td>The Journal of Cell Biology</td>\n",
       "      <td>6</td>\n",
       "      <td>6.0</td>\n",
       "      <td>9.921</td>\n",
       "      <td>10.123</td>\n",
       "      <td>0</td>\n",
       "    </tr>\n",
       "  </tbody>\n",
       "</table>\n",
       "</div>"
      ],
      "text/plain": [
       "                                    Journal  Score1  Score2     IF2     IF5  \\\n",
       "0  Journal of the American Chemical Society       6     6.0   9.023   8.981   \n",
       "1                                   Science       8    10.0  31.377  31.777   \n",
       "2                          Gastroenterology       6     8.0  12.032  12.403   \n",
       "3                                    Neuron       8     8.0  14.027  14.927   \n",
       "4               The Journal of Cell Biology       6     6.0   9.921  10.123   \n",
       "\n",
       "   TopCitation  \n",
       "0            0  \n",
       "1            1  \n",
       "2            0  \n",
       "3            0  \n",
       "4            0  "
      ]
     },
     "execution_count": 3,
     "metadata": {},
     "output_type": "execute_result"
    }
   ],
   "source": [
    "citation_data.head()"
   ]
  },
  {
   "cell_type": "code",
   "execution_count": 4,
   "metadata": {},
   "outputs": [],
   "source": [
    "citation_features = [\"Score1\",\"Score2\",\"IF2\",\"IF5\"]\n",
    "citation_target = citation_data.TopCitation\n",
    "\n",
    "X = citation_data[citation_features]\n",
    "y = citation_target"
   ]
  },
  {
   "cell_type": "code",
   "execution_count": 5,
   "metadata": {},
   "outputs": [
    {
     "data": {
      "text/plain": [
       "0.8834586466165414"
      ]
     },
     "execution_count": 5,
     "metadata": {},
     "output_type": "execute_result"
    }
   ],
   "source": [
    "#We'll start with 30 just for fun\n",
    "test_percent = 20\n",
    "\n",
    "X_train, X_test, y_train, y_test = train_test_split(X, \\\n",
    "                                                    y, \\\n",
    "                                                    test_size=test_percent/100.0,\n",
    "                                                   random_state=10)\n",
    "# Create Decision Tree classifer object\n",
    "treeClass = DecisionTreeClassifier()\n",
    "\n",
    "# Train\n",
    "treeClass = treeClass.fit(X_train,y_train)\n",
    "\n",
    "#Predict\n",
    "y_pred = treeClass.predict(X_test)\n",
    "\n",
    "#Accuracy?\n",
    "metrics.accuracy_score(y_test,y_pred)"
   ]
  },
  {
   "cell_type": "code",
   "execution_count": 6,
   "metadata": {},
   "outputs": [
    {
     "name": "stdout",
     "output_type": "stream",
     "text": [
      "              precision    recall  f1-score   support\n",
      "\n",
      "           0       0.90      0.98      0.94       240\n",
      "           1       0.00      0.00      0.00        26\n",
      "\n",
      "    accuracy                           0.88       266\n",
      "   macro avg       0.45      0.49      0.47       266\n",
      "weighted avg       0.81      0.88      0.85       266\n",
      "\n"
     ]
    }
   ],
   "source": [
    "from sklearn.metrics import classification_report\n",
    "print(classification_report(y_test,y_pred))"
   ]
  },
  {
   "cell_type": "code",
   "execution_count": 8,
   "metadata": {},
   "outputs": [
    {
     "data": {
      "image/png": "[encoded data removed]",
      "text/plain": [
       "<Figure size 432x288 with 1 Axes>"
      ]
     },
     "metadata": {
      "needs_background": "light"
     },
     "output_type": "display_data"
    }
   ],
   "source": [
    "test_percent = 30\n",
    "max_options = [1,2,5,10,15]\n",
    "\n",
    "accuracy = []\n",
    "tree_max = []\n",
    "\n",
    "for max_d in max_options:\n",
    "    X_train, X_test, y_train, y_test = train_test_split(X, \\\n",
    "                                                        y, \\\n",
    "                                                        test_size=test_percent/100.0,\n",
    "                                                        random_state=10,\n",
    "                                                       )\n",
    "    \n",
    "    #We set maximum depth in the DecisionTreeClassifer when we first create the variable\n",
    "    treeClassTest = DecisionTreeClassifier(max_depth=max_d)\n",
    "    treeClassTest = treeClassTest.fit(X_train,y_train)\n",
    "    y_pred = treeClassTest.predict(X_test)\n",
    "    score = metrics.accuracy_score(y_test,y_pred)\n",
    "    accuracy.append(score)\n",
    "    tree_max.append(max_d)\n",
    "\n",
    "    \n",
    "plt.plot(max_options,accuracy)\n",
    "plt.ylabel(\"Accuracy\")\n",
    "plt.xlabel(\"Maximum Depth of Tree\")\n",
    "plt.show()"
   ]
  },
  {
   "cell_type": "code",
   "execution_count": 10,
   "metadata": {},
   "outputs": [
    {
     "data": {
      "text/plain": [
       "0.9067796610169492"
      ]
     },
     "execution_count": 10,
     "metadata": {},
     "output_type": "execute_result"
    }
   ],
   "source": [
    "from sklearn.ensemble import RandomForestClassifier\n",
    "\n",
    "\n",
    "\n",
    "\n",
    "test_percent = 20\n",
    "\n",
    "X_train, X_test, y_train, y_test = train_test_split(X, \\\n",
    "                                                    y, \\\n",
    "                                                    test_size=test_percent/100.0,\n",
    "                                                   random_state=10)\n",
    "\n",
    "#Create Random Classifier\n",
    "clf = RandomForestClassifier(n_estimators=5, random_state=0)\n",
    "\n",
    "#Train\n",
    "clf.fit(X_train,y_train)\n",
    "\n",
    "#Predict\n",
    "y_pred = clf.predict(X_train)\n",
    "\n",
    "#Accuracy\n",
    "metrics.accuracy_score(y_train,y_pred)"
   ]
  }
 ],
 "metadata": {
  "kernelspec": {
   "display_name": "Python 3",
   "language": "python",
   "name": "python3"
  },
  "language_info": {
   "codemirror_mode": {
    "name": "ipython",
    "version": 3
   },
   "file_extension": ".py",
   "mimetype": "text/x-python",
   "name": "python",
   "nbconvert_exporter": "python",
   "pygments_lexer": "ipython3",
   "version": "3.7.4"
  }
 },
 "nbformat": 4,
 "nbformat_minor": 2
}
