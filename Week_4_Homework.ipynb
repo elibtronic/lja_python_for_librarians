{
 "cells": [
  {
   "cell_type": "markdown",
   "metadata": {},
   "source": [
    "# Python for Librarians - Week 4 Homework\n",
    "\n",
    "## Machine Learing Madness\n",
    "\n",
    "We are going to take our new knowledge of ML and apply it to a different dataset. This week we are going to look at a concatenated version of this [dataset](https://datadryad.org/stash/dataset/doi:10.5061/dryad.2h4j5). Once we get the pieces in place we'll describe a bit more about what kind of analysis we are hoping to accomplish."
   ]
  },
  {
   "cell_type": "code",
   "execution_count": 39,
   "metadata": {},
   "outputs": [],
   "source": [
    "import pandas\n",
    "\n",
    "#We'll draw a graph later on\n",
    "import matplotlib.pyplot as plt\n",
    "import numpy as np\n",
    "\n",
    "#Our 'Machine Learning pieces'\n",
    "from sklearn.tree import DecisionTreeClassifier\n",
    "from sklearn.ensemble import RandomForestClassifier\n",
    "from sklearn.model_selection import train_test_split\n",
    "from sklearn import metrics \n",
    "from sklearn import tree"
   ]
  },
  {
   "cell_type": "code",
   "execution_count": 2,
   "metadata": {},
   "outputs": [],
   "source": [
    "#Load up our data\n",
    "citation_data = pandas.read_csv(\"https://raw.githubusercontent.com/elibtronic/lja_datasets/master/week_4_homework_citation.csv\")"
   ]
  },
  {
   "cell_type": "code",
   "execution_count": 4,
   "metadata": {},
   "outputs": [
    {
     "data": {
      "text/html": [
       "<div>\n",
       "<style scoped>\n",
       "    .dataframe tbody tr th:only-of-type {\n",
       "        vertical-align: middle;\n",
       "    }\n",
       "\n",
       "    .dataframe tbody tr th {\n",
       "        vertical-align: top;\n",
       "    }\n",
       "\n",
       "    .dataframe thead th {\n",
       "        text-align: right;\n",
       "    }\n",
       "</style>\n",
       "<table border=\"1\" class=\"dataframe\">\n",
       "  <thead>\n",
       "    <tr style=\"text-align: right;\">\n",
       "      <th></th>\n",
       "      <th>Journal</th>\n",
       "      <th>Score1</th>\n",
       "      <th>Score2</th>\n",
       "      <th>IF2</th>\n",
       "      <th>IF5</th>\n",
       "      <th>TopCitation</th>\n",
       "    </tr>\n",
       "  </thead>\n",
       "  <tbody>\n",
       "    <tr>\n",
       "      <td>440</td>\n",
       "      <td>Current Biology</td>\n",
       "      <td>6</td>\n",
       "      <td>6.0</td>\n",
       "      <td>10.026</td>\n",
       "      <td>11.436</td>\n",
       "      <td>0</td>\n",
       "    </tr>\n",
       "    <tr>\n",
       "      <td>701</td>\n",
       "      <td>Nature</td>\n",
       "      <td>8</td>\n",
       "      <td>8.0</td>\n",
       "      <td>36.104</td>\n",
       "      <td>35.248</td>\n",
       "      <td>0</td>\n",
       "    </tr>\n",
       "    <tr>\n",
       "      <td>1052</td>\n",
       "      <td>Nature</td>\n",
       "      <td>8</td>\n",
       "      <td>8.0</td>\n",
       "      <td>36.104</td>\n",
       "      <td>35.248</td>\n",
       "      <td>1</td>\n",
       "    </tr>\n",
       "    <tr>\n",
       "      <td>1092</td>\n",
       "      <td>Science</td>\n",
       "      <td>8</td>\n",
       "      <td>8.0</td>\n",
       "      <td>31.377</td>\n",
       "      <td>31.777</td>\n",
       "      <td>1</td>\n",
       "    </tr>\n",
       "    <tr>\n",
       "      <td>956</td>\n",
       "      <td>Development</td>\n",
       "      <td>6</td>\n",
       "      <td>8.0</td>\n",
       "      <td>6.898</td>\n",
       "      <td>7.476</td>\n",
       "      <td>0</td>\n",
       "    </tr>\n",
       "    <tr>\n",
       "      <td>808</td>\n",
       "      <td>Neuron</td>\n",
       "      <td>8</td>\n",
       "      <td>6.0</td>\n",
       "      <td>14.027</td>\n",
       "      <td>14.927</td>\n",
       "      <td>0</td>\n",
       "    </tr>\n",
       "    <tr>\n",
       "      <td>316</td>\n",
       "      <td>Nature</td>\n",
       "      <td>8</td>\n",
       "      <td>8.0</td>\n",
       "      <td>36.104</td>\n",
       "      <td>35.248</td>\n",
       "      <td>0</td>\n",
       "    </tr>\n",
       "    <tr>\n",
       "      <td>215</td>\n",
       "      <td>Cell</td>\n",
       "      <td>6</td>\n",
       "      <td>6.0</td>\n",
       "      <td>32.406</td>\n",
       "      <td>34.931</td>\n",
       "      <td>0</td>\n",
       "    </tr>\n",
       "    <tr>\n",
       "      <td>178</td>\n",
       "      <td>Gastroenterology</td>\n",
       "      <td>6</td>\n",
       "      <td>8.0</td>\n",
       "      <td>12.032</td>\n",
       "      <td>12.403</td>\n",
       "      <td>0</td>\n",
       "    </tr>\n",
       "    <tr>\n",
       "      <td>432</td>\n",
       "      <td>The Journal of Neuroscience</td>\n",
       "      <td>8</td>\n",
       "      <td>6.0</td>\n",
       "      <td>7.271</td>\n",
       "      <td>8.068</td>\n",
       "      <td>0</td>\n",
       "    </tr>\n",
       "  </tbody>\n",
       "</table>\n",
       "</div>"
      ],
      "text/plain": [
       "                          Journal  Score1  Score2     IF2     IF5  TopCitation\n",
       "440               Current Biology       6     6.0  10.026  11.436            0\n",
       "701                        Nature       8     8.0  36.104  35.248            0\n",
       "1052                       Nature       8     8.0  36.104  35.248            1\n",
       "1092                      Science       8     8.0  31.377  31.777            1\n",
       "956                   Development       6     8.0   6.898   7.476            0\n",
       "808                        Neuron       8     6.0  14.027  14.927            0\n",
       "316                        Nature       8     8.0  36.104  35.248            0\n",
       "215                          Cell       6     6.0  32.406  34.931            0\n",
       "178              Gastroenterology       6     8.0  12.032  12.403            0\n",
       "432   The Journal of Neuroscience       8     6.0   7.271   8.068            0"
      ]
     },
     "execution_count": 4,
     "metadata": {},
     "output_type": "execute_result"
    }
   ],
   "source": [
    "#Run this cell a few times to get a look at the data\n",
    "citation_data.sample(10)"
   ]
  },
  {
   "cell_type": "markdown",
   "metadata": {},
   "source": [
    "Our data is 834 lines from the original dataset and we the following columns:\n",
    "\n",
    "- Score1\n",
    "- Score2\n",
    "- IF2\n",
    "- IF5\n",
    "- TopCitation - If the citation is among the top 10% this is marked 1, if not \n",
    "\n",
    "We are going to build an ML model that will see if we can predict if an entry will be in the top 10% of all cited articles in this dataset"
   ]
  },
  {
   "cell_type": "markdown",
   "metadata": {},
   "source": [
    "## Q1\n",
    "\n",
    "In the next cell uncomment the correct lines to identify the features and the targets that this model will be built with. You need to uncomment 1 line between lines: 3 & 10 and uncomment one line between lines: 14 & 18."
   ]
  },
  {
   "cell_type": "code",
   "execution_count": 7,
   "metadata": {},
   "outputs": [],
   "source": [
    "#Which set of columns will be our features?\n",
    "\n",
    "#citation_features = [\"Score1\"]\n",
    "#citation_features = [\"Score1\",\"Score2\",\"IF2\",\"IF5\",\"TopCitation\"]\n",
    "#citation_features = [\"Score1\",\"Score2\"]\n",
    "#citation_features = [\"Score1\",\"Score2\",\"IF2\",\"IF5\"]\n",
    "#citation_features = [\"Score1\",\"Score2\",\"IF2\"]\n",
    "#citation_features = [\"TopCitation\"]\n",
    "#citation_features = [\"TopCitation\",\"Score1\"]\n",
    "#citation_features = [\"TopCitation\",\"IF2\",\"IF5\"]\n",
    "\n",
    "#Which column will be our target?\n",
    "\n",
    "#citation_target = [\"Score1\"]\n",
    "#citation_target = [\"Score2\"]\n",
    "#citation_target = [\"IF2\"]\n",
    "#citation_target = [\"IF5\"]\n",
    "#citation_target = [\"TopCitation\"]\n",
    "\n",
    "X = citation_data[citation_features]\n",
    "y = citation_data[citation_target]"
   ]
  },
  {
   "cell_type": "markdown",
   "metadata": {},
   "source": [
    "Run the next cell to build the Decision Tree Classifier model and get the accuracy of the model with no parameter changes."
   ]
  },
  {
   "cell_type": "code",
   "execution_count": null,
   "metadata": {},
   "outputs": [],
   "source": [
    "#We'll start with 20 just for fun\n",
    "test_percent = 20\n",
    "\n",
    "X_train, X_test, y_train, y_test = train_test_split(X, \\\n",
    "                                                    y, \\\n",
    "                                                    test_size=test_percent/100.0,\n",
    "                                                   random_state=10)\n",
    "# Create Decision Tree classifer object\n",
    "treeClass = DecisionTreeClassifier()\n",
    "\n",
    "# Train\n",
    "treeClass = treeClass.fit(X_train,y_train)\n",
    "\n",
    "#Predict\n",
    "y_pred = treeClass.predict(X_test)\n",
    "\n",
    "#Accuracy?\n",
    "print(\"Accuracy of our model: \")\n",
    "metrics.accuracy_score(y_test,y_pred)"
   ]
  },
  {
   "cell_type": "markdown",
   "metadata": {},
   "source": [
    "## Q2\n",
    "\n",
    "Let's see what effect changing the testing percent has on accuracy. In the cell below add some values in the `test_percents` list to test this and view the corresponding graph. You need to modify line 2."
   ]
  },
  {
   "cell_type": "code",
   "execution_count": null,
   "metadata": {},
   "outputs": [],
   "source": [
    "#add some values between 1 - 99 in a comman separated list in the next line\n",
    "testing_percents = [,,,,]\n",
    "\n",
    "accuracy = []\n",
    "training_percents = []\n",
    "\n",
    "for test_ratio in testing_percents:\n",
    "    X_train, X_test, y_train, y_test = train_test_split(X, \\\n",
    "                                                        y, \\\n",
    "                                                        test_size=test_ratio/100.0, \\\n",
    "                                                        random_state=10)\n",
    "    treeClassTest = DecisionTreeClassifier()\n",
    "    treeClassTest = treeClassTest.fit(X_train,y_train)\n",
    "    y_pred = treeClassTest.predict(X_test)\n",
    "    score = metrics.accuracy_score(y_test,y_pred)\n",
    "    accuracy.append(score)\n",
    "    training_percents.append(100 - test_ratio)\n",
    "\n",
    "    \n",
    "plt.plot(training_percents,accuracy)\n",
    "plt.ylabel(\"Accuracy in %\")\n",
    "plt.xlabel(\"Training Size %\")\n",
    "plt.show()"
   ]
  },
  {
   "cell_type": "markdown",
   "metadata": {},
   "source": [
    "## Q3\n",
    "\n",
    "Let's wee what effect changing the maximum depth has on accuracy. In the cell below add some values in the max_options list to test this and view the corresponding graph. You need to modify line 5."
   ]
  },
  {
   "cell_type": "code",
   "execution_count": null,
   "metadata": {},
   "outputs": [],
   "source": [
    "#We'll fix this at 20% for this investigation\n",
    "test_percent = 20\n",
    "\n",
    "#add some values between 1 - 30 in a comma separated list in the next line\n",
    "max_options = [,,,,]\n",
    "\n",
    "accuracy = []\n",
    "tree_max = []\n",
    "\n",
    "for max_d in max_options:\n",
    "    X_train, X_test, y_train, y_test = train_test_split(X, \\\n",
    "                                                        y, \\\n",
    "                                                        test_size=test_percent/100.0,\n",
    "                                                        random_state=10,\n",
    "                                                       )\n",
    "    \n",
    "    #We set maximum depth in the DecisionTreeClassifer when we first create the variable\n",
    "    treeClassTest = DecisionTreeClassifier(max_depth=max_d)\n",
    "    treeClassTest = treeClassTest.fit(X_train,y_train)\n",
    "    y_pred = treeClassTest.predict(X_test)\n",
    "    score = metrics.accuracy_score(y_test,y_pred)\n",
    "    accuracy.append(score)\n",
    "    tree_max.append(max_d)\n",
    "\n",
    "    \n",
    "plt.plot(max_options,accuracy)\n",
    "plt.ylabel(\"Accuracy\")\n",
    "plt.xlabel(\"Maximum Depth of Tree\")\n",
    "plt.show()"
   ]
  },
  {
   "cell_type": "markdown",
   "metadata": {},
   "source": [
    "## Maximizing and minimizing our accuracy\n",
    "\n",
    "Use the cell below to answer questions 4 and 5. You can modify the values on line 2 & 3"
   ]
  },
  {
   "cell_type": "code",
   "execution_count": null,
   "metadata": {},
   "outputs": [],
   "source": [
    "\n",
    "test_percent = \n",
    "max_d = \n",
    "\n",
    "X_train, X_test, y_train, y_test = train_test_split(X, \\\n",
    "                                                    y, \\\n",
    "                                                    test_size=test_percent/100.0,\n",
    "                                                    random_state=10,\n",
    "                                                    )\n",
    "    \n",
    "treeClassTest = DecisionTreeClassifier(max_depth=max_d)\n",
    "treeClassTest = treeClassTest.fit(X_train,y_train)\n",
    "y_pred = treeClassTest.predict(X_test)\n",
    "\n",
    "#Accuracy?\n",
    "print(\"Calculated accuracy: \")\n",
    "metrics.accuracy_score(y_test,y_pred)\n",
    "\n",
    "    \n"
   ]
  },
  {
   "cell_type": "markdown",
   "metadata": {},
   "source": [
    "## Q4\n",
    "\n",
    "What combination of parameters above led the highest accuracy?"
   ]
  },
  {
   "cell_type": "markdown",
   "metadata": {},
   "source": [
    "I got the highest accuracy by..."
   ]
  },
  {
   "cell_type": "markdown",
   "metadata": {},
   "source": [
    "## Q5\n",
    "\n",
    "What combination of parameters above led to the lowest accuracy?"
   ]
  },
  {
   "cell_type": "markdown",
   "metadata": {},
   "source": [
    "I got the lowest accuracy by..."
   ]
  },
  {
   "cell_type": "markdown",
   "metadata": {},
   "source": [
    "## From Trees to Forests\n",
    "\n",
    "We've explored the accuracy of our ML model when we just created one tree. Let's see if we can increase this with a forest of trees for our citation information. Try some different values in for the two parameters on line 1 and line 2."
   ]
  },
  {
   "cell_type": "code",
   "execution_count": null,
   "metadata": {
    "scrolled": true
   },
   "outputs": [],
   "source": [
    "test_percent = \n",
    "number_estimators = \n",
    "\n",
    "X_train, X_test, y_train, y_test = train_test_split(X, \\\n",
    "                                                    y, \\\n",
    "                                                    test_size=test_percent/100.0,\n",
    "                                                   random_state=10)\n",
    "\n",
    "#Create Random Classifier\n",
    "clf = RandomForestClassifier(n_estimators=number_estimators, random_state=0)\n",
    "\n",
    "#Train\n",
    "clf.fit(X_train,np.ravel(y_train))\n",
    "\n",
    "#Predict\n",
    "y_pred = clf.predict(X_train)\n",
    "\n",
    "#Accuracy\n",
    "print(\"Accuracy?\")\n",
    "metrics.accuracy_score(y_train,y_pred)"
   ]
  },
  {
   "cell_type": "markdown",
   "metadata": {},
   "source": [
    "## Q6\n",
    "\n",
    "What combination of `test_percent` and `number_estimators` led the highest accuracy?"
   ]
  },
  {
   "cell_type": "markdown",
   "metadata": {},
   "source": [
    "I got the highest accuracy by..."
   ]
  },
  {
   "cell_type": "markdown",
   "metadata": {},
   "source": [
    "## Q7\n",
    "\n",
    "What combination of `test_percent` and `number_estimators` led the lowest accuracy?"
   ]
  },
  {
   "cell_type": "markdown",
   "metadata": {},
   "source": [
    "I got the lowest accuracy by..."
   ]
  },
  {
   "cell_type": "markdown",
   "metadata": {},
   "source": [
    "# Congratuations!\n",
    "\n",
    "You've now officially completed Python for Librarians! Be sure to save as a PDF and upload to the Library Juice Academy Course website.\n",
    "\n",
    "Thanks for taking this class and giving Python a try. I have put together all of the datasets I've used for this class in a [github repository](https://github.com/elibtronic/lja_datasets) Feel free to open up a fresh Google Collab notebook and load a CSV file to peform some analysis or to build some machine learning models. Please drop me a [line](https://twitter.com/elibtronic/) if you'wd like to talk more about this topic or if you have notebook you'd like to share."
   ]
  }
 ],
 "metadata": {
  "kernelspec": {
   "display_name": "Python 3",
   "language": "python",
   "name": "python3"
  },
  "language_info": {
   "codemirror_mode": {
    "name": "ipython",
    "version": 3
   },
   "file_extension": ".py",
   "mimetype": "text/x-python",
   "name": "python",
   "nbconvert_exporter": "python",
   "pygments_lexer": "ipython3",
   "version": "3.7.4"
  }
 },
 "nbformat": 4,
 "nbformat_minor": 2
}
