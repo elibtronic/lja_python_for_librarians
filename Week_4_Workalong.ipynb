{
 "cells": [
  {
   "cell_type": "markdown",
   "metadata": {},
   "source": [
    "# Python for Librarians - Week 4 Workalong\n",
    "\n",
    "For this week's material we are going to really dig into our theme of data science. We are going to be doing some machine learning on the same data set we saw in week 2. The point of this will be to determine if we can derive any **insights** from the data. Basically any characterists, themes, trends, or patterns we might be able to make some predictions with. The idea is that these **insights** would be difficult for a person to spot by looking at the data directly. We are going to rely on the computer to do this for us. In this case we'll be using the [SciKit Learn](https://scikit-learn.org/stable/) Python Library to do this.\n",
    "\n",
    "We will also build more experience with visualizations using the matplotlib Python Library."
   ]
  },
  {
   "cell_type": "markdown",
   "metadata": {},
   "source": [
    "## Machine Learning Basics\n",
    "\n",
    "You'll see lots of news converage these days about algorithms, how they are applied, and the way they are exploited. Certainly the readings you've been examining for this class have been build around this theme. Our investigation into machine learning (ML for short) is meant to pull back the curtain around the mystique. At the end of the material you'll have a good understanding of the weaknesses of ML. It's built on automatically making guesses on data that it is fed. Yup, that's about it. (ML practitioners don't often brag about this.) So with that said don't let the impressive name fool you. ML is basically easily defined in the list of following steps:\n",
    "\n",
    "1. Getting your data and cleaning it up\n",
    "1. Identify what parts of your data are **features**\n",
    "1. Identify what is your **target variable** that you'll guess based on your features\n",
    "1. Split your data in **training and testing sets**\n",
    "1. **Train** your model against the training dataset\n",
    "1. **Test** your model against the testing dataset\n",
    "1. ????\n",
    "1. Profit\n",
    "\n",
    "Or in other works, we take a big swath of data, pick one thing in that data we'd like to minimize/maximize and we use the relations to the other columns of data to make that happen. This will get more clear as we continue. Specifically speaking we are going to be doing a [classification](https://en.wikipedia.org/wiki/Statistical_classification) problem. The diagram that follows is a good representation of this:\n",
    "\n",
    "![classification](https://raw.githubusercontent.com/BrockDSL/Machine_Learning_with_Python/master/classification.png)\n",
    "\n",
    "So basically we have a collection of data points (some blue, some red) and we want to divide those points into two classifications using some automatic process. The right side of the diagram shows one potential classification. A 'class' of blue points, anothe of red points, and another class for those in the middle that we can't reliable group into blue or red.\n"
   ]
  },
  {
   "cell_type": "markdown",
   "metadata": {},
   "source": [
    "## Decision Tree\n",
    "\n",
    "This is one of the most basic machine learning model you can use. It is considered a [supervised learning](https://en.wikipedia.org/wiki/Supervised_learning) method. You create the best [decision tree](https://en.wikipedia.org/wiki/Decision_tree_learning) that you can based on your training data. Here's an example tree that shows your chance of surviving the Titanic disaster. What we are creating is series of question that when answered will put observations into a _bucket_ or in other terms one of the classification options. We also devise a probability associated with an observation falling into that _bucket_.\n",
    "\n",
    "The features are described by the labels, however ``sibsp`` - is the number of spouses or siblings on board.\n",
    "\n",
    "![dtree](https://upload.wikimedia.org/wikipedia/commons/e/eb/Decision_Tree.jpg)\n",
    "\n",
    "You start at the root of the tree and answer the questions about your data point. Eventually you'll hit a bucket that you can but your data point in. In our example here we have two different buckets: **survived** & **died**. Put in another way, this tree tells us that the most important question to ask first is what is the gender of the person you are considering, then next most important question is age above 9 and a half, followed lastly by, does this person have less than three spouses or siblings on board. We construct this tree using only some of our data, then we use the rest of our data to test how good our tree is. Once that is done with have an ML model we can use to make predictions on data it has never seen."
   ]
  },
  {
   "cell_type": "markdown",
   "metadata": {},
   "source": [
    "With all of that preamble out of the way. Let's start some code. Run the next cell to load up all of the Libraries we'll need for this week's lesson."
   ]
  },
  {
   "cell_type": "code",
   "execution_count": 30,
   "metadata": {},
   "outputs": [],
   "source": [
    "#This should look familar\n",
    "import pandas\n",
    "import numpy\n",
    "\n",
    "#We'll draw a graph later on\n",
    "import matplotlib.pyplot as plt\n",
    "\n",
    "#Our 'ML pieces'\n",
    "from sklearn.tree import DecisionTreeClassifier \n",
    "from sklearn.model_selection import train_test_split\n",
    "from sklearn import metrics \n",
    "from sklearn import tree\n",
    "from sklearn.ensemble import RandomForestClassifier"
   ]
  },
  {
   "cell_type": "markdown",
   "metadata": {},
   "source": [
    "This next two cells should look familar, we are loading up the CSV file from week two and putting it in a pandas dataframe. (The dataset is a bit modified and truncated just to make life a bit easier)"
   ]
  },
  {
   "cell_type": "code",
   "execution_count": 31,
   "metadata": {},
   "outputs": [],
   "source": [
    "#We'll reuse the same data set from Week 2, the circulation stats from\n",
    "# the SF Library system\n",
    "sf_data = pandas.read_csv(\"https://raw.githubusercontent.com/elibtronic/lja_datasets/master/week_4_workalong_san_francisco.csv\")\n"
   ]
  },
  {
   "cell_type": "code",
   "execution_count": 33,
   "metadata": {},
   "outputs": [
    {
     "data": {
      "text/html": [
       "<div>\n",
       "<style scoped>\n",
       "    .dataframe tbody tr th:only-of-type {\n",
       "        vertical-align: middle;\n",
       "    }\n",
       "\n",
       "    .dataframe tbody tr th {\n",
       "        vertical-align: top;\n",
       "    }\n",
       "\n",
       "    .dataframe thead th {\n",
       "        text-align: right;\n",
       "    }\n",
       "</style>\n",
       "<table border=\"1\" class=\"dataframe\">\n",
       "  <thead>\n",
       "    <tr style=\"text-align: right;\">\n",
       "      <th></th>\n",
       "      <th>Patron Type Definition</th>\n",
       "      <th>Total Checkouts</th>\n",
       "      <th>Total Renewals</th>\n",
       "      <th>Circulation Active Year</th>\n",
       "    </tr>\n",
       "  </thead>\n",
       "  <tbody>\n",
       "    <tr>\n",
       "      <td>246387</td>\n",
       "      <td>1</td>\n",
       "      <td>154</td>\n",
       "      <td>67</td>\n",
       "      <td>2014</td>\n",
       "    </tr>\n",
       "    <tr>\n",
       "      <td>172326</td>\n",
       "      <td>1</td>\n",
       "      <td>0</td>\n",
       "      <td>0</td>\n",
       "      <td>0</td>\n",
       "    </tr>\n",
       "    <tr>\n",
       "      <td>170712</td>\n",
       "      <td>1</td>\n",
       "      <td>19</td>\n",
       "      <td>38</td>\n",
       "      <td>2011</td>\n",
       "    </tr>\n",
       "    <tr>\n",
       "      <td>7249</td>\n",
       "      <td>1</td>\n",
       "      <td>1</td>\n",
       "      <td>0</td>\n",
       "      <td>2016</td>\n",
       "    </tr>\n",
       "    <tr>\n",
       "      <td>374699</td>\n",
       "      <td>0</td>\n",
       "      <td>21</td>\n",
       "      <td>0</td>\n",
       "      <td>2014</td>\n",
       "    </tr>\n",
       "    <tr>\n",
       "      <td>255220</td>\n",
       "      <td>1</td>\n",
       "      <td>2</td>\n",
       "      <td>0</td>\n",
       "      <td>2016</td>\n",
       "    </tr>\n",
       "    <tr>\n",
       "      <td>125062</td>\n",
       "      <td>1</td>\n",
       "      <td>189</td>\n",
       "      <td>76</td>\n",
       "      <td>2016</td>\n",
       "    </tr>\n",
       "    <tr>\n",
       "      <td>342753</td>\n",
       "      <td>2</td>\n",
       "      <td>0</td>\n",
       "      <td>0</td>\n",
       "      <td>0</td>\n",
       "    </tr>\n",
       "    <tr>\n",
       "      <td>190968</td>\n",
       "      <td>1</td>\n",
       "      <td>1</td>\n",
       "      <td>0</td>\n",
       "      <td>2015</td>\n",
       "    </tr>\n",
       "    <tr>\n",
       "      <td>367453</td>\n",
       "      <td>2</td>\n",
       "      <td>194</td>\n",
       "      <td>2</td>\n",
       "      <td>2013</td>\n",
       "    </tr>\n",
       "  </tbody>\n",
       "</table>\n",
       "</div>"
      ],
      "text/plain": [
       "        Patron Type Definition  Total Checkouts  Total Renewals  \\\n",
       "246387                       1              154              67   \n",
       "172326                       1                0               0   \n",
       "170712                       1               19              38   \n",
       "7249                         1                1               0   \n",
       "374699                       0               21               0   \n",
       "255220                       1                2               0   \n",
       "125062                       1              189              76   \n",
       "342753                       2                0               0   \n",
       "190968                       1                1               0   \n",
       "367453                       2              194               2   \n",
       "\n",
       "        Circulation Active Year  \n",
       "246387                     2014  \n",
       "172326                        0  \n",
       "170712                     2011  \n",
       "7249                       2016  \n",
       "374699                     2014  \n",
       "255220                     2016  \n",
       "125062                     2016  \n",
       "342753                        0  \n",
       "190968                     2015  \n",
       "367453                     2013  "
      ]
     },
     "execution_count": 33,
     "metadata": {},
     "output_type": "execute_result"
    }
   ],
   "source": [
    "#Run this a few times to seem more glimpses of the data.\n",
    "sf_data.sample(10)"
   ]
  },
  {
   "cell_type": "markdown",
   "metadata": {},
   "source": [
    "----\n",
    "\n",
    "## Prepping the data for our ML model\n",
    "\n",
    "Our **Target** variable is going to be based on the following:"
   ]
  },
  {
   "cell_type": "code",
   "execution_count": 27,
   "metadata": {},
   "outputs": [
    {
     "data": {
      "text/plain": [
       "1    313870\n",
       "2     88024\n",
       "0     21554\n",
       "Name: Patron Type Definition, dtype: int64"
      ]
     },
     "execution_count": 27,
     "metadata": {},
     "output_type": "execute_result"
    }
   ],
   "source": [
    "#Let's use our Panda knowledge to see what categories are we looking at\n",
    "sf_data[\"Patron Type Definition\"].value_counts()\n"
   ]
  },
  {
   "cell_type": "markdown",
   "metadata": {},
   "source": [
    "So we have 3 types of patrons:\n",
    "- category 0\n",
    "- category 1\n",
    "- category 2\n",
    "\n",
    "This will be our 'target' or the thing we'll try to guess.\n",
    "\n",
    "We are going to build our ML model to be able to guess what category a patron is based on:\n",
    "- total checkouts\n",
    "- total reviewals\n",
    "- circulation active year\n",
    "\n",
    "These 3 columns will be our features\n",
    "\n",
    "\n",
    "The next cell will built the lists that will hold this data"
   ]
  },
  {
   "cell_type": "code",
   "execution_count": 34,
   "metadata": {},
   "outputs": [],
   "source": [
    "features = [\"Total Checkouts\", \"Total Renewals\", \"Circulation Active Year\"]\n",
    "#The usual notation is to put all of the features into a variable called X\n",
    "X = sf_data[features]\n",
    "\n",
    "target = sf_data[\"Patron Type Definition\"]\n",
    "#Similarly the target is often put in a variable called y\n",
    "y = target\n"
   ]
  },
  {
   "cell_type": "markdown",
   "metadata": {},
   "source": [
    "With these pieces done we'll now build our ML Decision Tree Classifier. Don't worry if this cell looks complicated you'll learn about the important pieces in it soon enough"
   ]
  },
  {
   "cell_type": "code",
   "execution_count": 36,
   "metadata": {},
   "outputs": [],
   "source": [
    "#what percentage of the dataset will we devote to testing our tree\n",
    "#the remaining 80% of the data will be used for training\n",
    "test_percent = 0.2\n",
    "\n",
    "\n",
    "#train_test_split takes our data and creates for different sets with it\n",
    "X_train, X_test, y_train, y_test = train_test_split(X, \\\n",
    "                                                    y, \\\n",
    "                                                    test_size= test_percent,\n",
    "                                                   random_state=10)\n",
    "# Create a Decision Tree classifer object\n",
    "treeClass = DecisionTreeClassifier()\n",
    "\n",
    "# We give our decision tree our training data. This is that it uses to build the tree\n",
    "treeClass = treeClass.fit(X_train,y_train)\n",
    "\n",
    "# We now test how accurate the tree is by giving it our testing data and seeing how\n",
    "#the decision tree it created scores those values\n",
    "y_pred = treeClass.predict(X_test)\n",
    "\n"
   ]
  },
  {
   "cell_type": "markdown",
   "metadata": {},
   "source": [
    "## That's it?\n",
    "\n",
    "Yup that's it. We separated the data into features and our target then we split the rows in testing and training data. Line 12 built the model in a variable called `treeClass`. Line 15 trained it, our in other parlance _fit_ it against the data. Line 19 tested against the test set, or in otherwords _predicted_ what guess our model would make. Let' evaluate the model by printing out how accurate it is. The next cell does this."
   ]
  },
  {
   "cell_type": "code",
   "execution_count": 37,
   "metadata": {},
   "outputs": [
    {
     "data": {
      "text/plain": [
       "0.7111701499586728"
      ]
     },
     "execution_count": 37,
     "metadata": {},
     "output_type": "execute_result"
    }
   ],
   "source": [
    "#What is the accuracy of our ML Model?\n",
    "metrics.accuracy_score(y_test,y_pred)"
   ]
  },
  {
   "cell_type": "markdown",
   "metadata": {},
   "source": [
    "So right out of the box the ML model can accurately classify **71%** of the data in the dataset. Let's just take a second to think about this. Based on just 3 values we can guess the type of patron we are looking at with 71% accuracy. Now imagine what services like Google can do with the data they have. It is worth noting though that the model is as long as good as the data it is built on. Prejudiced data will lead to prejudiced models.\n",
    "\n",
    "----\n",
    "\n",
    "## Hyperparameters - Testing Set Size\n",
    "\n",
    "Let's return to our code. We are now going to fiddle with some paramaters to hopefully increase accuracy. In our next cell we are going to experiment with using different amounts of our data for testing. We'll also graph out the accuracy when we adjust this value. Run the next cell a few times to see your graph change shape."
   ]
  },
  {
   "cell_type": "code",
   "execution_count": null,
   "metadata": {},
   "outputs": [],
   "source": []
  },
  {
   "cell_type": "markdown",
   "metadata": {},
   "source": [
    "## Why is my graph changing?"
   ]
  },
  {
   "cell_type": "markdown",
   "metadata": {},
   "source": [
    "## Hyperparameters - Maximium Tree Depth"
   ]
  },
  {
   "cell_type": "code",
   "execution_count": 23,
   "metadata": {},
   "outputs": [
    {
     "data": {
      "image/png": "[encoded data removed]",
      "text/plain": [
       "<Figure size 432x288 with 1 Axes>"
      ]
     },
     "metadata": {
      "needs_background": "light"
     },
     "output_type": "display_data"
    }
   ],
   "source": [
    "test_percent = 20\n",
    "max_options = [1,2,3,4,5,10,20,30]\n",
    "\n",
    "accuracy = []\n",
    "tree_max = []\n",
    "\n",
    "for max_d in max_options:\n",
    "    X_train, X_test, y_train, y_test = train_test_split(X, \\\n",
    "                                                        y, \\\n",
    "                                                        test_size=test_percent/100.0,\n",
    "                                                        random_state=10,\n",
    "                                                       )\n",
    "    \n",
    "    #We set maximum depth in the DecisionTreeClassifer when we first create the variable\n",
    "    treeClassTest = DecisionTreeClassifier(max_depth=max_d)\n",
    "    treeClassTest = treeClassTest.fit(X_train,y_train)\n",
    "    y_pred = treeClassTest.predict(X_test)\n",
    "    score = metrics.accuracy_score(y_test,y_pred)\n",
    "    accuracy.append(score)\n",
    "    tree_max.append(max_d)\n",
    "\n",
    "    \n",
    "plt.plot(max_options,accuracy)\n",
    "plt.ylabel(\"Accuracy\")\n",
    "plt.xlabel(\"Maximum Depth of Tree\")\n",
    "plt.show()"
   ]
  },
  {
   "cell_type": "markdown",
   "metadata": {},
   "source": [
    "# Making Predictions"
   ]
  },
  {
   "cell_type": "code",
   "execution_count": 24,
   "metadata": {},
   "outputs": [
    {
     "data": {
      "text/plain": [
       "array([[0., 1., 0.]])"
      ]
     },
     "execution_count": 24,
     "metadata": {},
     "output_type": "execute_result"
    }
   ],
   "source": [
    "guess = [50,100,2018]\n",
    "\n",
    "dp = pandas.DataFrame([guess],columns=X_test.columns)\n",
    "treeClass.predict_proba(dp)"
   ]
  },
  {
   "cell_type": "markdown",
   "metadata": {},
   "source": [
    "----\n",
    "\n",
    "\n",
    "# RandomForest \n",
    "\n",
    "## Lots of decision trees"
   ]
  },
  {
   "cell_type": "code",
   "execution_count": 38,
   "metadata": {},
   "outputs": [
    {
     "data": {
      "text/plain": [
       "0.8004357092673826"
      ]
     },
     "execution_count": 38,
     "metadata": {},
     "output_type": "execute_result"
    }
   ],
   "source": [
    "\n",
    "\n",
    "\n",
    "\n",
    "\n",
    "test_percent = 20\n",
    "\n",
    "X_train, X_test, y_train, y_test = train_test_split(X, \\\n",
    "                                                    y, \\\n",
    "                                                    test_size=test_percent/100.0,\n",
    "                                                   random_state=10)\n",
    "\n",
    "#Create Random Classifier\n",
    "clf = RandomForestClassifier(n_estimators=5, random_state=0)\n",
    "\n",
    "#Train\n",
    "clf.fit(X_train,y_train)\n",
    "\n",
    "#Predict\n",
    "y_pred = clf.predict(X_train)\n",
    "\n",
    "#Accuracy\n",
    "metrics.accuracy_score(y_train,y_pred)"
   ]
  }
 ],
 "metadata": {
  "kernelspec": {
   "display_name": "Python 3",
   "language": "python",
   "name": "python3"
  },
  "language_info": {
   "codemirror_mode": {
    "name": "ipython",
    "version": 3
   },
   "file_extension": ".py",
   "mimetype": "text/x-python",
   "name": "python",
   "nbconvert_exporter": "python",
   "pygments_lexer": "ipython3",
   "version": "3.7.4"
  }
 },
 "nbformat": 4,
 "nbformat_minor": 2
}
