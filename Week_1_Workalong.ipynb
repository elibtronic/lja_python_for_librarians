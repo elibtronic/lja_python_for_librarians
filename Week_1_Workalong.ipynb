{
 "cells": [
  {
   "cell_type": "markdown",
   "metadata": {},
   "source": [
    "# Week 1\n",
    "\n",
    "## How to use Notebooks\n",
    "\n",
    "Welcome to Python! Each week we'll be working through a Colab Notebook. Notebooks are great because they have contains _cells_ that can be either:\n",
    "- __code__ - which will be the python we are learning\n",
    "- __markdown__ - which is like a stripped down version of HTML.\n",
    "\n",
    "Let's look at the _cell_ below. It is a __code__ cell. Once you click into it you'll see a triangle play button. Click that to run the code. You'll see `hello world` printed to the screen. The first time you hit play the Colab notebook will ask you to trust the notebook. Please do so in order to continue."
   ]
  },
  {
   "cell_type": "code",
   "execution_count": null,
   "metadata": {},
   "outputs": [],
   "source": [
    "print(\"hello world\")"
   ]
  },
  {
   "cell_type": "markdown",
   "metadata": {},
   "source": [
    "A Markdown Cell is where you can add plain text (or markdown encoded HTML). Click into the cell below and complete the sentence that is there."
   ]
  },
  {
   "cell_type": "markdown",
   "metadata": {},
   "source": [
    "Hello my name is: and I would describe my programming experience as:"
   ]
  },
  {
   "cell_type": "markdown",
   "metadata": {},
   "source": [
    "## On to the Python\n",
    "\n",
    "Now that we have the basics of what a notebooks does and how it looks. Let's learn some Python. For this week we are going to look at the following fundamental pieces of Python:\n",
    "\n",
    "- variables\n",
    "- how to do math\n",
    "- conditionals\n",
    "- loops\n",
    "- functions\n",
    "\n",
    "Be sure to enable line numbers by looking for the 'gear' icon and checking the box in the 'Editor' panel."
   ]
  },
  {
   "cell_type": "markdown",
   "metadata": {},
   "source": [
    "***\n",
    "\n",
    "## Variables, Printing and Comments\n",
    "\n",
    "- Variable can hold values and come in different types, as we say earlier the user's name is in a variable called user_name\n",
    "- variables can all be strings, integers, real numbers, or pretty much anything else\n",
    "- when we want to print something we use the function `print()`\n",
    "- Anything after a `#` is a comment, it is ignored by Python\n",
    "- Let's look at a few variables in the next code cell. Be sure to click the play button to run the code"
   ]
  },
  {
   "cell_type": "code",
   "execution_count": null,
   "metadata": {},
   "outputs": [],
   "source": [
    "# A number with a decimal is called a real\n",
    "pi = 3.14\n",
    "\n",
    "#A number with no decimal is called an integer\n",
    "dozen = 12\n",
    "\n",
    "#Text in variable is called a string\n",
    "day = \"Saturday\"\n",
    "\n",
    "#You can list multiple values in one variable\n",
    "#This is called a list, they can have anything in them\n",
    "\n",
    "finish_times = [1.0 ,1.5 ,2.0, 1.0]\n",
    "crayon_colours = [\"red\",\"blue\",\"yellow\"]"
   ]
  },
  {
   "cell_type": "markdown",
   "metadata": {},
   "source": [
    "## Questions about variables"
   ]
  },
  {
   "cell_type": "markdown",
   "metadata": {},
   "source": [
    "***\n",
    "\n",
    "## A Python thing to keep in mind!\n",
    "\n",
    "- Some programming languages need a `;` at the end of a line of code, not Python!\n",
    "- With Python you need to **indent** your code, the rest of the examples will demonstrate this"
   ]
  },
  {
   "cell_type": "markdown",
   "metadata": {},
   "source": [
    "***\n",
    "\n",
    "## Variables - Dictionaries\n",
    "\n",
    "- These are fancy variables\n",
    "- These are a bit more complicated as they hold both a `key` and a `value`.\n",
    "- Think of it as a look-up system. You proved the `key` to the dictionary variable and you are given the `value`\n",
    "- You declare them over multiple lines with {} and you use a : in between the key and value"
   ]
  },
  {
   "cell_type": "code",
   "execution_count": 3,
   "metadata": {},
   "outputs": [],
   "source": [
    "phone_numbers = {\n",
    "    \"Mom\":\"555-8980\",\n",
    "    \"Joe\":\"555-1021\"\n",
    "}\n",
    "\n",
    "toronto_weather = {\n",
    "    \"Monday\": 10,\n",
    "    \"Tuesday\" : 12,\n",
    "    \"Wednesday\" : 15,\n",
    "    \"Thursday\" : 10,\n",
    "    \"Friday\" : 9,\n",
    "    \"Saturday\" : 6,\n",
    "    \"Sunday\" : 6\n",
    "    }"
   ]
  },
  {
   "cell_type": "markdown",
   "metadata": {},
   "source": [
    "- We can print a dictionary in a very similar way to other variables like we saw earlier."
   ]
  },
  {
   "cell_type": "code",
   "execution_count": 4,
   "metadata": {},
   "outputs": [
    {
     "name": "stdout",
     "output_type": "stream",
     "text": [
      "{'Mom': '555-8980', 'Joe': '555-1021'}\n"
     ]
    }
   ],
   "source": [
    "print(phone_numbers)"
   ]
  },
  {
   "cell_type": "markdown",
   "metadata": {},
   "source": [
    "- You can do some interesting things with dictionaries, (we'll see more as time goes on)\n",
    "- For example you can print out different parts of the dictionary by adding in a `key`"
   ]
  },
  {
   "cell_type": "code",
   "execution_count": 5,
   "metadata": {},
   "outputs": [
    {
     "name": "stdout",
     "output_type": "stream",
     "text": [
      "10\n"
     ]
    }
   ],
   "source": [
    "print(toronto_weather[\"Monday\"])"
   ]
  },
  {
   "cell_type": "markdown",
   "metadata": {},
   "source": [
    "## Questions about dicitonaries"
   ]
  },
  {
   "cell_type": "markdown",
   "metadata": {},
   "source": [
    "***\n",
    "\n",
    "## How to Do Math\n",
    "\n",
    "As you'd expect with a programming language Python is pretty good at doing math. The basic operators you can use are as follows:\n",
    "\n",
    "- `*` is for multiplication\n",
    "- `+` is for addition\n",
    "- `-` is the subtraction\n",
    "- `%` is the remainder\n",
    "- `/` is division\n",
    "\n",
    "Let's re-use our dictionary variable about the weather from earlier."
   ]
  },
  {
   "cell_type": "markdown",
   "metadata": {},
   "source": [
    "- Let's find the average recorded for the weekdays\n",
    "- Another Python hint, if you need to go across multiple lines use `\\` like in the following"
   ]
  },
  {
   "cell_type": "code",
   "execution_count": null,
   "metadata": {},
   "outputs": [],
   "source": [
    "five_day_total = toronto_weather[\"Monday\"] + \\\n",
    "                    toronto_weather[\"Tuesday\"] + \\\n",
    "                    toronto_weather[\"Wednesday\"] + \\\n",
    "                    toronto_weather[\"Thursday\"] + \\\n",
    "                    toronto_weather[\"Friday\"]\n",
    "\n",
    "print(five_day_total / 5)"
   ]
  },
  {
   "cell_type": "markdown",
   "metadata": {},
   "source": [
    "- All of our temp data is in **C**\n",
    "- What if we want to know it in **F**?\n",
    "- Let convert between the two with the well known formula by multiplying by 9/5 and adding 32"
   ]
  },
  {
   "cell_type": "code",
   "execution_count": null,
   "metadata": {},
   "outputs": [],
   "source": [
    "print(toronto_weather[\"Monday\"] * 9/5 + 32)"
   ]
  },
  {
   "cell_type": "markdown",
   "metadata": {},
   "source": [
    "## Questions about Math "
   ]
  },
  {
   "cell_type": "markdown",
   "metadata": {},
   "source": [
    "*** \n",
    "\n",
    "## Loops \n",
    "\n",
    "- When we want to repeat the same thing over and over again we put it in something called a loop. \n",
    "- Python lets you do **a lot** with loops without typing in much text\n",
    "- Here `crayon` is a temporary variable that only exists in the loop\n",
    "- Let's return to our example from earlier"
   ]
  },
  {
   "cell_type": "code",
   "execution_count": null,
   "metadata": {},
   "outputs": [],
   "source": [
    "crayon_colours = [\"red\",\"blue\",\"yellow\"]\n",
    "\n",
    "for crayon in crayon_colours:\n",
    "    print(crayon)\n"
   ]
  },
  {
   "cell_type": "markdown",
   "metadata": {},
   "source": [
    "- The basic structure of a loop for us looks like the following\n",
    "\n",
    "```\n",
    "for loop_variable in list_variable:\n",
    "    #do this code\n",
    "```\n",
    "\n",
    "- `loop_variable` is a temporary variable that only exists in the loop. As soon as you finish the loop this goes away\n",
    "- `list_variable` is the variable you'd like to loop through. Often a list, but can be other things as we shall see"
   ]
  },
  {
   "cell_type": "markdown",
   "metadata": {},
   "source": [
    "## Questions about Loops"
   ]
  },
  {
   "cell_type": "markdown",
   "metadata": {},
   "source": [
    "***\n",
    "\n",
    "## Dictionaries and Loops\n",
    "\n",
    "- Watch what happens when we try to do a loop through a dictionary"
   ]
  },
  {
   "cell_type": "code",
   "execution_count": null,
   "metadata": {},
   "outputs": [],
   "source": [
    "for day in toronto_weather:\n",
    "    print(day)"
   ]
  },
  {
   "cell_type": "markdown",
   "metadata": {},
   "source": [
    "- Since dictionaries are more complex, there are many ways to interact with them\n",
    "- We add `.values()` to get the values of the dictionary\n",
    "- We add `.keys()` to get the keys of the dictionary"
   ]
  },
  {
   "cell_type": "code",
   "execution_count": null,
   "metadata": {},
   "outputs": [],
   "source": [
    "#print all the items in our Dictionary\n",
    "\n",
    "for item in toronto_weather.values():\n",
    "    print(item)"
   ]
  },
  {
   "cell_type": "code",
   "execution_count": null,
   "metadata": {},
   "outputs": [],
   "source": [
    "# print out the keys in our Dictionary\n",
    "\n",
    "for item in toronto_weather.keys():\n",
    "    print(item)"
   ]
  },
  {
   "cell_type": "markdown",
   "metadata": {},
   "source": [
    "***\n",
    "\n",
    "## Conditionals \n",
    "\n",
    "- When we want to run a piece of code only if something is true\n",
    "- We can compare with the following:\n",
    " - `==`\n",
    " - `>=`\n",
    " - `<=`\n",
    " - `<`\n",
    " - `>` \n",
    " - `!=`\n",
    " \n",
    " \n",
    " \n",
    " - When we just want to check one thing and if so run `code1`:\n",
    "```\n",
    "\n",
    "        if condition:\n",
    "            code1\n",
    "```\n",
    "\n",
    " - When we want to check something and do code1 or code2 if it is not so\n",
    "\n",
    "```\n",
    "        if condition:\n",
    "            code1\n",
    "        else:\n",
    "            code2\n",
    " ```"
   ]
  },
  {
   "cell_type": "markdown",
   "metadata": {},
   "source": [
    "- Let's pretend that anything over 10 degrees is hot. Let' make a conditional that prints out if it is hot on **Wednesday**"
   ]
  },
  {
   "cell_type": "code",
   "execution_count": null,
   "metadata": {},
   "outputs": [],
   "source": [
    "if toronto_weather[\"Wednesday\"] > 10:\n",
    "    print(\"Hot out today\")"
   ]
  },
  {
   "cell_type": "markdown",
   "metadata": {},
   "source": [
    "## Questions about conditions"
   ]
  },
  {
   "cell_type": "markdown",
   "metadata": {},
   "source": [
    "## Congrats!\n",
    "\n",
    "You have successfully made it through week 1. Now head over to the Homework notebook to attempt some more questions on these topics"
   ]
  }
 ],
 "metadata": {
  "kernelspec": {
   "display_name": "Python 3",
   "language": "python",
   "name": "python3"
  },
  "language_info": {
   "codemirror_mode": {
    "name": "ipython",
    "version": 3
   },
   "file_extension": ".py",
   "mimetype": "text/x-python",
   "name": "python",
   "nbconvert_exporter": "python",
   "pygments_lexer": "ipython3",
   "version": "3.7.4"
  }
 },
 "nbformat": 4,
 "nbformat_minor": 2
}
