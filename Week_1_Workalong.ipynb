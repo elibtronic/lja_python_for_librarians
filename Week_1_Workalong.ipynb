{
 "cells": [
  {
   "cell_type": "markdown",
   "metadata": {},
   "source": [
    "# Python for Librarians - Week 1 Workalong\n",
    "\n",
    "\n",
    "Welcome to Python! \n",
    "\n",
    "\n",
    "Each week we'll be working through a Colab Notebook. Notebooks are great because they have contains _cells_ that can be either:\n",
    "- __code__ - which will be the python we are learning\n",
    "- __markdown__ - which is like a stripped down version of HTML.\n",
    "\n",
    "Let's look at the _cell_ below. It is a __code__ cell. Once you click into it you'll see a triangle play button. Click that to run the code. You'll see `hello world` printed to the screen. The first time you hit play the Colab notebook will ask you to trust the notebook. Please do so in order to continue."
   ]
  },
  {
   "cell_type": "code",
   "execution_count": null,
   "metadata": {},
   "outputs": [],
   "source": [
    "print(\"hello world\")"
   ]
  },
  {
   "cell_type": "markdown",
   "metadata": {},
   "source": [
    "In the markdown cell below add some text introducing yourself and answer the following question: What was the first year you used the Internet?"
   ]
  },
  {
   "cell_type": "markdown",
   "metadata": {},
   "source": []
  },
  {
   "cell_type": "markdown",
   "metadata": {},
   "source": [
    "## On to the Python\n",
    "\n",
    "Now that we have the basics of what a notebooks does and how it looks. Let's learn some Python. \n",
    "\n",
    "For this week we are going to look at the following fundamental pieces of Python:\n",
    "\n",
    "- variables\n",
    "- how to do math\n",
    "- loops\n",
    "- conditionals\n",
    "\n",
    "\n",
    "Be sure to enable line numbers by looking for the 'gear' icon and checking the box in the 'Editor' panel.\n",
    "Be sure to save a copy of this notebook to your drive in the 'File' menu."
   ]
  },
  {
   "cell_type": "markdown",
   "metadata": {},
   "source": [
    "***\n",
    "\n",
    "## Variables, Printing and Comments\n",
    "\n",
    "We'll start by examining the most basic compontents of Python\n",
    "\n",
    "- Variable can hold values and come in different types, as we say earlier the user's name is in a variable called user_name\n",
    "- variables can all be strings, integers, real numbers, or pretty much anything else\n",
    "- when we want to print something to the screen we use the function called `print()`, we'll look at function more in-depth later on\n",
    "- Anything after a `#` is a comment, it is ignored by Python and is only there for the benefit of the human reading the code\n",
    "- Let's look at a few variables in the next code cell. Be sure to click the play button to run the code"
   ]
  },
  {
   "cell_type": "code",
   "execution_count": null,
   "metadata": {},
   "outputs": [],
   "source": [
    "# A number with a decimal is called a real\n",
    "pi = 3.14\n",
    "\n",
    "#A number with no decimal is called an integer\n",
    "dozen = 12\n",
    "\n",
    "#Text in variable is called a string\n",
    "day = \"Saturday\"\n",
    "\n",
    "#You can list multiple values in one variable\n",
    "#This is called a list, they can have anything in them\n",
    "\n",
    "finish_times = [1.0 ,1.5 ,2.0, 1.0]\n",
    "crayon_colours = [\"red\",\"blue\",\"yellow\"]"
   ]
  },
  {
   "cell_type": "markdown",
   "metadata": {},
   "source": [
    "Lists are great because they can hold multiple values in them. We'll spend some time looking at lists later on."
   ]
  },
  {
   "cell_type": "markdown",
   "metadata": {},
   "source": [
    "## Question 1\n",
    "\n",
    "Complete the code cell below to set the variable age equal to your age in years."
   ]
  },
  {
   "cell_type": "code",
   "execution_count": null,
   "metadata": {},
   "outputs": [],
   "source": [
    "age ="
   ]
  },
  {
   "cell_type": "markdown",
   "metadata": {},
   "source": [
    "## Question 2\n",
    "\n",
    "Add your new variable age to the print function below to print it to the screen."
   ]
  },
  {
   "cell_type": "code",
   "execution_count": null,
   "metadata": {},
   "outputs": [],
   "source": [
    "print()"
   ]
  },
  {
   "cell_type": "markdown",
   "metadata": {},
   "source": [
    "***\n",
    "\n",
    "## A Python thing to keep in mind!\n",
    "\n",
    "- Some programming languages need a `;` at the end of every line of code, not Python!\n",
    "- We some times need to add `:` to the end of a line of code but we'll see when we have to do that\n",
    "- With Python you need to **indent** your code, the rest of the examples will demonstrate this"
   ]
  },
  {
   "cell_type": "markdown",
   "metadata": {},
   "source": [
    "***\n",
    "\n",
    "## Variables - Dictionaries\n",
    "\n",
    "- These are fancy variables\n",
    "- These are a bit more complicated as they hold both a `key` and a `value`.\n",
    "- Think of it as a look-up system. You proved the `key` to the dictionary variable and you are given the `value`\n",
    "- You declare them over multiple lines with {} and you use a : in between the key and value"
   ]
  },
  {
   "cell_type": "code",
   "execution_count": 3,
   "metadata": {},
   "outputs": [],
   "source": [
    "phone_numbers = {\n",
    "    \"Mom\":\"555-8980\",\n",
    "    \"Joe\":\"555-1021\"\n",
    "}\n",
    "\n",
    "#We enter these values as `reals` by including the decimal 0\n",
    "toronto_weather = {\n",
    "    \"Monday\": 10.0,\n",
    "    \"Tuesday\" : 12.0,\n",
    "    \"Wednesday\" : 15.0,\n",
    "    \"Thursday\" : 10.0,\n",
    "    \"Friday\" : 9.0,\n",
    "    \"Saturday\" : 6.0,\n",
    "    \"Sunday\" : 6.0\n",
    "    }"
   ]
  },
  {
   "cell_type": "markdown",
   "metadata": {},
   "source": [
    "- We can print a dictionary in a very similar way to other variables like we saw earlier."
   ]
  },
  {
   "cell_type": "code",
   "execution_count": null,
   "metadata": {},
   "outputs": [],
   "source": [
    "print(phone_numbers)"
   ]
  },
  {
   "cell_type": "markdown",
   "metadata": {},
   "source": [
    "- You can do some interesting things with dictionaries, (we'll see more as time goes on)\n",
    "- For example you can print out different parts of the dictionary by adding in a `key`\n",
    "- in the example below we finding what values is in the `toronto_weather` dictionary for `Monday`"
   ]
  },
  {
   "cell_type": "code",
   "execution_count": 5,
   "metadata": {},
   "outputs": [
    {
     "name": "stdout",
     "output_type": "stream",
     "text": [
      "10\n"
     ]
    }
   ],
   "source": [
    "print(toronto_weather[\"Monday\"])"
   ]
  },
  {
   "cell_type": "markdown",
   "metadata": {},
   "source": [
    "## Question 3\n",
    "\n",
    "Can you print Mom's phone number to the screen, by adding the `key` into the code cell below?"
   ]
  },
  {
   "cell_type": "code",
   "execution_count": null,
   "metadata": {},
   "outputs": [],
   "source": [
    "print(phone_numbers[])"
   ]
  },
  {
   "cell_type": "markdown",
   "metadata": {},
   "source": [
    "## Question 4\n",
    "\n",
    "Can print Joe's phone number to the screen using the cell below?"
   ]
  },
  {
   "cell_type": "code",
   "execution_count": null,
   "metadata": {},
   "outputs": [],
   "source": [
    "print(phone_numbers[ ])"
   ]
  },
  {
   "cell_type": "markdown",
   "metadata": {},
   "source": [
    "***\n",
    "\n",
    "## How to Do Math\n",
    "\n",
    "As you'd expect with a programming language Python is pretty good at doing math. The basic operators you can use are as follows:\n",
    "\n",
    "- `*` is for multiplication\n",
    "- `+` is for addition\n",
    "- `-` is the subtraction\n",
    "- `%` is the remainder for a division operation\n",
    "- `/` is division\n",
    "\n",
    "Let's re-use our dictionary variable about the weather from earlier to build our examples."
   ]
  },
  {
   "cell_type": "markdown",
   "metadata": {},
   "source": [
    "- Let's find the average recorded for the weekdays\n",
    "- Another Python hint: if you need to go across multiple lines use `\\` like in the following cell\n",
    "- The next cell shows us how we can calculate the average temp for the the weekdays in our data set"
   ]
  },
  {
   "cell_type": "code",
   "execution_count": null,
   "metadata": {},
   "outputs": [],
   "source": [
    "five_day_total = toronto_weather[\"Monday\"] + \\\n",
    "                    toronto_weather[\"Tuesday\"] + \\\n",
    "                    toronto_weather[\"Wednesday\"] + \\\n",
    "                    toronto_weather[\"Thursday\"] + \\\n",
    "                    toronto_weather[\"Friday\"]\n",
    "\n",
    "print(five_day_total / 5)"
   ]
  },
  {
   "cell_type": "markdown",
   "metadata": {},
   "source": [
    "- All of our temp data is in **C**\n",
    "- What if we want to know it in **F**?\n",
    "- Let's combine our knowledge of dictionary keys and math operators to covert these values\n",
    "- Let convert between the two with the well known formula by multiplying by 9/5 and adding 32\n",
    "- The following cell will calculate and print Monday's temp in **F**"
   ]
  },
  {
   "cell_type": "code",
   "execution_count": null,
   "metadata": {},
   "outputs": [],
   "source": [
    "print(toronto_weather[\"Monday\"] * 9/5 + 32)"
   ]
  },
  {
   "cell_type": "markdown",
   "metadata": {},
   "source": [
    "## Question 5\n",
    "\n",
    "Can you print out Thursday's temp in **F**?"
   ]
  },
  {
   "cell_type": "code",
   "execution_count": null,
   "metadata": {},
   "outputs": [],
   "source": [
    "print(toronto_weather[])"
   ]
  },
  {
   "cell_type": "markdown",
   "metadata": {},
   "source": [
    "## Question 6\n",
    "\n",
    "Can you complete the following expression to find out the average temp from the weekend?"
   ]
  },
  {
   "cell_type": "code",
   "execution_count": null,
   "metadata": {},
   "outputs": [],
   "source": [
    "weekend_average  = ( ) / 2\n",
    "print(weekend_average)"
   ]
  },
  {
   "cell_type": "markdown",
   "metadata": {},
   "source": [
    "## Question 7\n",
    "\n",
    "Can you print you how many days you have been alive for (approximately) using the `age` variable in the following cell?"
   ]
  },
  {
   "cell_type": "code",
   "execution_count": null,
   "metadata": {},
   "outputs": [],
   "source": [
    "age =\n",
    "print()"
   ]
  },
  {
   "cell_type": "markdown",
   "metadata": {},
   "source": [
    "## Question 8\n",
    "\n",
    "If you had 45 donuts and you were putting them into boxes that could hold 12 donuts, how many donuts would be in the last box?"
   ]
  },
  {
   "cell_type": "code",
   "execution_count": null,
   "metadata": {},
   "outputs": [],
   "source": [
    "lastbox = % 12\n",
    "print(lastbox)"
   ]
  },
  {
   "cell_type": "markdown",
   "metadata": {},
   "source": [
    "## Question 9\n",
    "\n"
   ]
  },
  {
   "cell_type": "code",
   "execution_count": null,
   "metadata": {},
   "outputs": [],
   "source": []
  },
  {
   "cell_type": "markdown",
   "metadata": {},
   "source": [
    "## Question 10"
   ]
  },
  {
   "cell_type": "code",
   "execution_count": null,
   "metadata": {},
   "outputs": [],
   "source": []
  },
  {
   "cell_type": "markdown",
   "metadata": {},
   "source": [
    "*** \n",
    "\n",
    "## Loops \n",
    "\n",
    "- When we want to repeat the same thing over and over again we put it in something called a loop. \n",
    "- Python lets you do **a lot** with loops without typing in much text\n",
    "- Before clicking **play** on the next cell see if you can guess what the output will be first"
   ]
  },
  {
   "cell_type": "code",
   "execution_count": null,
   "metadata": {},
   "outputs": [],
   "source": [
    "crayon_colours = [\"red\",\"blue\",\"yellow\"]\n",
    "\n",
    "for crayon in crayon_colours:\n",
    "    print(crayon)\n"
   ]
  },
  {
   "cell_type": "markdown",
   "metadata": {},
   "source": [
    "- The basic structure of a loop for us looks like the following\n",
    "\n",
    "```\n",
    "for loop_variable in list_variable:\n",
    "    #do this code\n",
    "```\n",
    "\n",
    "`loop_variable` is a temporary variable that only exists in the loop. As soon as you finish the loop this goes away\n",
    "\n",
    "`list_variable` is the variable you'd like to loop through. Often a list, but can be other things as we shall see"
   ]
  },
  {
   "cell_type": "markdown",
   "metadata": {},
   "source": [
    "## Question 11\n",
    "\n",
    "Can you finish the following loop to print all of the numbers in the list variable called `numbers` in the following cell?"
   ]
  },
  {
   "cell_type": "code",
   "execution_count": null,
   "metadata": {},
   "outputs": [],
   "source": [
    "numbers = [1,2,3,4,5]\n",
    "\n",
    "for digit :"
   ]
  },
  {
   "cell_type": "markdown",
   "metadata": {},
   "source": [
    "## Question 12\n",
    "\n",
    "Python is pretty smart and will loop through anything that looks like it can be looped through. With a list it will loop through all of the items in the list. With a string variable it will loop through all of the letters found in the string.\n",
    "\n",
    "Can you complete the loop in the next cell so that it prints the letters of Captain Kirk's name?"
   ]
  },
  {
   "cell_type": "code",
   "execution_count": null,
   "metadata": {},
   "outputs": [],
   "source": [
    "name = \"James Tobias Kirk\"\n",
    "\n",
    "for letter in   :\n",
    "    print(name)\n"
   ]
  },
  {
   "cell_type": "markdown",
   "metadata": {},
   "source": [
    "## Question 13\n",
    "\n",
    "Let's try one a little more challenging. Can you write a loop in the following cell that will print each letter of the string variable called `alphabet`?"
   ]
  },
  {
   "cell_type": "code",
   "execution_count": null,
   "metadata": {},
   "outputs": [],
   "source": [
    "alphabet = \"abcdefghijklmnopqrstuvwxyz\""
   ]
  },
  {
   "cell_type": "markdown",
   "metadata": {},
   "source": [
    "## Question 14"
   ]
  },
  {
   "cell_type": "code",
   "execution_count": null,
   "metadata": {},
   "outputs": [],
   "source": []
  },
  {
   "cell_type": "markdown",
   "metadata": {},
   "source": [
    "## Question 15"
   ]
  },
  {
   "cell_type": "code",
   "execution_count": null,
   "metadata": {},
   "outputs": [],
   "source": []
  },
  {
   "cell_type": "markdown",
   "metadata": {},
   "source": [
    "***\n",
    "\n",
    "## Dictionaries and Loops\n",
    "\n",
    "- Watch what happens when we try to do a loop through a dictionary"
   ]
  },
  {
   "cell_type": "code",
   "execution_count": null,
   "metadata": {},
   "outputs": [],
   "source": [
    "for day in toronto_weather:\n",
    "    print(day)"
   ]
  },
  {
   "cell_type": "markdown",
   "metadata": {},
   "source": [
    "- Since dictionaries are more complex, there are many ways to interact with them\n",
    "- We add `.values()` to get the values of the dictionary\n",
    "- We add `.keys()` to get the keys of the dictionary"
   ]
  },
  {
   "cell_type": "code",
   "execution_count": null,
   "metadata": {},
   "outputs": [],
   "source": [
    "#print all the items in our Dictionary\n",
    "\n",
    "for item in toronto_weather.values():\n",
    "    print(item)"
   ]
  },
  {
   "cell_type": "code",
   "execution_count": null,
   "metadata": {},
   "outputs": [],
   "source": [
    "# print out the keys in our Dictionary\n",
    "\n",
    "for item in toronto_weather.keys():\n",
    "    print(item)"
   ]
  },
  {
   "cell_type": "markdown",
   "metadata": {},
   "source": [
    "Loops get used a lot in programming. It is good to be comfortable with using them."
   ]
  },
  {
   "cell_type": "markdown",
   "metadata": {},
   "source": [
    "***\n",
    "\n",
    "## Conditionals \n",
    "\n",
    "Sometime we want to run a piece of code only if something is true. We use an `if` statement to make this kind of comparison. If we want `code` to run if `condition` happens we do this by writing code that looks like the following:\n",
    "```\n",
    "\n",
    "        if condition:\n",
    "            code1\n",
    "```\n"
   ]
  },
  {
   "cell_type": "markdown",
   "metadata": {},
   "source": [
    "- Let's pretend that anything over 10 degrees is hot. Let' make a conditional that prints out if it is hot on **Wednesday**"
   ]
  },
  {
   "cell_type": "code",
   "execution_count": null,
   "metadata": {},
   "outputs": [],
   "source": [
    "if toronto_weather[\"Wednesday\"] > 10:\n",
    "    print(\"Hot out today\")"
   ]
  },
  {
   "cell_type": "markdown",
   "metadata": {},
   "source": [
    "We can compare in our conditionals using the following operators (just like in math class)\n",
    " - `>=`\n",
    " - `<=`\n",
    " - `<`\n",
    " - `>` \n",
    "\n",
    "If we want to see if two things are not the same we use\n",
    " - `!=`\n",
    "\n",
    "\n",
    "If we want to see if two things are the same we use\n",
    "- `==` "
   ]
  },
  {
   "cell_type": "code",
   "execution_count": null,
   "metadata": {},
   "outputs": [],
   "source": []
  },
  {
   "cell_type": "markdown",
   "metadata": {},
   "source": [
    " When we want to do `code1` if `condition` is true and `code2` if it is not true we use\n",
    "\n",
    "```\n",
    "        if condition:\n",
    "            code1\n",
    "        else:\n",
    "            code2\n",
    " ```"
   ]
  },
  {
   "cell_type": "code",
   "execution_count": null,
   "metadata": {},
   "outputs": [],
   "source": []
  },
  {
   "cell_type": "markdown",
   "metadata": {},
   "source": [
    "We can also make conditionals with multiple comparisons by using `elif`. We we want to do `code1` if `condition1` is true and to do `code` if `condition2` is true it would look like the following \n",
    "\n",
    "```\n",
    "        if condition:\n",
    "            code1\n",
    "        elif:\n",
    "            code2\n",
    " ```"
   ]
  },
  {
   "cell_type": "code",
   "execution_count": null,
   "metadata": {},
   "outputs": [],
   "source": []
  },
  {
   "cell_type": "markdown",
   "metadata": {},
   "source": [
    "We can make our conditionals as long as we want by chaining together `if`, `elif`, `else` as necessary. We can also run multiple lines of code when a conditional is evaluated. We just need to make sure it is indented correctly!"
   ]
  },
  {
   "cell_type": "code",
   "execution_count": null,
   "metadata": {},
   "outputs": [],
   "source": []
  },
  {
   "cell_type": "markdown",
   "metadata": {},
   "source": [
    "## Questions about conditions"
   ]
  },
  {
   "cell_type": "markdown",
   "metadata": {},
   "source": [
    "***\n",
    "\n",
    "## Combining with boolean\n",
    "\n",
    "- Sometimes we want to combine conditionals because we want to test more complicated things\n",
    "- We can do this with the following:\n",
    " - `and`\n",
    " - `or`\n",
    " - `not`"
   ]
  },
  {
   "cell_type": "markdown",
   "metadata": {},
   "source": [
    "## Questions about booleans"
   ]
  },
  {
   "cell_type": "markdown",
   "metadata": {},
   "source": [
    "## Congrats!\n",
    "\n",
    "You have successfully made it through week 1. Now head over to the Homework notebook to attempt some more questions on these topics"
   ]
  }
 ],
 "metadata": {
  "kernelspec": {
   "display_name": "Python 3",
   "language": "python",
   "name": "python3"
  },
  "language_info": {
   "codemirror_mode": {
    "name": "ipython",
    "version": 3
   },
   "file_extension": ".py",
   "mimetype": "text/x-python",
   "name": "python",
   "nbconvert_exporter": "python",
   "pygments_lexer": "ipython3",
   "version": "3.7.4"
  }
 },
 "nbformat": 4,
 "nbformat_minor": 2
}
