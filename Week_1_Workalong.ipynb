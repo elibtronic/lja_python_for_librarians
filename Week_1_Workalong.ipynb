{
 "cells": [
  {
   "cell_type": "markdown",
   "metadata": {},
   "source": [
    "# Python for Librarians - Week 1 Workalong\n",
    "\n",
    "\n",
    "Welcome to Python! \n",
    "\n",
    "\n",
    "Each week we'll be working through a Colab Notebook. Notebooks are great because they contains _cells_ that can be either:\n",
    "- __code__ - which will be the python we are learning\n",
    "- __markdown__ - which is like a stripped down version of HTML.\n",
    "\n",
    "Let's look at the _cell_ below. It is a __code__ cell. Once you click into it you'll see a triangle play button. Click that to run the code. You'll see `hello world` printed to the screen. The first time you hit play the Colab notebook will ask you to trust the notebook. Please do so in order to continue."
   ]
  },
  {
   "cell_type": "code",
   "execution_count": null,
   "metadata": {},
   "outputs": [],
   "source": [
    "print(\"hello world\")"
   ]
  },
  {
   "cell_type": "markdown",
   "metadata": {},
   "source": [
    "In the markdown cell below add some text introducing yourself and answer the following question: What was the first year you used the Internet?"
   ]
  },
  {
   "cell_type": "markdown",
   "metadata": {},
   "source": []
  },
  {
   "cell_type": "markdown",
   "metadata": {},
   "source": [
    "## On to the Python\n",
    "\n",
    "Now that we have the basics of what a notebooks does and how it looks. Let's learn some Python. \n",
    "\n",
    "For this week we are going to look at the following fundamental pieces of Python:\n",
    "\n",
    "- variables\n",
    "- how to do math\n",
    "- loops\n",
    "- conditionals\n",
    "\n",
    "\n",
    "Be sure to enable line numbers by looking for the 'gear' icon and checking the box in the 'Editor' panel.\n",
    "Be sure to save a copy of this notebook to your drive in the 'File' menu."
   ]
  },
  {
   "cell_type": "markdown",
   "metadata": {},
   "source": [
    "***\n",
    "\n",
    "## Variables, Printing and Comments\n",
    "\n",
    "We'll start by examining the most basic components of Python\n",
    "\n",
    "- variable can hold values and come in different types\n",
    "- variables can all be strings, integers, real numbers, or pretty much anything else\n",
    "- when we want to print something to the screen we use the function called `print()`, we'll look at function more in-depth later on\n",
    "- Anything after a `#` is a comment, it is ignored by Python and is only there for the benefit of the human reading the code\n",
    "- Let's look at a few variables in the next code cell. Be sure to click the play button to run the code"
   ]
  },
  {
   "cell_type": "code",
   "execution_count": null,
   "metadata": {},
   "outputs": [],
   "source": [
    "# A number with a decimal is called a real\n",
    "pi = 3.14\n",
    "\n",
    "#A number with no decimal is called an integer\n",
    "dozen = 12\n",
    "\n",
    "#Text in a variable is called a string\n",
    "day = \"Saturday\"\n",
    "\n",
    "#You can list multiple values in one variable\n",
    "#This is called a list, they can have anything in them\n",
    "\n",
    "finish_times = [1.0 ,1.5 ,2.0, 1.0]\n",
    "crayon_colours = [\"red\",\"blue\",\"yellow\"]"
   ]
  },
  {
   "cell_type": "markdown",
   "metadata": {},
   "source": [
    "Lists are great because they can hold multiple values in them. We'll spend some time looking at lists later on."
   ]
  },
  {
   "cell_type": "markdown",
   "metadata": {},
   "source": [
    "## Question 1\n",
    "\n",
    "Complete the code cell below to set the variable age equal to your age in years."
   ]
  },
  {
   "cell_type": "code",
   "execution_count": null,
   "metadata": {},
   "outputs": [],
   "source": [
    "age ="
   ]
  },
  {
   "cell_type": "markdown",
   "metadata": {},
   "source": [
    "## Question 2\n",
    "\n",
    "Add your new variable age to the print function below to print it to the screen. To do this please add the variable `age` to the print statement below by typing it in between the brackets."
   ]
  },
  {
   "cell_type": "code",
   "execution_count": null,
   "metadata": {},
   "outputs": [],
   "source": [
    "print()"
   ]
  },
  {
   "cell_type": "markdown",
   "metadata": {},
   "source": [
    "### More complex print statements\n",
    "\n",
    "**print** is a very useful function that we use a lot. You can print multiple values in a single print statement by putting commas in between your strings and variables. The cell below has a couple examples of this."
   ]
  },
  {
   "cell_type": "code",
   "execution_count": null,
   "metadata": {},
   "outputs": [],
   "source": [
    "\n",
    "feeling = \"happy\"\n",
    "print(\"Today I am feeling\",feeling)\n",
    "\n",
    "weather = \"sunny\"\n",
    "print(\"Today I am feeling\", feeling, \"and the weather is\",weather)\n",
    "\n",
    "print(\"Today I am feeling tired\", \"and the weather is cloudy\")\n"
   ]
  },
  {
   "cell_type": "markdown",
   "metadata": {},
   "source": [
    "***\n",
    "\n",
    "## A Python thing to keep in mind!\n",
    "\n",
    "- Some programming languages need a `;` at the end of every line of code, not Python!\n",
    "- We sometimes need to add `:` to the end of a line of code but we'll see when we have to do that\n",
    "- With Python you need to **indent** your code, the rest of the examples will demonstrate this"
   ]
  },
  {
   "cell_type": "markdown",
   "metadata": {},
   "source": [
    "***\n",
    "\n",
    "## Variables - Dictionaries\n",
    "\n",
    "- These are fancy variables\n",
    "- These are a bit more complicated as they hold both a `key` and a `value`.\n",
    "- Think of it as a look-up system. You proved the `key` to the dictionary variable and you are given the `value`\n",
    "- You declare them over multiple lines with {} and you use a : in between the key and value"
   ]
  },
  {
   "cell_type": "code",
   "execution_count": null,
   "metadata": {},
   "outputs": [],
   "source": [
    "phone_numbers = {\n",
    "    \"Mom\":\"555-8980\",\n",
    "    \"Joe\":\"555-1021\"\n",
    "}\n",
    "\n",
    "#We enter these values as `reals` by including the decimal 0\n",
    "toronto_weather = {\n",
    "    \"Monday\": 10.0,\n",
    "    \"Tuesday\" : 12.0,\n",
    "    \"Wednesday\" : 15.0,\n",
    "    \"Thursday\" : 10.0,\n",
    "    \"Friday\" : 9.0,\n",
    "    \"Saturday\" : 6.0,\n",
    "    \"Sunday\" : 6.0\n",
    "    }"
   ]
  },
  {
   "cell_type": "markdown",
   "metadata": {},
   "source": [
    "- We can print a dictionary in a very similar way to other variables like we saw earlier."
   ]
  },
  {
   "cell_type": "code",
   "execution_count": null,
   "metadata": {},
   "outputs": [],
   "source": [
    "print(phone_numbers)"
   ]
  },
  {
   "cell_type": "markdown",
   "metadata": {},
   "source": [
    "- You can do some interesting things with dictionaries, (we'll see more as time goes on)\n",
    "- For example you can print out different parts of the dictionary by adding in a `key`\n",
    "- In the example below we finding what values is in the `toronto_weather` dictionary for `Monday`"
   ]
  },
  {
   "cell_type": "code",
   "execution_count": null,
   "metadata": {},
   "outputs": [],
   "source": [
    "print(toronto_weather[\"Monday\"])"
   ]
  },
  {
   "cell_type": "markdown",
   "metadata": {},
   "source": [
    "## Question 3\n",
    "\n",
    "Can you print Mom's phone number to the screen, by adding the `key` into the code cell below?"
   ]
  },
  {
   "cell_type": "code",
   "execution_count": null,
   "metadata": {},
   "outputs": [],
   "source": [
    "print(phone_numbers[])"
   ]
  },
  {
   "cell_type": "markdown",
   "metadata": {},
   "source": [
    "## Question 4\n",
    "\n",
    "Can you print Joe's phone number to the screen using the cell below?"
   ]
  },
  {
   "cell_type": "code",
   "execution_count": null,
   "metadata": {},
   "outputs": [],
   "source": [
    "print(phone_numbers[ ])"
   ]
  },
  {
   "cell_type": "markdown",
   "metadata": {},
   "source": [
    "***\n",
    "\n",
    "## How to Do Math\n",
    "\n",
    "As you'd expect with a programming language Python is pretty good at doing math. The basic operators you can use are as follows:\n",
    "\n",
    "- `*` is for multiplication\n",
    "- `+` is for addition\n",
    "- `-` is the subtraction\n",
    "- `%` is the remainder for a division operation\n",
    "- `/` is division\n",
    "\n",
    "Let's re-use our dictionary variable about the weather from earlier to build our examples."
   ]
  },
  {
   "cell_type": "markdown",
   "metadata": {},
   "source": [
    "- Let's find the average recorded for the weekdays\n",
    "- Another Python hint: if you need to go across multiple lines use `\\` like in the following cell\n",
    "- The next cell shows us how we can calculate the average temp for the the weekdays in our data set"
   ]
  },
  {
   "cell_type": "code",
   "execution_count": null,
   "metadata": {},
   "outputs": [],
   "source": [
    "five_day_total = toronto_weather[\"Monday\"] + \\\n",
    "                    toronto_weather[\"Tuesday\"] + \\\n",
    "                    toronto_weather[\"Wednesday\"] + \\\n",
    "                    toronto_weather[\"Thursday\"] + \\\n",
    "                    toronto_weather[\"Friday\"]\n",
    "\n",
    "print(five_day_total / 5)"
   ]
  },
  {
   "cell_type": "markdown",
   "metadata": {},
   "source": [
    "- All of our temp data is in **C**\n",
    "- What if we want to know it in **F**?\n",
    "- Let's combine our knowledge of dictionary keys and math operators to covert these values\n",
    "- Let convert between the two with the well known formula by multiplying by 9/5 and adding 32\n",
    "- The following cell will calculate and print Monday's temp in **F**"
   ]
  },
  {
   "cell_type": "code",
   "execution_count": null,
   "metadata": {},
   "outputs": [],
   "source": [
    "print(toronto_weather[\"Monday\"] * 9/5 + 32)"
   ]
  },
  {
   "cell_type": "markdown",
   "metadata": {},
   "source": [
    "## Question 5\n",
    "\n",
    "Can you print out Thursday's temp in **F**?"
   ]
  },
  {
   "cell_type": "code",
   "execution_count": null,
   "metadata": {},
   "outputs": [],
   "source": [
    "print(toronto_weather[])"
   ]
  },
  {
   "cell_type": "markdown",
   "metadata": {},
   "source": [
    "## Question 6\n",
    "\n",
    "Can you complete the following expression to find out the average temp from the weekend?"
   ]
  },
  {
   "cell_type": "code",
   "execution_count": null,
   "metadata": {},
   "outputs": [],
   "source": [
    "weekend_average  = ( ) / 2\n",
    "print(weekend_average)"
   ]
  },
  {
   "cell_type": "markdown",
   "metadata": {},
   "source": [
    "## Question 7\n",
    "\n",
    "Can you print how many days you have been alive for (approximately) using the `age` variable in the following cell?"
   ]
  },
  {
   "cell_type": "code",
   "execution_count": null,
   "metadata": {},
   "outputs": [],
   "source": [
    "age =\n",
    "print()"
   ]
  },
  {
   "cell_type": "markdown",
   "metadata": {},
   "source": [
    "## Question 8\n",
    "\n",
    "If you had 45 donuts and you were putting them into boxes that could hold 12 donuts, how many donuts would be in the last box?"
   ]
  },
  {
   "cell_type": "code",
   "execution_count": null,
   "metadata": {},
   "outputs": [],
   "source": [
    "lastbox = % 12\n",
    "print(lastbox)"
   ]
  },
  {
   "cell_type": "markdown",
   "metadata": {},
   "source": [
    "## Question 9\n",
    "\n",
    "Python uses brackets just like in algebra class. Add some round brackets, which look like: ( and ) to the following statements so that it actually prints out the average of the numbers: 10, 15, 20, 10, 15\n"
   ]
  },
  {
   "cell_type": "code",
   "execution_count": null,
   "metadata": {},
   "outputs": [],
   "source": [
    "average = 10 + 15 + 20 + 10 + 15 / 5\n",
    "print(average)"
   ]
  },
  {
   "cell_type": "markdown",
   "metadata": {},
   "source": [
    "*** \n",
    "\n",
    "## Loops \n",
    "\n",
    "- When we want to repeat the same thing over and over again we put it in something called a loop. \n",
    "- Python lets you do **a lot** with loops without typing in much text\n",
    "- Before clicking **play** on the next cell see if you can guess what the output will be first"
   ]
  },
  {
   "cell_type": "code",
   "execution_count": null,
   "metadata": {},
   "outputs": [],
   "source": [
    "crayon_colours = [\"red\",\"blue\",\"yellow\"]\n",
    "\n",
    "for crayon in crayon_colours:\n",
    "    print(crayon)\n"
   ]
  },
  {
   "cell_type": "markdown",
   "metadata": {},
   "source": [
    "- The basic structure of a loop for us looks like the following\n",
    "\n",
    "```\n",
    "for loop_variable in list_variable:\n",
    "    #do this code\n",
    "```\n",
    "\n",
    "`loop_variable` is a temporary variable that only exists in the loop. As soon as you finish the loop this goes away\n",
    "\n",
    "`list_variable` is the variable you'd like to loop through. Often a list, but can be other things as we shall see"
   ]
  },
  {
   "cell_type": "code",
   "execution_count": null,
   "metadata": {},
   "outputs": [],
   "source": [
    "#Here's another loop in action\n",
    "\n",
    "grade_options = [\"A+\",\"A\",\"A-\",\"B+\",\"B\",\"B-\",\"C+\",\"C\",\"C-\",\"D+\",\"D\",\"D-\",\"F\"]\n",
    "\n",
    "for letter in grade_options:\n",
    "    print(letter)\n",
    "\n"
   ]
  },
  {
   "cell_type": "markdown",
   "metadata": {},
   "source": [
    "## Question 11\n",
    "\n",
    "Can you finish the following loop to print all of the numbers in the list variable called `numbers` in the following cell?"
   ]
  },
  {
   "cell_type": "code",
   "execution_count": null,
   "metadata": {},
   "outputs": [],
   "source": [
    "numbers = [1,2,3,4,5]\n",
    "\n",
    "for digit :"
   ]
  },
  {
   "cell_type": "markdown",
   "metadata": {},
   "source": [
    "## Question 12\n",
    "\n",
    "Python is pretty smart and will loop through anything that looks like it can be looped through. With a list it will loop through all of the items in the list. With a string variable it will loop through all of the letters found in the string.\n",
    "\n",
    "Can you complete the loop in the next cell so that it prints the letters of Captain Kirk's name?"
   ]
  },
  {
   "cell_type": "code",
   "execution_count": null,
   "metadata": {},
   "outputs": [],
   "source": [
    "name = \"James Tiberius Kirk\"\n",
    "\n",
    "for letter in   :\n",
    "    print(letter)\n"
   ]
  },
  {
   "cell_type": "markdown",
   "metadata": {},
   "source": [
    "## Question 13\n",
    "\n",
    "Let's try one a little more challenging. Can you write a loop in the following cell that will print each letter of the string variable called `alphabet`? You need to completed lines 3 & 4."
   ]
  },
  {
   "cell_type": "code",
   "execution_count": null,
   "metadata": {},
   "outputs": [],
   "source": [
    "alphabet = \"abcdefghijklmnopqrstuvwxyz\"\n",
    "\n",
    "for in :\n",
    "    print()"
   ]
  },
  {
   "cell_type": "markdown",
   "metadata": {},
   "source": [
    "***\n",
    "\n",
    "## Dictionaries and Loops\n",
    "\n",
    "- Watch what happens when we try to do a loop through a dictionary"
   ]
  },
  {
   "cell_type": "code",
   "execution_count": null,
   "metadata": {},
   "outputs": [],
   "source": [
    "for day in toronto_weather:\n",
    "    print(day)"
   ]
  },
  {
   "cell_type": "markdown",
   "metadata": {},
   "source": [
    "Was the output to the screen what you expected?\n",
    "\n",
    "\n",
    "Since dictionaries are more complex, there are many ways to interact with them\n",
    "- We add `.values()` to get the values of the dictionary\n",
    "- We add `.keys()` to get the keys of the dictionary"
   ]
  },
  {
   "cell_type": "code",
   "execution_count": null,
   "metadata": {},
   "outputs": [],
   "source": [
    "#print all the items in our Dictionary\n",
    "\n",
    "for item in toronto_weather.values():\n",
    "    print(item)"
   ]
  },
  {
   "cell_type": "code",
   "execution_count": null,
   "metadata": {},
   "outputs": [],
   "source": [
    "# print out the keys in our Dictionary\n",
    "\n",
    "for item in toronto_weather.keys():\n",
    "    print(item)"
   ]
  },
  {
   "cell_type": "markdown",
   "metadata": {},
   "source": [
    "Loops get used a lot in programming. It is good to be comfortable with using them."
   ]
  },
  {
   "cell_type": "markdown",
   "metadata": {},
   "source": [
    "\n",
    "## Using a Loop to find a Sum\n",
    "\n",
    "Now that we have looked at loops a bit we can explore one very important use of them: finding a sum. For example, we can loop through all the items in a list or dictionary  and add them together.\n",
    "\n",
    "We just need to create a sum variable right before our loop begins (line 15) and add each item as we loop to this sum variable (line 18) This is a fairly common task in programming so it is good to spend some time making sure you understand this topic."
   ]
  },
  {
   "cell_type": "code",
   "execution_count": null,
   "metadata": {},
   "outputs": [],
   "source": [
    "#This example will show us how much rain fell during a fictional week in Toronto.\n",
    "\n",
    "#This dictionary is our daily measures of rainfall\n",
    "toronto_rain = {\n",
    "    \"Monday\": 0.0,\n",
    "    \"Tuesday\" : 0.0,\n",
    "    \"Wednesday\" : 20.0,\n",
    "    \"Thursday\" : 30.0,\n",
    "    \"Friday\" : 0.0,\n",
    "    \"Saturday\" : 10.0,\n",
    "    \"Sunday\" : 10.0\n",
    "    }\n",
    "\n",
    "#our 'sum' variable\n",
    "total_rain = 0\n",
    "\n",
    "for daily_rain in toronto_rain.values():\n",
    "    \n",
    "    #each time through the loop we add the day's rainfall to our running sum \n",
    "    \n",
    "    total_rain = total_rain + daily_rain\n",
    "    \n",
    "    \n",
    "print(\"Total rainfall for the week is:\",total_rain)\n",
    "\n"
   ]
  },
  {
   "cell_type": "markdown",
   "metadata": {},
   "source": [
    "\n",
    "-----\n",
    "\n",
    "\n",
    "# Square brackets, parentheses, and curly braces\n",
    "\n",
    "One brief digression... One of the things I hear the most from people first learning Python is, 'when should I use brackets, when should I use braces' The best way I can answer that is with the following:\n",
    "\n",
    "- ` ( ) ` round brackets, or parentheses, when dealing with functions\n",
    "- ` [ ] ` square brackets when dealing with lists. eg. all the parameters we pass to dataframes are lists\n",
    "- ` { } ` when we are dealing with dictionaries\n",
    "\n",
    "These are general rules but they should work ok for about 95% of the cases you'll encounter.\n",
    "\n",
    "\n",
    "\n",
    "------"
   ]
  },
  {
   "cell_type": "markdown",
   "metadata": {},
   "source": [
    "Back to dictionaries...\n",
    "\n",
    "Let's look at a dictionary called `province_look_up`. This dictionary basically allows us to look up the full province name from an abbreviation. So our **key** is the shortform of the province. The **value** is the full province name. Run the next 3 cells to load up this dictionary and see how we can work with it."
   ]
  },
  {
   "cell_type": "code",
   "execution_count": null,
   "metadata": {},
   "outputs": [],
   "source": [
    "province_look_up = {\n",
    "    \"ON\" : \"Ontario\",\n",
    "    \"SK\" : \"Saskatchewan\",\n",
    "    \"BC\" : \"British Columbia\",\n",
    "    \"AB\" : \"Alberta\",\n",
    "    \"NB\" : \"New Brunswick\"\n",
    "}\n",
    "\n",
    "#We can make multiple items print in our print statements by separating\n",
    "# each thing we want to print with a comma (,)\n",
    "print(\"We look up the value associated with key 'ON' which is: \",province_look_up[\"ON\"])\n",
    "print(\"We look up the value associated with key 'AB' which is:\",province_look_up[\"AB\"])\n"
   ]
  },
  {
   "cell_type": "code",
   "execution_count": null,
   "metadata": {},
   "outputs": [],
   "source": [
    "#printing all of the 'keys' in our dictionary\n",
    "for key in province_look_up.keys():\n",
    "    print(key)"
   ]
  },
  {
   "cell_type": "code",
   "execution_count": null,
   "metadata": {},
   "outputs": [],
   "source": [
    "#printing all of the 'values' in our dictionary\n",
    "for value in province_look_up.values():\n",
    "    print(value)"
   ]
  },
  {
   "cell_type": "markdown",
   "metadata": {},
   "source": [
    "We'll use this type of notation, accessing values of a variable with `[ ]`, a lot when we get to data analysis using the Python Pandas Library in week 2 which is why we spend some time practicing it here. "
   ]
  },
  {
   "cell_type": "markdown",
   "metadata": {},
   "source": [
    "## Question 14\n",
    "\n",
    "Let's try to print out each key and the corresponding value for that key so the results look something like the following:\n",
    "\n",
    "`QC -> Quebec`\n",
    "\n",
    "We'll use a loop to go through each of the keys in our dictionary and then look up each corresponding value. In other words we'll find the full form of the province name by looking up the abbreviation.\n",
    "\n",
    "You just need to modify line 9."
   ]
  },
  {
   "cell_type": "code",
   "execution_count": null,
   "metadata": {},
   "outputs": [],
   "source": [
    "#we setup our loop to go through the province_look_up dictionary\n",
    "for abbreviation in province_look_up:\n",
    "    \n",
    "    #we lookup the value in the dictionary associated with abbreviation\n",
    "    #and put it in a variable called full_name\n",
    "    full_name = province_look_up[abbreviation]\n",
    "    \n",
    "    #you need to construct a complex print statement like described above\n",
    "    print( , \" -> \",)   "
   ]
  },
  {
   "cell_type": "markdown",
   "metadata": {},
   "source": [
    "***\n",
    "\n",
    "## Conditionals \n",
    "\n",
    "Sometime we want to run a piece of code only if something is true. We use an `if` statement to make this kind of comparison. If we want `code` to run if `condition` happens we do this by writing code that looks like the following:\n",
    "```\n",
    "\n",
    "        if condition:\n",
    "            code1\n",
    "```\n"
   ]
  },
  {
   "cell_type": "markdown",
   "metadata": {},
   "source": [
    "- Let's pretend that anything over 10 degrees is hot. Let' make a conditional that prints out if it is hot on **Wednesday**. Run the following cell to see if it was hot in our fictional toronto weather data."
   ]
  },
  {
   "cell_type": "code",
   "execution_count": null,
   "metadata": {},
   "outputs": [],
   "source": [
    "if toronto_weather[\"Wednesday\"] > 10:\n",
    "    print(\"Hot out today\")"
   ]
  },
  {
   "cell_type": "markdown",
   "metadata": {},
   "source": [
    "We can compare in our conditionals using the following operators (just like in math class)\n",
    " - `>=`\n",
    " - `<=`\n",
    " - `<`\n",
    " - `>` \n",
    "\n",
    "If we want to see if two things are not the same we use\n",
    " - `!=`\n",
    "\n",
    "\n",
    "If we want to see if two things are the same we use\n",
    "- `==` "
   ]
  },
  {
   "cell_type": "code",
   "execution_count": null,
   "metadata": {},
   "outputs": [],
   "source": [
    "player_1 = 'rock'\n",
    "player_2 = 'rock'\n",
    "\n",
    "\n",
    "if player_1 == player_2:\n",
    "    print(\"Tie!\")"
   ]
  },
  {
   "cell_type": "markdown",
   "metadata": {},
   "source": [
    "## Complex Conditionals\n",
    "\n",
    "We can add more branches and conditions into our `if` statements, as in the following examples."
   ]
  },
  {
   "cell_type": "markdown",
   "metadata": {},
   "source": [
    " When we want to do `code1` if `condition` is true and `code2` if it is not true we use\n",
    "\n",
    "```\n",
    "        if condition:\n",
    "            code1\n",
    "        else:\n",
    "            code2\n",
    " ```"
   ]
  },
  {
   "cell_type": "code",
   "execution_count": null,
   "metadata": {},
   "outputs": [],
   "source": [
    "#try changing the value of the water_temp varible to get different results from your conditional\n",
    "water_temp = 100\n",
    "\n",
    "if water_temp >= 100:\n",
    "    print(\"Water is boiling\")\n",
    "else:\n",
    "    print(\"Water is not boiling\")\n"
   ]
  },
  {
   "cell_type": "markdown",
   "metadata": {},
   "source": [
    "We can also make conditionals with multiple comparisons by using `elif`. (You can think of `elif` as like a contraction of `else` and `if`) When we want to do `code1` if `condition1` is true and to do `code` if `condition2` is true it would look like the following \n",
    "\n",
    "```\n",
    "        if condition:\n",
    "            code1\n",
    "        elif:\n",
    "            code2\n",
    " ```\n",
    " \n",
    "We can make our conditionals as long as we want by chaining together `if`, `elif`, `else` as necessary as seen in the next example. We can also run multiple lines of code when a conditional is evaluated. We just need to make sure it is indented correctly!"
   ]
  },
  {
   "cell_type": "code",
   "execution_count": null,
   "metadata": {},
   "outputs": [],
   "source": [
    "#try changing the value of the water_temp varible to get different results from your conditional\n",
    "water_temp = -10\n",
    "\n",
    "if water_temp >= 100:\n",
    "    print(\"Water is boiling\")\n",
    "elif water_temp < 0:\n",
    "    print(\"Water is frozen\")\n",
    "elif water_temp > 0:\n",
    "    print(\"Water is liquid\")\n",
    "    "
   ]
  },
  {
   "cell_type": "markdown",
   "metadata": {},
   "source": [
    "### A basic algorithm with conditionals\n",
    "\n",
    "Let's make a conditional that is a full fledged rock/paper/scissors game. Change the values for `player_1` and `player_2` to test the different parts of the conditional. Remember we can use lots of whitespace and comments to make our code nice and readable.\n",
    "\n",
    "If you can read through the next code cell, congrats! You all well on your road to understanding code, algorithms and data science. "
   ]
  },
  {
   "cell_type": "code",
   "execution_count": null,
   "metadata": {},
   "outputs": [],
   "source": [
    "#change the value of player_1 and player_2 to test out the different parts of the conditional below\n",
    "#pick from the following options\n",
    "#  rock\n",
    "#  paper\n",
    "#  scissors\n",
    "\n",
    "\n",
    "player_1 = \"rock\"\n",
    "player_2 = \"scissors\"\n",
    "\n",
    "\n",
    "#easy case, both players the same, the end result is a tie!\n",
    "if player_1 == player_2:\n",
    "    print(\"Tie!\")\n",
    "\n",
    "#if player 1 has rock we need to look at player 2. \n",
    "#player 2 wins if they have paper, otherwise player 1 wins\n",
    "\n",
    "elif player_1 == \"rock\":\n",
    "    if player_2 == \"paper\":\n",
    "        print(\"Player 2 wins\")\n",
    "    else:\n",
    "        print(\"Player 1 wins\")\n",
    "        \n",
    "#if player 1 has paper we need to look at player 2. \n",
    "#player 2 wins if they have scissors, otherwise player 1 wins\n",
    "\n",
    "elif player_1 == \"paper\":\n",
    "    if player_2 == \"scissors\":\n",
    "        print(\"Player 2 wins\")\n",
    "    else:\n",
    "        print(\"Player 1 wins\")\n",
    "        \n",
    "        \n",
    "#if player 1 has scissors we need to look at player 2. \n",
    "#player 2 wins if they have rock, otherwise player 1 wins\n",
    "\n",
    "elif player_1 == \"scissors\":\n",
    "    if player_2 == \"rock\":\n",
    "        print(\"Player 2 wins\")\n",
    "    else:\n",
    "        print(\"Player 1 wins\")\n"
   ]
  },
  {
   "cell_type": "markdown",
   "metadata": {},
   "source": [
    "***\n",
    "\n",
    "## Combining with boolean\n",
    "\n",
    "- Sometimes we want to combine conditionals because we want to test more complicated things\n",
    "- We can do this with the following:\n",
    " - `and`\n",
    " - `or`\n",
    " - `not`\n",
    " \n",
    " The following few cells has some examples of this in action "
   ]
  },
  {
   "cell_type": "code",
   "execution_count": null,
   "metadata": {},
   "outputs": [],
   "source": [
    "if (toronto_weather[\"Saturday\"] > 10 and toronto_weather[\"Sunday\"] > 10):\n",
    "    print('We had a warm weekend')"
   ]
  },
  {
   "cell_type": "code",
   "execution_count": null,
   "metadata": {},
   "outputs": [],
   "source": [
    "if (toronto_weather[\"Saturday\"] < 10 and toronto_weather[\"Sunday\"] < 10):\n",
    "    print('We had a cold weekend')"
   ]
  },
  {
   "cell_type": "code",
   "execution_count": null,
   "metadata": {},
   "outputs": [],
   "source": [
    "if (toronto_weather[\"Saturday\"] > 10 or toronto_weather[\"Sunday\"] > 10):\n",
    "    print('We had one warm day on the weekend')"
   ]
  },
  {
   "cell_type": "markdown",
   "metadata": {},
   "source": [
    "## Question 15\n",
    "\n",
    "Consider the following:"
   ]
  },
  {
   "cell_type": "code",
   "execution_count": null,
   "metadata": {},
   "outputs": [],
   "source": [
    "guess = 8\n",
    "\n",
    "if guess <= 10 and guess >= 0:\n",
    "    print(\"Your guess is between 1 - 10\")\n",
    "else:\n",
    "    print(\"Your guess is not between 1-10\")"
   ]
  },
  {
   "cell_type": "markdown",
   "metadata": {},
   "source": [
    "modify the code in the following cell so that it does the same thing as our example but that it uses `or` instead of `and`. You can assume that `guess` will always be a integer and nothing else. \n",
    "\n",
    "Hint: think about how `<=` is like the opposite of `>`"
   ]
  },
  {
   "cell_type": "code",
   "execution_count": null,
   "metadata": {},
   "outputs": [],
   "source": [
    "guess = 8\n",
    "\n",
    "if guess or guess 0:\n",
    "    print(\"\")\n",
    "else:\n",
    "    print(\"\")\n"
   ]
  },
  {
   "cell_type": "markdown",
   "metadata": {},
   "source": [
    "## Extra credit Question!\n",
    "\n",
    "Try to complete the following code cell. It is the start of a new version of rock/paper/scissors game that uses booleans in the conditionals to make the code shorter. (This is another great example of a lesson you learn about coding, there is often *many* *many* different ways to accomplish the same thing.)"
   ]
  },
  {
   "cell_type": "code",
   "execution_count": null,
   "metadata": {},
   "outputs": [],
   "source": [
    "# Complete the following cell\n",
    "# and change the value of player_1 and player_2 to test out the different parts of the new conditional below\n",
    "#\n",
    "#pick from the following options\n",
    "#  rock\n",
    "#  paper\n",
    "#  scissors\n",
    "\n",
    "player_1 = \"rock\"\n",
    "player_2 = \"rock\"\n",
    "\n",
    "#Tie\n",
    "if player_1 == player_2:\n",
    "    print(\"Tie!\")\n",
    "#Player 1 has rock\n",
    "elif player_1 == \"rock\" and player_2 == \"paper\":\n",
    "    print(\"Player 2 Wins!\")\n",
    "elif player_1 == \"rock\" and player_2 == \"scissors\":\n",
    "    print(\"Player 1 Wins!\")\n",
    "#Player 1 has paper\n",
    "elif player_1 == \"paper\" and player_2 == \"\":\n",
    "    print(\"Player 2 Wins!\")\n",
    "elif player_1 == \"paper\" and player_2 == \"\":\n",
    "    print(\"Player 1 Wins!\")\n",
    "#Player 1 has scissor\n",
    "elif player_1 == \"\" and player_2 == \"\":\n",
    "    print(\"Player 2 Wins!\")\n",
    "elif player_1 == \"\" and player_2 == \"\":\n",
    "    print(\"Player 1 Wins!\")\n",
    "    \n"
   ]
  },
  {
   "cell_type": "markdown",
   "metadata": {},
   "source": [
    "## Congrats!\n",
    "\n",
    "You have successfully made it through week 1. Now head over to the Homework notebook to attempt some more questions on these topics."
   ]
  }
 ],
 "metadata": {
  "kernelspec": {
   "display_name": "Python 3",
   "language": "python",
   "name": "python3"
  },
  "language_info": {
   "codemirror_mode": {
    "name": "ipython",
    "version": 3
   },
   "file_extension": ".py",
   "mimetype": "text/x-python",
   "name": "python",
   "nbconvert_exporter": "python",
   "pygments_lexer": "ipython3",
   "version": "3.7.4"
  }
 },
 "nbformat": 4,
 "nbformat_minor": 2
}
