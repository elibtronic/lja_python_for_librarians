{
 "cells": [
  {
   "cell_type": "markdown",
   "metadata": {},
   "source": [
    "# Python for Librarians - Week 3 Workalong Answers\n",
    "\n",
    "\n",
    "In case you need them, here are the completed answers for the Week 3 Workalong notebook."
   ]
  },
  {
   "cell_type": "code",
   "execution_count": null,
   "metadata": {},
   "outputs": [],
   "source": [
    "import pandas\n",
    "#We `import as plt` just like we did with Pandas to make it so we have to type less \n",
    "import matplotlib.pyplot as plt\n",
    "%matplotlib inline"
   ]
  },
  {
   "cell_type": "code",
   "execution_count": null,
   "metadata": {},
   "outputs": [],
   "source": [
    "sci_hub_data = pandas.read_csv(\"https://raw.githubusercontent.com/elibtronic/lja_datasets/master/week_3_sci_hub_worksheet.csv\")"
   ]
  },
  {
   "cell_type": "markdown",
   "metadata": {},
   "source": [
    "## Question 1 \n",
    "Can you **describe** the dataframe?"
   ]
  },
  {
   "cell_type": "code",
   "execution_count": null,
   "metadata": {},
   "outputs": [],
   "source": [
    "sci_hub_data.describe()"
   ]
  },
  {
   "cell_type": "markdown",
   "metadata": {},
   "source": [
    "## Question 2\n",
    "\n",
    "How many unique publishers are in this dataset? (Hint: each unique prefix will indicate another Publisher in this data)"
   ]
  },
  {
   "cell_type": "code",
   "execution_count": null,
   "metadata": {},
   "outputs": [],
   "source": [
    "# How mandy unique publishers are in the data?\n",
    "sci_hub_data[\"doi_prefix\"].nunique()"
   ]
  },
  {
   "cell_type": "markdown",
   "metadata": {},
   "source": [
    "## Question 3\n",
    "\n",
    "How many unique users are in this dataset?"
   ]
  },
  {
   "cell_type": "code",
   "execution_count": null,
   "metadata": {},
   "outputs": [],
   "source": [
    "# unique users\n",
    "sci_hub_data[\"user_id\"].nunique()"
   ]
  },
  {
   "cell_type": "markdown",
   "metadata": {},
   "source": [
    "## Question 4\n",
    "\n",
    "See if you can now replicate this for the Montreal data in the next cell. You just need to modify lines 6 & 8"
   ]
  },
  {
   "cell_type": "code",
   "execution_count": null,
   "metadata": {},
   "outputs": [],
   "source": [
    "montreal_top_publishers = sci_hub_data[sci_hub_data[\"city\"] == \"Montreal\"].groupby(\"doi_prefix\")\\\n",
    "                            .count()\\\n",
    "                            .sort_values(by='user_id',ascending=False)\\\n",
    "                            .head(10)[\"user_id\"]\n",
    "\n",
    "plt.pie(montreal_top_publishers, labels=montreal_top_publishers.index)\n",
    "\n",
    "plt.title(\"Top Ten Publisher downloaded in Montreal\")\n",
    "plt.show()"
   ]
  },
  {
   "cell_type": "markdown",
   "metadata": {},
   "source": [
    "## Question 5\n",
    "\n",
    "Let's try making a histogram for downloads per person in Montreal. Most of the code is written for you already. You just need to fill in lines: 7,9,12,13,16"
   ]
  },
  {
   "cell_type": "code",
   "execution_count": null,
   "metadata": {},
   "outputs": [],
   "source": [
    "montreal_downloads_by_user = montreal_users.groupby('user_id')\\\n",
    "                            .count()\\\n",
    "                            .sort_values(by = \"doi_whole\", ascending=False)[\"doi_whole\"].head(100)\n",
    "\n",
    "\n",
    "#how many different buckets we'll put values into (try experimenting with different values)\n",
    "bins = 25\n",
    "\n",
    "plt.hist(montreal_downloads_by_user, bins)\n",
    "\n",
    "#When we have a graph with X and Y axis we can add labels to them\n",
    "plt.ylabel(\"Number of Users\")\n",
    "plt.xlabel(\"Number of Downloads\")\n",
    "\n",
    "#Descriptive title\n",
    "plt.title(\"Downloads per user in Montreal\")\n",
    "\n",
    "#Generate our Graph\n",
    "plt.show()"
   ]
  }
 ],
 "metadata": {
  "kernelspec": {
   "display_name": "Python 3",
   "language": "python",
   "name": "python3"
  },
  "language_info": {
   "codemirror_mode": {
    "name": "ipython",
    "version": 3
   },
   "file_extension": ".py",
   "mimetype": "text/x-python",
   "name": "python",
   "nbconvert_exporter": "python",
   "pygments_lexer": "ipython3",
   "version": "3.7.4"
  }
 },
 "nbformat": 4,
 "nbformat_minor": 2
}
