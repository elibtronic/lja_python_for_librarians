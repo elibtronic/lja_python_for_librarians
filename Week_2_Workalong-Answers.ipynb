{
 "cells": [
  {
   "cell_type": "markdown",
   "metadata": {},
   "source": [
    "# Python for Librarians - Week 2 Workalong\n",
    "\n",
    "\n",
    "Answers for Week 2 workalong just in case you need them."
   ]
  },
  {
   "cell_type": "markdown",
   "metadata": {},
   "source": [
    "## Question 1\n",
    "\n",
    "Describe what the `int()` function does in the following markdown cell  "
   ]
  },
  {
   "cell_type": "markdown",
   "metadata": {},
   "source": [
    "The function int will...\n",
    "\n",
    "turn the value you pass to it into an integer. Useful when changing strings into integers for when we compare them to other integers."
   ]
  },
  {
   "cell_type": "markdown",
   "metadata": {},
   "source": [
    "## Question 2\n",
    "\n",
    "Describe what the `input()` function does in the following markdown cell."
   ]
  },
  {
   "cell_type": "markdown",
   "metadata": {},
   "source": [
    "The input function will...\n",
    "\n",
    "Prompt the user to to input a value via the keyboard. This values is kept as a string."
   ]
  },
  {
   "cell_type": "markdown",
   "metadata": {},
   "source": [
    "## Question 3\n",
    "\n",
    "Fix the following cell so that it prints _They are the same!_. (HINT: there are at least two ways to do this)"
   ]
  },
  {
   "cell_type": "code",
   "execution_count": null,
   "metadata": {},
   "outputs": [],
   "source": [
    "number = \"4\"\n",
    "\n",
    "if int(number) == 4:\n",
    "    print(\"They are the same!\")\n"
   ]
  },
  {
   "cell_type": "markdown",
   "metadata": {},
   "source": [
    "First let's reload our Toronto Weather Data from Week 1 and run the `len` function on it. Python tell us how many entries are in that dictionary. Long story short, Python will do a pretty good job of figuring out what you are trying do when you use a function. In the case of `len` in counts the letters if you give it a string, in the case of a dictionary it gives you the number of entries in the dictionary. Neat."
   ]
  },
  {
   "cell_type": "markdown",
   "metadata": {},
   "source": [
    "## Question 4\n",
    "\n",
    "Complete the following function that will find the maximum value in a list of integers.\n",
    "(Hint: you only need to modify lines: 11 & 17)"
   ]
  },
  {
   "cell_type": "code",
   "execution_count": null,
   "metadata": {},
   "outputs": [],
   "source": [
    "numbers = [2, 5, 2, 9]\n",
    "\n",
    "def findMax(numbers_to_consider):\n",
    "    \n",
    "    # We will start with automatically setting the highest number\n",
    "    # to the first value in our list. \n",
    "    # (or in other words: the number at the 0 index in the list)\n",
    "    max_number = numbers_to_consider[0]\n",
    "    \n",
    "    for n in numbers_to_consider:\n",
    "        if n > max_number:\n",
    "            max_number = n\n",
    "    \n",
    "    return max_number\n",
    "\n",
    "\n",
    "result = findMax(numbers)\n",
    "print(\"Largest number is: \")\n",
    "print(result)\n",
    "\n"
   ]
  },
  {
   "cell_type": "markdown",
   "metadata": {},
   "source": [
    "## Question 5\n",
    "\n",
    "Complete the following function that will find the smallest value in a list of integers. (Hint: you only need to modify lines: 11 & 15)"
   ]
  },
  {
   "cell_type": "code",
   "execution_count": null,
   "metadata": {},
   "outputs": [],
   "source": [
    "numbers = [2, 5, 2, 9]\n",
    "\n",
    "def findMin(numbers_to_consider):\n",
    "    \n",
    "    \n",
    "    # We will start with automatically setting the highest number\n",
    "    # to the first value in our list. \n",
    "    # (or in other words: the number at the 0 index in the list)\n",
    "    min_number = numbers_to_consider[0]\n",
    "    \n",
    "    for n in numbers:\n",
    "        if n < min_number:\n",
    "            min_number = n\n",
    "    \n",
    "    return min_number\n",
    "\n",
    "\n",
    "result = findMin(numbers)\n",
    "print(\"Smallest number is: \")\n",
    "print(result)\n"
   ]
  },
  {
   "cell_type": "code",
   "execution_count": 6,
   "metadata": {
    "scrolled": true
   },
   "outputs": [
    {
     "data": {
      "text/html": [
       "<div>\n",
       "<style scoped>\n",
       "    .dataframe tbody tr th:only-of-type {\n",
       "        vertical-align: middle;\n",
       "    }\n",
       "\n",
       "    .dataframe tbody tr th {\n",
       "        vertical-align: top;\n",
       "    }\n",
       "\n",
       "    .dataframe thead th {\n",
       "        text-align: right;\n",
       "    }\n",
       "</style>\n",
       "<table border=\"1\" class=\"dataframe\">\n",
       "  <thead>\n",
       "    <tr style=\"text-align: right;\">\n",
       "      <th></th>\n",
       "      <th>Patron Type Definition</th>\n",
       "      <th>Total Checkouts</th>\n",
       "      <th>Total Renewals</th>\n",
       "      <th>Home Library Definition</th>\n",
       "      <th>Circulation Active Month</th>\n",
       "      <th>Circulation Active Year</th>\n",
       "      <th>Year Patron Registered</th>\n",
       "    </tr>\n",
       "  </thead>\n",
       "  <tbody>\n",
       "    <tr>\n",
       "      <th>0</th>\n",
       "      <td>YOUNG ADULT</td>\n",
       "      <td>0</td>\n",
       "      <td>0</td>\n",
       "      <td>Marina</td>\n",
       "      <td>None</td>\n",
       "      <td>None</td>\n",
       "      <td>2015</td>\n",
       "    </tr>\n",
       "    <tr>\n",
       "      <th>1</th>\n",
       "      <td>ADULT</td>\n",
       "      <td>3</td>\n",
       "      <td>12</td>\n",
       "      <td>Richmond</td>\n",
       "      <td>April</td>\n",
       "      <td>2014</td>\n",
       "      <td>2013</td>\n",
       "    </tr>\n",
       "    <tr>\n",
       "      <th>2</th>\n",
       "      <td>JUVENILE</td>\n",
       "      <td>11</td>\n",
       "      <td>0</td>\n",
       "      <td>Bayview/Linda Brooks-Burton</td>\n",
       "      <td>June</td>\n",
       "      <td>2014</td>\n",
       "      <td>2010</td>\n",
       "    </tr>\n",
       "    <tr>\n",
       "      <th>3</th>\n",
       "      <td>JUVENILE</td>\n",
       "      <td>171</td>\n",
       "      <td>111</td>\n",
       "      <td>Merced</td>\n",
       "      <td>July</td>\n",
       "      <td>2016</td>\n",
       "      <td>2014</td>\n",
       "    </tr>\n",
       "    <tr>\n",
       "      <th>4</th>\n",
       "      <td>YOUNG ADULT</td>\n",
       "      <td>14</td>\n",
       "      <td>1</td>\n",
       "      <td>Richmond</td>\n",
       "      <td>October</td>\n",
       "      <td>2013</td>\n",
       "      <td>2011</td>\n",
       "    </tr>\n",
       "    <tr>\n",
       "      <th>5</th>\n",
       "      <td>ADULT</td>\n",
       "      <td>5</td>\n",
       "      <td>0</td>\n",
       "      <td>Main Library</td>\n",
       "      <td>May</td>\n",
       "      <td>2013</td>\n",
       "      <td>2013</td>\n",
       "    </tr>\n",
       "    <tr>\n",
       "      <th>6</th>\n",
       "      <td>YOUNG ADULT</td>\n",
       "      <td>194</td>\n",
       "      <td>178</td>\n",
       "      <td>North Beach</td>\n",
       "      <td>July</td>\n",
       "      <td>2016</td>\n",
       "      <td>2004</td>\n",
       "    </tr>\n",
       "    <tr>\n",
       "      <th>7</th>\n",
       "      <td>ADULT</td>\n",
       "      <td>26</td>\n",
       "      <td>9</td>\n",
       "      <td>Glen Park</td>\n",
       "      <td>July</td>\n",
       "      <td>2016</td>\n",
       "      <td>2003</td>\n",
       "    </tr>\n",
       "    <tr>\n",
       "      <th>8</th>\n",
       "      <td>ADULT</td>\n",
       "      <td>14</td>\n",
       "      <td>0</td>\n",
       "      <td>Ingleside</td>\n",
       "      <td>September</td>\n",
       "      <td>2013</td>\n",
       "      <td>2012</td>\n",
       "    </tr>\n",
       "    <tr>\n",
       "      <th>9</th>\n",
       "      <td>ADULT</td>\n",
       "      <td>0</td>\n",
       "      <td>0</td>\n",
       "      <td>Main Library</td>\n",
       "      <td>January</td>\n",
       "      <td>2014</td>\n",
       "      <td>2014</td>\n",
       "    </tr>\n",
       "  </tbody>\n",
       "</table>\n",
       "</div>"
      ],
      "text/plain": [
       "  Patron Type Definition  Total Checkouts  Total Renewals  \\\n",
       "0            YOUNG ADULT                0               0   \n",
       "1                  ADULT                3              12   \n",
       "2               JUVENILE               11               0   \n",
       "3               JUVENILE              171             111   \n",
       "4            YOUNG ADULT               14               1   \n",
       "5                  ADULT                5               0   \n",
       "6            YOUNG ADULT              194             178   \n",
       "7                  ADULT               26               9   \n",
       "8                  ADULT               14               0   \n",
       "9                  ADULT                0               0   \n",
       "\n",
       "       Home Library Definition Circulation Active Month  \\\n",
       "0                       Marina                     None   \n",
       "1                     Richmond                    April   \n",
       "2  Bayview/Linda Brooks-Burton                     June   \n",
       "3                       Merced                     July   \n",
       "4                     Richmond                  October   \n",
       "5                 Main Library                      May   \n",
       "6                  North Beach                     July   \n",
       "7                    Glen Park                     July   \n",
       "8                    Ingleside                September   \n",
       "9                 Main Library                  January   \n",
       "\n",
       "  Circulation Active Year  Year Patron Registered  \n",
       "0                    None                    2015  \n",
       "1                    2014                    2013  \n",
       "2                    2014                    2010  \n",
       "3                    2016                    2014  \n",
       "4                    2013                    2011  \n",
       "5                    2013                    2013  \n",
       "6                    2016                    2004  \n",
       "7                    2016                    2003  \n",
       "8                    2013                    2012  \n",
       "9                    2014                    2014  "
      ]
     },
     "execution_count": 6,
     "metadata": {},
     "output_type": "execute_result"
    }
   ],
   "source": [
    "import pandas as pd\n",
    "\n",
    "#Pandas has a function that will open up a csv and load it into a dataframe\n",
    "sfl_data = pd.read_csv(\"https://raw.githubusercontent.com/elibtronic/lja_datasets/master/week_2_workalong_san_francisco.csv\")\n",
    "\n",
    "#will show us the top 10 entries in our dataframe using the head function along with the argument 10\n",
    "sfl_data.head(10)"
   ]
  },
  {
   "cell_type": "markdown",
   "metadata": {},
   "source": [
    "To get a general quantitative overview of our dataframe we apply the **.describe()** function to it. It will only apply those calculations to columns that have numeric data."
   ]
  },
  {
   "cell_type": "markdown",
   "metadata": {},
   "source": [
    "## Question 6\n",
    "\n",
    "Complete the following cell to find out the average (or mean) of the **Total Checkouts** column?"
   ]
  },
  {
   "cell_type": "code",
   "execution_count": null,
   "metadata": {
    "scrolled": true
   },
   "outputs": [],
   "source": [
    "\n",
    "sfl_data[\"Total Checkouts\"].mean()\n"
   ]
  },
  {
   "cell_type": "markdown",
   "metadata": {},
   "source": [
    "## Question 7\n",
    "\n",
    "Complete the following cell to find out the highest number of **Total Checkout** for a patron."
   ]
  },
  {
   "cell_type": "code",
   "execution_count": null,
   "metadata": {},
   "outputs": [],
   "source": [
    "\n",
    "sfl_data[\"Total Checkouts\"].max()\n"
   ]
  },
  {
   "cell_type": "markdown",
   "metadata": {},
   "source": [
    "## Question 8\n",
    "\n",
    "In the cell below reflect on the two code cells above about average checkouts between 2015 & 2016. What can you say about them?"
   ]
  },
  {
   "cell_type": "markdown",
   "metadata": {},
   "source": [
    "The difference between 2015 & 2016 is...\n",
    "\n",
    "People who created accounts in 2015 checked out and renewed more material on average compared to people who created an account in 2016. What did the Library do different in 2015 I wonder? "
   ]
  },
  {
   "cell_type": "markdown",
   "metadata": {},
   "source": [
    "## Question 9\n",
    "\n",
    "In the markdown cell below describe your observations about Adult versus Juvenile borrowers for the Main Library."
   ]
  },
  {
   "cell_type": "markdown",
   "metadata": {},
   "source": [
    "The difference between these two patron groups is...\n",
    "\n",
    "Adults\n",
    "- Average amount of accounts created was in 2010\n",
    "\n",
    "Juveniles\n",
    "- Average amount of accounts creatwe was in 2012\n",
    "- Juvenile's on average check out more material and peform more renewals over adults\n",
    "\n"
   ]
  },
  {
   "cell_type": "markdown",
   "metadata": {},
   "source": [
    "## Question 10\n",
    "\n",
    "If we want to see if either of two conditional is true (eg. `OR`) we combine them with `|`. Complete the following code cell so it counts how many patrons are in the main library `or` Chinatown"
   ]
  },
  {
   "cell_type": "code",
   "execution_count": null,
   "metadata": {
    "scrolled": true
   },
   "outputs": [],
   "source": [
    "sfl_data[(sfl_data[\"Home Library Definition\"] == \"Main Library\") | \\\n",
    "         (sfl_data[\"Home Library Definition\"] == \"Chinatown\")].count()"
   ]
  },
  {
   "cell_type": "markdown",
   "metadata": {},
   "source": [
    "## Question 11\n",
    "\n",
    "Can you find what the average number of checkouts for adult borrowers at the Glen Park library?"
   ]
  },
  {
   "cell_type": "code",
   "execution_count": null,
   "metadata": {},
   "outputs": [],
   "source": [
    "sfl_data[(sfl_data[\"Home Library Definition\"] == \"Glen Park Library\") | \\\n",
    "         (sfl_data[\"Patron Type Definition\"] == \"ADULT\")].mean()"
   ]
  },
  {
   "cell_type": "markdown",
   "metadata": {},
   "source": [
    "## Question 12\n",
    "\n",
    "Can you find the the highest number of checkouts for adult borrowers at the Main Library or Chinatown?"
   ]
  },
  {
   "cell_type": "code",
   "execution_count": null,
   "metadata": {},
   "outputs": [],
   "source": [
    "sfl_data[((sfl_data[\"Home Library Definition\"] == \"Main Library\") | \\\n",
    "          (sfl_data[\"Home Library Definition\"] == \"Chinatown\")) &\n",
    "         (sfl_data[\"Patron Type Definition\"] == \"ADULT\")][\"Total Checkouts\"].max()"
   ]
  },
  {
   "cell_type": "markdown",
   "metadata": {},
   "source": [
    "### Question 14\n",
    "\n",
    "After reading up on what a correlation matrix is (with the link above). What can you say about the data in the SF Library user data? Add some thoughts in the markdown cell below. (You'll note that much like as when we use `describe()` calculating the correlation matrix is done automatically on just numeric data in the dataset."
   ]
  },
  {
   "cell_type": "markdown",
   "metadata": {},
   "source": [
    "The Correlation Matrix Tells me that....\n",
    "\n",
    "Many things, but for a start:\n",
    "- _Total Renewals_ is postively correlated with _Total Checkouts_\n",
    "- _Year Patron Registered_ is negatively correlated with _Year Patron Registered_\n",
    "- _Year Patron Registered_ is negatively correlated with _Total Renewals_\n"
   ]
  }
 ],
 "metadata": {
  "kernelspec": {
   "display_name": "Python 3",
   "language": "python",
   "name": "python3"
  },
  "language_info": {
   "codemirror_mode": {
    "name": "ipython",
    "version": 3
   },
   "file_extension": ".py",
   "mimetype": "text/x-python",
   "name": "python",
   "nbconvert_exporter": "python",
   "pygments_lexer": "ipython3",
   "version": "3.7.4"
  }
 },
 "nbformat": 4,
 "nbformat_minor": 2
}
