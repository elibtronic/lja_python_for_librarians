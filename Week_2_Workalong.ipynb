{
 "cells": [
  {
   "cell_type": "markdown",
   "metadata": {},
   "source": [
    "# Python for Librarians - Week 2 Workalong\n",
    "\n",
    "\n",
    "Now that we have the basics under our belt we are going to look into:\n",
    "\n",
    "- More details about functions\n",
    "- What code libraries are\n",
    "- The [Pandas Library](https://pandas.pydata.org/) which is *very* useful for data analysis. \n"
   ]
  },
  {
   "cell_type": "markdown",
   "metadata": {},
   "source": [
    "The following cell has a bit of code that will introduce two new functions to us:\n",
    "\n",
    "- `int()`\n",
    "- `input()`\n",
    "\n",
    "See if you can determine what they do be running the following cells a few times."
   ]
  },
  {
   "cell_type": "code",
   "execution_count": null,
   "metadata": {},
   "outputs": [],
   "source": [
    "\n",
    "number = int(input(\"Pick any number between 1 - 10: \"))\n",
    "\n",
    "if number > 10 or number < 1:\n",
    "    print(\"Sorry you didn't pick a number between 1 - 10\")\n",
    "else:\n",
    "    print(\"Your number is between 1 and 10!\")"
   ]
  },
  {
   "cell_type": "markdown",
   "metadata": {},
   "source": [
    "## Question 1\n",
    "\n",
    "Describe what the `int()` function does in the following markdown cell  "
   ]
  },
  {
   "cell_type": "markdown",
   "metadata": {},
   "source": [
    "The function int will...\n",
    "\n"
   ]
  },
  {
   "cell_type": "markdown",
   "metadata": {},
   "source": [
    "## Question 2\n",
    "\n",
    "Describe what the `input()` function does in the following markdown cell."
   ]
  },
  {
   "cell_type": "markdown",
   "metadata": {},
   "source": [
    "The input function will..."
   ]
  },
  {
   "cell_type": "markdown",
   "metadata": {},
   "source": [
    "## Types\n",
    "\n",
    "Just a brief digression into types. Certain function can only work on certain types of variables. We just saw that above. If we get information entered from a keyboard, Python assumes that is string, if we want to treat it as an integer (to compare it against other integer values) we need to make sure this happens.\n",
    "\n",
    "Don't worry, we don't have to spend to much time trying to wrap our head around this idea. Most of the work in the remainder of this class won't get caught up on this detail."
   ]
  },
  {
   "cell_type": "markdown",
   "metadata": {},
   "source": [
    "## Question 3\n",
    "\n",
    "Fix the following cell so that it prints _They are teh same!_. (HINT: there are at least two ways to do this)"
   ]
  },
  {
   "cell_type": "code",
   "execution_count": null,
   "metadata": {},
   "outputs": [],
   "source": [
    "number = \"4\"\n",
    "\n",
    "if number == 4:\n",
    "    print(\"They are the same!\")\n"
   ]
  },
  {
   "cell_type": "markdown",
   "metadata": {},
   "source": [
    "## Functions\n",
    "\n",
    "Functions are bits of code that do a certain task in a certain way. We made extensive use of the `print()` function in week 1. Some functions need _arguments_ or _paramaters_. We pass those in the the round brackets. EG. we put the variable name we want to print in the print function as a parameter such as with `print(age)`. Sometimes a function can take many arguments, but for now let's keep it simple.\n",
    "\n",
    "We can create our own functions too! This is useful if we want to re-use the same chunk of code many different times. When we create a function in Python it looks like the:\n",
    "\n",
    "\n",
    "```\n",
    "def name_of_function(argument):\n",
    "    #code\n",
    "    #code\n",
    "    #...\n",
    "    return answer #not mandatory\n",
    "    \n",
    "```\n",
    "When our function produces a value that we want to use further we end with the `return` and the variable name. That will pass the variable back to the place that called it. \n",
    "\n",
    "We've already seen how we *call* a functon:\n",
    "\n",
    "```\n",
    "name_of_function(argument)\n",
    "\n",
    "```\n",
    "\n",
    "If you would like to print out the results of your function you need to surround it with the `print` function\n",
    "\n",
    "```\n",
    "print(name_of_function(argument))\n",
    "\n",
    "```\n",
    "\n",
    "Or we can do this if we want to spread this across a couple of lines of code\n",
    "\n",
    "```\n",
    "result = name_of_function(argument)\n",
    "print(result)\n",
    "\n",
    "```\n"
   ]
  },
  {
   "cell_type": "markdown",
   "metadata": {},
   "source": [
    "## Another useful function...\n",
    "\n",
    "The `len()` function tells us how long something is. In the next cell we print how long the string variable `sentence` is. Often a function can be applied to different types of variables and the results are as you would expect."
   ]
  },
  {
   "cell_type": "code",
   "execution_count": null,
   "metadata": {},
   "outputs": [],
   "source": [
    "sentence = \"Now is the time of our discontent.\"\n",
    "print(len(sentence))"
   ]
  },
  {
   "cell_type": "markdown",
   "metadata": {},
   "source": [
    "First let's reload our Toronto Weather Data from Week 1 and run the `len` function on it. Python tell us how many entries are in that dictionary. Long story short, Python will do a pretty good job of figuring out what you are trying do when you use a function. In the case of `len` in counts the letters if you give it a string, in the case of a dictionary it gives you the number of entries in the dictionary. Neat."
   ]
  },
  {
   "cell_type": "code",
   "execution_count": null,
   "metadata": {},
   "outputs": [],
   "source": [
    "toronto_weather = {\n",
    "    \"Monday\": 10.0,\n",
    "    \"Tuesday\" : 12.0,\n",
    "    \"Wednesday\" : 15.0,\n",
    "    \"Thursday\" : 10.0,\n",
    "    \"Friday\" : 9.0,\n",
    "    \"Saturday\" : 6.0,\n",
    "    \"Sunday\" : 6.0\n",
    "    }\n",
    "\n",
    "#Here we give two parameters to print. We separate them with a comma. This is *always* how pass multiple\n",
    "#values to a function.\n",
    "print(\"The length of our data set is:\", len(toronto_weather))"
   ]
  },
  {
   "cell_type": "markdown",
   "metadata": {},
   "source": [
    "## A very common function\n",
    "\n",
    "The cell below will create a function that uses a loop to find the average temperature for our fictional week of data. We then print the result to the screen. You'll notice that we can pass in the values from the dictionary to the function when we called it with `toronto_weather.values()`\n",
    "\n",
    "(By the way, if you can understand the following block of code you've accomplished the hardest part of this class)\n"
   ]
  },
  {
   "cell_type": "code",
   "execution_count": null,
   "metadata": {},
   "outputs": [],
   "source": [
    "def average_temp(week):\n",
    "    \n",
    "    #create a running sum for all the entries we will loop through\n",
    "    total_degrees = 0\n",
    "    \n",
    "    for day in week:\n",
    "        total_degrees = total_degrees + int(day)\n",
    "        \n",
    "    mean = total_degrees / len(week)    \n",
    "    return mean\n",
    "\n",
    "\n",
    "print(average_temp(toronto_weather.values()))\n"
   ]
  },
  {
   "cell_type": "markdown",
   "metadata": {},
   "source": [
    "## Question 4\n",
    "\n",
    "Complete the following function that will the maximum value in a list of integers. (Hint: you only need to modify lines: 10 & 16)"
   ]
  },
  {
   "cell_type": "code",
   "execution_count": null,
   "metadata": {},
   "outputs": [],
   "source": [
    "numbers = [2, 5, 2, 9]\n",
    "\n",
    "def findMax(numbers_to_consider):\n",
    "    \n",
    "    # We will start with automatically setting the highest number to the first value in our list. \n",
    "    # The number at the 0th position in the list\n",
    "    max_number = numbers_to_consider[0]\n",
    "    \n",
    "    for n in numbers_to_consider:\n",
    "        if  > max_number:\n",
    "            max_number = n\n",
    "    \n",
    "    return max_number\n",
    "\n",
    "\n",
    "result = findMax()\n",
    "print(\"Largest number is: \")\n",
    "print(result)\n",
    "\n"
   ]
  },
  {
   "cell_type": "markdown",
   "metadata": {},
   "source": [
    "## Question 5\n",
    "\n",
    "Complete the following function that will the minimum value in a list of integers. (Hint: you only need to modify lines: 10 & 14)"
   ]
  },
  {
   "cell_type": "code",
   "execution_count": null,
   "metadata": {},
   "outputs": [],
   "source": [
    "numbers = [2, 5, 2, 9]\n",
    "\n",
    "def findMin(numbers_to_consider):\n",
    "    \n",
    "    \n",
    "    # We will start with automatically setting the smallest number to the first value in our list. \n",
    "    # The number at the 0th position in the list\n",
    "    min_number = numbers_to_consider[0]\n",
    "    \n",
    "    for n in :\n",
    "        if n < min_number:\n",
    "            min_number = n\n",
    "    \n",
    "    return \n",
    "\n",
    "\n",
    "result = findMin(numbers)\n",
    "print(\"Smallest number is: \")\n",
    "print(result)\n"
   ]
  },
  {
   "cell_type": "markdown",
   "metadata": {},
   "source": [
    "----\n",
    "\n",
    "## Libraries\n",
    "It's not very useful to keep writing functions for common calculations, the point of programming is to built on what is already created. To demonstrate this we are going to look at a importing libraries, we are going to start with the Python [statistics](https://docs.python.org/3/library/statistics.html) Library in the following cell. Python includes a bunch of Libraries by default when it runs. Which is why we don't need to import anything before we use `print()` for example.\n",
    "\n",
    "Calculating an average is such a common task we don't want to write our own version of it. We'll use the code written by some expert instead. When we want to use a library we use the `import` keyword."
   ]
  },
  {
   "cell_type": "code",
   "execution_count": null,
   "metadata": {},
   "outputs": [],
   "source": [
    "\n",
    "#import the Python statistics Library.\n",
    "import statistics\n",
    "\n",
    "#the mean function is called statistics.mean. Here we run it on the values from our Toronto Weather dictionary\n",
    "mean = statistics.mean(toronto_weather.values())\n",
    "\n",
    "print(mean)"
   ]
  },
  {
   "cell_type": "markdown",
   "metadata": {},
   "source": [
    "As we saw with `len` over strings and dictionaries `statistics.mean` will work in the same way. It calculates the mean in of the values that you give it. Watch is find the mean of a list in the following cell."
   ]
  },
  {
   "cell_type": "code",
   "execution_count": null,
   "metadata": {},
   "outputs": [],
   "source": [
    "marks = [80,75,85,70,60]\n",
    "\n",
    "mean = statistics.mean(marks)\n",
    "\n",
    "print(mean)"
   ]
  },
  {
   "cell_type": "markdown",
   "metadata": {},
   "source": [
    "So far so good?"
   ]
  },
  {
   "cell_type": "markdown",
   "metadata": {},
   "source": [
    "----\n",
    "\n",
    "## The Pandas Library\n",
    "\n",
    "Now we are going to focus on a great library that will allow us to look at data from CSV files and spreadsheets. We are now finally getting into the data science portion of the class! \n",
    "\n",
    "The following cell imports pandas, creates a panadas dataframe variable, and loads up a csv file that represents a data file. When we import libraries sometimes we rename it so that there is less to type when you use it, that's why line 1 has the final portion `as pd` that lets us write shorter code. Such as `pd.read_csv` instead of `pandas.read_csv`. Almost all tutorials you find online will do this when using pandas.\n",
    "\n",
    "We are going to explore some [San Francisco Library Usage](https://www.kaggle.com/datasf/sf-library-usage-data) data. The dataset we are looking at is slightly truncated. As workers in Libraries we are often given data as Excel or CSV files. We are going to see how we can use Pandas to analyze a CSV file. My hope is that be the end of the lesson you'll try Pandas instead of Excel next time you have a data file to look at."
   ]
  },
  {
   "cell_type": "markdown",
   "metadata": {},
   "source": [
    "In the cell we import pandas on line 1, on line 4 we load a CSV file into a pandas dataframe variable. Lastly on line 7 we call a head function on our new dataframe with the argument of 10. This will display the first 10 lines of our dataframe. The first line of our CSV file was the names of the columns, Panda included those as names of the columns when it loaded up the data!"
   ]
  },
  {
   "cell_type": "code",
   "execution_count": null,
   "metadata": {
    "scrolled": true
   },
   "outputs": [],
   "source": [
    "import pandas as pd\n",
    "\n",
    "#Pandas has a function that will open up a csv and load it into a dataframe\n",
    "sfl_data = pd.read_csv(\"https://raw.githubusercontent.com/elibtronic/lja_datasets/master/week_2_workalong_san_francisco.csv\")\n",
    "\n",
    "#will show us the top 10 entries in our dataframe using the head function along with the argument 10\n",
    "sfl_data.head(10)"
   ]
  },
  {
   "cell_type": "markdown",
   "metadata": {},
   "source": [
    "To get a general quantitative overview of our dataframe we apply the **.describe()** function to it. It will only apply those calculations to columns that have numeric data."
   ]
  },
  {
   "cell_type": "code",
   "execution_count": null,
   "metadata": {},
   "outputs": [],
   "source": [
    "sfl_data.describe()"
   ]
  },
  {
   "cell_type": "markdown",
   "metadata": {},
   "source": [
    "Wow! One patron has **7947** total checkouts. We can also see that we have 10000 rows of information, our average number of checkout is **167** and the average number of renewels is **63**"
   ]
  },
  {
   "cell_type": "markdown",
   "metadata": {},
   "source": [
    "# Pandas Pandas Pandas\n",
    "\n",
    "Let's take a tour of some useful functions we can perform on a Pandas dataframe. These often allow us to see different broad details about what is in our data."
   ]
  },
  {
   "cell_type": "markdown",
   "metadata": {},
   "source": [
    "### Grouping\n",
    "\n",
    "**.groupby()** Will allow us to see the data in different segments. For example if you opened this CSV file in Excel you would only see the lines as individual data points, making it difficult to spot any trends. We can use _groupby_ to see the data pushed together based on any column in our data! Run the next cell group the data by the column `Home Library Definition`"
   ]
  },
  {
   "cell_type": "code",
   "execution_count": null,
   "metadata": {},
   "outputs": [],
   "source": [
    "sfl_data.groupby(\"Home Library Definition\")"
   ]
  },
  {
   "cell_type": "markdown",
   "metadata": {},
   "source": [
    "Ooop. One problem. We group the values but we don't ask Pandas to do anything with them, which is why we just get some details about a Pandas dataframe that don't make a one of sense."
   ]
  },
  {
   "cell_type": "markdown",
   "metadata": {},
   "source": [
    "### Counting\n",
    "\n",
    "We need to add another function to our grouped data so that it display something to the screen. In this case we'll use **.count( )** which will tell us how many entries are in certain column. \n",
    "\n",
    "Compare the output of the cell above to the one below."
   ]
  },
  {
   "cell_type": "code",
   "execution_count": null,
   "metadata": {},
   "outputs": [],
   "source": [
    "# How many home Libraries are there\n",
    "sfl_data.groupby(\"Home Library Definition\").count()"
   ]
  },
  {
   "cell_type": "markdown",
   "metadata": {},
   "source": [
    "### Example: How many patrons of each type are there\n",
    "\n",
    "Here we use _groupby_ and _count_ with the `Patron Type Definition` column"
   ]
  },
  {
   "cell_type": "code",
   "execution_count": null,
   "metadata": {},
   "outputs": [],
   "source": [
    "#how many different patron types there are\n",
    "sfl_data.groupby(\"Patron Type Definition\").count()"
   ]
  },
  {
   "cell_type": "markdown",
   "metadata": {},
   "source": [
    "### Selecting just a column\n",
    "\n",
    "If we need to just select some or one column we use pass along a list of what we are interested in square brackets `[]` as in the folllowing cell"
   ]
  },
  {
   "cell_type": "code",
   "execution_count": null,
   "metadata": {},
   "outputs": [],
   "source": [
    "sfl_data[[\"Total Checkouts\",\"Total Renewals\"]]"
   ]
  },
  {
   "cell_type": "markdown",
   "metadata": {},
   "source": [
    "### OR to get the values\n",
    "\n",
    "If we are doing some work and need to get just the values in a column of a dataframe, we modify our syntax a bit. (Don't worry we'll dig into this distinction next week a bit more)"
   ]
  },
  {
   "cell_type": "code",
   "execution_count": null,
   "metadata": {},
   "outputs": [],
   "source": [
    "sfl_data[\"Total Checkouts\"].count()"
   ]
  },
  {
   "cell_type": "markdown",
   "metadata": {},
   "source": [
    "### Other functions \n",
    "\n",
    "Just like we saw with the rest of the stats library Pandas can do other common calculations:\n",
    "\n",
    "- **.mean( )** - finds the average of what piece of data you select from the dataframe\n",
    "-  **.max( )** - finds the largest value in the data you select from the dataframe\n",
    "-  **.min( )** - finds the smallest value in the data you select from the dataframe"
   ]
  },
  {
   "cell_type": "markdown",
   "metadata": {},
   "source": [
    "## Question 6\n",
    "\n",
    "Complete the following cell to find out the average (or mean) of the **Total Checkouts** column?"
   ]
  },
  {
   "cell_type": "code",
   "execution_count": null,
   "metadata": {
    "scrolled": true
   },
   "outputs": [],
   "source": [
    "\n",
    "sfl_data[\"Total Checkouts\"]\n"
   ]
  },
  {
   "cell_type": "markdown",
   "metadata": {},
   "source": [
    "## Question 7\n",
    "\n",
    "Complete the following cell to find out the highest number of **Total Checkout** for a patron."
   ]
  },
  {
   "cell_type": "code",
   "execution_count": null,
   "metadata": {},
   "outputs": [],
   "source": [
    "\n",
    "sfl_data[\"\"].max()\n"
   ]
  },
  {
   "cell_type": "markdown",
   "metadata": {},
   "source": [
    "# Selecting subsets of data\n",
    "\n",
    "Sometimes we want to make subset of our data based on different search criteria we do that using the following syntax:\n",
    "\n",
    "\n",
    "```\n",
    "dataframe[ condition to match ]\n",
    "\n",
    "```\n",
    "\n",
    "We condition to match can be a conditional. The next example cells should help clarify this."
   ]
  },
  {
   "cell_type": "code",
   "execution_count": null,
   "metadata": {},
   "outputs": [],
   "source": [
    "#Only records that actually have a checkout\n",
    "\n",
    "sfl_data[ sfl_data[\"Total Checkouts\"] > 0]"
   ]
  },
  {
   "cell_type": "code",
   "execution_count": null,
   "metadata": {},
   "outputs": [],
   "source": [
    "#Just the records from patrons registered in 2016\n",
    "\n",
    "sfl_data[ sfl_data[\"Year Patron Registered\"] == 2016]"
   ]
  },
  {
   "cell_type": "markdown",
   "metadata": {},
   "source": [
    "### Selecting subsets and analyzing results\n",
    "\n",
    "We can combine our subsets and statistics functions all together if we want, just like the in following two examples"
   ]
  },
  {
   "cell_type": "code",
   "execution_count": null,
   "metadata": {},
   "outputs": [],
   "source": [
    "# Average data for patrons from 2016\n",
    "\n",
    "sfl_data[ sfl_data[\"Year Patron Registered\"] == 2016].mean()"
   ]
  },
  {
   "cell_type": "code",
   "execution_count": null,
   "metadata": {},
   "outputs": [],
   "source": [
    "# Average data for patrons from 2015\n",
    "\n",
    "sfl_data[ sfl_data[\"Year Patron Registered\"] == 2015].mean()"
   ]
  },
  {
   "cell_type": "markdown",
   "metadata": {},
   "source": [
    "## Question 8\n",
    "\n",
    "In the cell below reflect on the two code cells above about average checkouts between 2015 & 2016. What can you say about them?"
   ]
  },
  {
   "cell_type": "markdown",
   "metadata": {},
   "source": [
    "The difference between 2015 & 2016 is..."
   ]
  },
  {
   "cell_type": "markdown",
   "metadata": {},
   "source": [
    "### Selecting on multiple conditions\n",
    "\n",
    "We can select on more than just one condition as the below example shows. The difference here is that we have to use `&` instead of `and` like with saw with conditionals in week 1."
   ]
  },
  {
   "cell_type": "code",
   "execution_count": null,
   "metadata": {},
   "outputs": [],
   "source": [
    "#Adults from the Main Library\n",
    "#We need to maks sure we use () around all of our conditions and we use & to combine conditionals with AND\n",
    "#in the case of dataframes\n",
    "#\n",
    "\n",
    "sfl_data[(sfl_data[\"Patron Type Definition\"] == \"ADULT\") & \\\n",
    "         (sfl_data[\"Home Library Definition\"] == \"Main Library\")]"
   ]
  },
  {
   "cell_type": "markdown",
   "metadata": {},
   "source": [
    "### Another Python shortcut\n",
    "\n",
    "In the cell above you'll notice that the code on line 7 ends with a `\\`. If you line of code is very long you can break it over multiple lines by using the backslash character. The cell below demonstrates this.\n"
   ]
  },
  {
   "cell_type": "code",
   "execution_count": null,
   "metadata": {},
   "outputs": [],
   "source": [
    "\n",
    "if ( 1 == 1 and \\\n",
    "     2 == 2):\n",
    "    print(\"My condition is on two lines!\")\n"
   ]
  },
  {
   "cell_type": "markdown",
   "metadata": {},
   "source": [
    "## Back to selecting multiple conditions\n",
    "\n",
    "Have a look at the next two cells that perform a bit of analysis."
   ]
  },
  {
   "cell_type": "code",
   "execution_count": null,
   "metadata": {},
   "outputs": [],
   "source": [
    "#Average values from Main Library Adults\n",
    "\n",
    "sfl_data[(sfl_data[\"Patron Type Definition\"] == \"ADULT\") & \\\n",
    "         (sfl_data[\"Home Library Definition\"] == \"Main Library\")].mean()"
   ]
  },
  {
   "cell_type": "code",
   "execution_count": null,
   "metadata": {},
   "outputs": [],
   "source": [
    "#Average values from Main Library JUVENILE\n",
    "\n",
    "sfl_data[(sfl_data[\"Patron Type Definition\"] == \"JUVENILE\") & \\\n",
    "         (sfl_data[\"Home Library Definition\"] == \"Main Library\")].mean()"
   ]
  },
  {
   "cell_type": "markdown",
   "metadata": {},
   "source": [
    "## Question 9\n",
    "\n",
    "In the markdown cell below describe your observations about Adult versus Juvenile borrowers for the Main Library."
   ]
  },
  {
   "cell_type": "markdown",
   "metadata": {},
   "source": [
    "The difference between these two patron groups is..."
   ]
  },
  {
   "cell_type": "markdown",
   "metadata": {},
   "source": [
    "## Question 10\n",
    "\n",
    "If we want to see if either of two conditional is true (eg. `OR`) we combine them with `|`. Complete the following code cell so it counts how many patrons are in the main library `or` Chinatown"
   ]
  },
  {
   "cell_type": "code",
   "execution_count": null,
   "metadata": {},
   "outputs": [],
   "source": [
    "sfl_data[(sfl_data[\"Home Library Definition\"] == \"Main Library\") \\\n",
    "         (sfl_data[\"Home Library Definition\"] == \" \")].count()"
   ]
  },
  {
   "cell_type": "markdown",
   "metadata": {},
   "source": [
    "## Question 11\n",
    "\n",
    "Can you find what the average number of checkouts there are for adult borrowers at the Glen Park library?"
   ]
  },
  {
   "cell_type": "code",
   "execution_count": null,
   "metadata": {},
   "outputs": [],
   "source": []
  },
  {
   "cell_type": "markdown",
   "metadata": {},
   "source": [
    "## Question 12\n",
    "\n",
    "Can you find the the highest number of checkouts for adult borrowers at the Main Library or Chinatown?"
   ]
  },
  {
   "cell_type": "code",
   "execution_count": null,
   "metadata": {},
   "outputs": [],
   "source": []
  },
  {
   "cell_type": "markdown",
   "metadata": {},
   "source": [
    "## Question 13\n",
    "\n",
    "Take a moment to look at the data you've look at so far. See if you can come up with another interesting calculation put it in the cell below, and add to the comment to describe what you've found."
   ]
  },
  {
   "cell_type": "code",
   "execution_count": null,
   "metadata": {},
   "outputs": [],
   "source": [
    "\n",
    "# My code does the following:\n",
    "#\n",
    "#\n",
    "#\n",
    "#\n",
    "\n",
    "\n"
   ]
  },
  {
   "cell_type": "markdown",
   "metadata": {},
   "source": [
    "## Congrats!\n",
    "\n",
    "You have successfully made it through week 2. Now head over to the Homework notebook to attempt some more questions on these topics. In week 3 we will build on our knowledge of Pandas and introduce some visualizations with another Python Library."
   ]
  }
 ],
 "metadata": {
  "kernelspec": {
   "display_name": "Python 3",
   "language": "python",
   "name": "python3"
  },
  "language_info": {
   "codemirror_mode": {
    "name": "ipython",
    "version": 3
   },
   "file_extension": ".py",
   "mimetype": "text/x-python",
   "name": "python",
   "nbconvert_exporter": "python",
   "pygments_lexer": "ipython3",
   "version": "3.7.4"
  }
 },
 "nbformat": 4,
 "nbformat_minor": 2
}
