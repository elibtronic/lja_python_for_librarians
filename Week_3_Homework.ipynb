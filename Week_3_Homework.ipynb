{
 "cells": [
  {
   "cell_type": "markdown",
   "metadata": {},
   "source": [
    " ### Student Name\n",
    " \n",
    "Please add your name to this markdown cell."
   ]
  },
  {
   "cell_type": "markdown",
   "metadata": {},
   "source": [
    "## Submitting your homework!\n",
    "\n",
    "Three steps are required for this week's homework once you have completed it:\n",
    "\n",
    "- __Share__ this notebook with _libraryjuicepresspython@gmail.com_ so it can be marked in Colab\n",
    "- __Print as PDF__ and upload to the the week's homework submission location on the Library Juice Academy LMS\n",
    "- __Post__ to the Week 3 Forum"
   ]
  },
  {
   "cell_type": "markdown",
   "metadata": {},
   "source": [
    "# Python for Librarians - Week 3 Homework\n",
    "\n",
    "In our _Workalong_ notebook we looked at Sci Hub usage between two cities: **Toronto** & **Montreal**. \n",
    "\n",
    "Our questions for this week will look at a different set of data. We'll use the Sci-Hub usage data but we'll pick two different cities to compare."
   ]
  },
  {
   "cell_type": "code",
   "execution_count": null,
   "metadata": {},
   "outputs": [],
   "source": [
    "import pandas as pd\n",
    "import matplotlib.pyplot as plt\n",
    "%matplotlib inline\n",
    "\n",
    "\n",
    "#Suppress the distracting warnings\n",
    "import warnings\n",
    "warnings.filterwarnings(\"ignore\", category=DeprecationWarning)\n",
    "warnings.filterwarnings(\"ignore\", category=FutureWarning)"
   ]
  },
  {
   "cell_type": "code",
   "execution_count": null,
   "metadata": {
    "scrolled": true
   },
   "outputs": [],
   "source": [
    "#We load up our CSV. Columns are already in the data so we don't need to specific them\n",
    "sci_hub_homework = pd.read_csv(\"https://raw.githubusercontent.com/elibtronic/lja_datasets/master/week_3_sci_hub_homework.csv\")\n",
    "\n",
    "#Make sure that Pandas assigns the correct types to each column\n",
    "sci_hub_homework = sci_hub_homework.convert_dtypes()\n",
    "\n",
    "#Force doi_prefix to be a string even though it looks like a real\n",
    "sci_hub_homework[\"doi_prefix\"] = sci_hub_homework[\"doi_prefix\"].astype(\"string\")"
   ]
  },
  {
   "cell_type": "code",
   "execution_count": null,
   "metadata": {},
   "outputs": [],
   "source": [
    "#run this a few times to see more glimpses of the data\n",
    "sci_hub_homework.sample(10)"
   ]
  },
  {
   "cell_type": "markdown",
   "metadata": {},
   "source": [
    "## Q1\n",
    "What is the distribution of values between the two cities"
   ]
  },
  {
   "cell_type": "code",
   "execution_count": null,
   "metadata": {},
   "outputs": [],
   "source": [
    "sci_hub_homework.groupby().count()"
   ]
  },
  {
   "cell_type": "markdown",
   "metadata": {},
   "source": [
    "## Q2\n",
    "\n",
    "What are the top ten publishers downloaded in Montreal? (Hint: check the **Sorting** section in the Week 3 workalong for inspiration for this question)"
   ]
  },
  {
   "cell_type": "code",
   "execution_count": null,
   "metadata": {},
   "outputs": [],
   "source": []
  },
  {
   "cell_type": "markdown",
   "metadata": {},
   "source": [
    "## Q3\n",
    "How many unique users are there in the first city in the data?"
   ]
  },
  {
   "cell_type": "code",
   "execution_count": null,
   "metadata": {},
   "outputs": [],
   "source": [
    "montreal_unique_users = \n",
    "\n",
    "#Check to see what our data frame looks like\n",
    "print(montreal_unique_users)"
   ]
  },
  {
   "cell_type": "markdown",
   "metadata": {},
   "source": [
    "## Q4\n",
    "\n",
    "How many unique users are there in the second city in the data?"
   ]
  },
  {
   "cell_type": "code",
   "execution_count": null,
   "metadata": {},
   "outputs": [],
   "source": [
    "edmonton_unique_users =\n",
    "\n",
    "#Check to see what our data frame looks like\n",
    "print(edmonton_unique_users)"
   ]
  },
  {
   "cell_type": "markdown",
   "metadata": {},
   "source": [
    "## Q5\n",
    "\n",
    "You are trying to analyze which city has the higher ratio of downloads per number of unique user. Can you complete the following cell to display this result to the screen?  You need to modify lines: 2 & 10"
   ]
  },
  {
   "cell_type": "code",
   "execution_count": null,
   "metadata": {},
   "outputs": [],
   "source": [
    "\n",
    "montreal_total_downloads = \n",
    "\n",
    "montreal_ratio = montreal_total_downloads / montreal_unique_users\n",
    "\n",
    "print(\"Montreal Downloads per user: \", montreal_ratio)\n",
    "\n",
    "\n",
    "\n",
    "edmonton_total_downloads = \n",
    "\n",
    "edmonton_ratio = edmonton_total_downloads / edmonton_unique_users\n",
    "\n",
    "print(\"Edmonton Downloads per user: \", edmonton_ratio)"
   ]
  },
  {
   "cell_type": "markdown",
   "metadata": {},
   "source": [
    "## Q6\n",
    "\n",
    "Which city has the highest per capita downloads per user?"
   ]
  },
  {
   "cell_type": "markdown",
   "metadata": {},
   "source": [
    "The city with the highest ratio is..."
   ]
  },
  {
   "cell_type": "markdown",
   "metadata": {},
   "source": [
    "# Visualization Questions\n",
    "\n",
    "Now that we have done some preliminary analysis on the data let's take a look at how we can visualize some of our results. We'll built a few more dataframes to seperate out the users from the different cities in the data. Run this next cell before moving to _Q7_."
   ]
  },
  {
   "cell_type": "code",
   "execution_count": null,
   "metadata": {},
   "outputs": [],
   "source": [
    "#Let's create some list of info\n",
    "montreal_users = sci_hub_homework[sci_hub_homework[\"city\"] == \"Montreal\"]\n",
    "edmonton_users = sci_hub_homework[sci_hub_homework[\"city\"] == \"Edmonton\"]"
   ]
  },
  {
   "cell_type": "markdown",
   "metadata": {},
   "source": [
    "## Q7\n",
    "Draw a pie that comparse the number of users in Montreal and the number of users in Edmonton. You need to complete lines: 1,2,7 and 13. If you've completed question 5 already that should also help here. (At this point you probably have at least 3 different ways of answering this question)"
   ]
  },
  {
   "cell_type": "code",
   "execution_count": null,
   "metadata": {},
   "outputs": [],
   "source": [
    "edmonton_slice = \n",
    "montreal_slice = \n",
    "\n",
    "e_pie = [edmonton_slice,montreal_slice]\n",
    "\n",
    "#Labels for Pie graph as a list\n",
    "pie_labels = [\"\",\"\"]\n",
    "\n",
    "#Just as before but this time we add labels=pie_labels to add labels\n",
    "plt.pie(e_pie,labels=pie_labels)\n",
    "\n",
    "#Nifty title to describe to our pie\n",
    "plt.title(\"\")\n",
    "\n",
    "#Generate the pie\n",
    "plt.show()"
   ]
  },
  {
   "cell_type": "markdown",
   "metadata": {},
   "source": [
    "## Q8\n",
    "\n",
    "Draw a pie graph of the top 10 downloaded publishers in the Edmonton dataset. (Your result from Question 2 above should give you some hints) You need to modify lines 1, 3, 4, & 8."
   ]
  },
  {
   "cell_type": "code",
   "execution_count": null,
   "metadata": {
    "scrolled": true
   },
   "outputs": [],
   "source": [
    "edmonton_top_publishers = edmonton_users.groupby(\"\")\\\n",
    "                            .count()\\\n",
    "                            .sort_values(by='',ascending=False)\\\n",
    "                            .head()[\"\"]\n",
    "\n",
    "\n",
    "plt.pie(edmonton_top_publishers, labels=edmonton_top_publishers.index)\n",
    "plt.title(\"\")\n",
    "plt.show()"
   ]
  },
  {
   "cell_type": "markdown",
   "metadata": {},
   "source": [
    "## Q9\n",
    "\n",
    "Draw a pie graph of the top 10 downloaded publishers in the Montreal dataset. As with Q8 you need to modify lines 1, 3, 4, & 8."
   ]
  },
  {
   "cell_type": "code",
   "execution_count": null,
   "metadata": {},
   "outputs": [],
   "source": [
    "montreal_top_publishers = montreal_users.groupby(\"\")\\\n",
    "                            .count()\\\n",
    "                            .sort_values(by='',ascending=False)\\\n",
    "                            .head()[\"\"]\n",
    "\n",
    "\n",
    "plt.pie(montreal_top_publishers, labels=montreal_top_publishers.index)\n",
    "plt.title(\"\")\n",
    "plt.show()"
   ]
  },
  {
   "cell_type": "markdown",
   "metadata": {},
   "source": [
    "# Q10\n",
    "\n",
    "The top downloaded publisher from each city is (modify the contents of the cell below with your answer) Bonus if you look up what it is."
   ]
  },
  {
   "cell_type": "markdown",
   "metadata": {},
   "source": [
    "The top publisher is... "
   ]
  },
  {
   "cell_type": "markdown",
   "metadata": {},
   "source": [
    "## Q11\n",
    "\n",
    "Draw a histogram of the distribution of Edmonton downloads per user for the top 100 users. Check the histogram section from the week 3 _Workalong Notebook_ for more details. You need to complete lines 1,3,6,9,10 & 11.\n"
   ]
  },
  {
   "cell_type": "code",
   "execution_count": null,
   "metadata": {},
   "outputs": [],
   "source": [
    "edmonton_downloads_by_user = edmonton_users.groupby('')\\\n",
    "                            .count()\\\n",
    "                            .sort_values(by = \"\",ascending=False)[\"doi_whole\"].head()\n",
    "\n",
    "\n",
    "bins = \n",
    "\n",
    "plt.hist(edmonton_downloads_by_user,bins)\n",
    "plt.xlabel(\"\")\n",
    "plt.ylabel(\"\")\n",
    "plt.title(\"\")\n",
    "plt.show()\n"
   ]
  },
  {
   "cell_type": "markdown",
   "metadata": {},
   "source": [
    "## Q12\n",
    "\n",
    "What is (approximately) the highest number of downloads performed by a user in the dataset?"
   ]
  },
  {
   "cell_type": "markdown",
   "metadata": {},
   "source": [
    "The highest number is..."
   ]
  },
  {
   "cell_type": "markdown",
   "metadata": {},
   "source": [
    "## Q13\n",
    "\n",
    "What else can you discover?\n",
    "\n",
    "Now that we've covered some ground take a moment to reflect on the data and what you learned about analyzing it. In the cell below try to write some code that will perform a different calculation / visualization on the data."
   ]
  },
  {
   "cell_type": "code",
   "execution_count": null,
   "metadata": {},
   "outputs": [],
   "source": []
  },
  {
   "cell_type": "markdown",
   "metadata": {},
   "source": [
    "In my code above..."
   ]
  },
  {
   "cell_type": "markdown",
   "metadata": {},
   "source": [
    "## Congrats!\n",
    "\n",
    "You have completed week 3 homework. Be sure to complete all of the next steps:\n",
    "\n",
    "- Print as PDF and upload to the LMS\n",
    "- Also click the **Share** button above and enter `libraryjuicepresspython@gmail.com` so I can get a shared copy of your work.\n",
    "- Make a post in the Week 3 Homework Forum"
   ]
  }
 ],
 "metadata": {
  "kernelspec": {
   "display_name": "Python 3 (ipykernel)",
   "language": "python",
   "name": "python3"
  },
  "language_info": {
   "codemirror_mode": {
    "name": "ipython",
    "version": 3
   },
   "file_extension": ".py",
   "mimetype": "text/x-python",
   "name": "python",
   "nbconvert_exporter": "python",
   "pygments_lexer": "ipython3",
   "version": "3.9.13"
  }
 },
 "nbformat": 4,
 "nbformat_minor": 2
}
