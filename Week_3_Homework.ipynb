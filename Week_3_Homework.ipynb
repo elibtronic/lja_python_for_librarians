{
 "cells": [
  {
   "cell_type": "markdown",
   "metadata": {},
   "source": [
    "# Week 3\n",
    "\n",
    "In our workalong notebook we looked at Sci Hub usage between two cities: Toronto & Montreal. Most of our questions for this week will look at a different subset of data. We'll use the Sci-Hub usage data set but we'll pick two different cities to compare."
   ]
  },
  {
   "cell_type": "code",
   "execution_count": null,
   "metadata": {},
   "outputs": [],
   "source": [
    "import pandas\n",
    "import matplotlib.pyplot as plt\n",
    "%matplotlib inline"
   ]
  },
  {
   "cell_type": "code",
   "execution_count": null,
   "metadata": {
    "scrolled": true
   },
   "outputs": [],
   "source": [
    "#We load up our CSV. Columns are already in the data so we don't need to specific them\n",
    "sci_hub_homework = pandas.read_csv(\"week_3_sci_hub_homework.csv\")"
   ]
  },
  {
   "cell_type": "code",
   "execution_count": null,
   "metadata": {},
   "outputs": [],
   "source": [
    "#run this a few times to see more glimpses of the data\n",
    "sci_hub_homework.sample(10)"
   ]
  },
  {
   "cell_type": "markdown",
   "metadata": {},
   "source": [
    "## Q1\n",
    "What is the distribution of values between the two cities"
   ]
  },
  {
   "cell_type": "code",
   "execution_count": null,
   "metadata": {},
   "outputs": [],
   "source": [
    "sci_hub_homework.groupby().count()"
   ]
  },
  {
   "cell_type": "markdown",
   "metadata": {},
   "source": [
    "## Q2\n",
    "What are the top ten publishers downloaded in Montreal?"
   ]
  },
  {
   "cell_type": "code",
   "execution_count": null,
   "metadata": {},
   "outputs": [],
   "source": []
  },
  {
   "cell_type": "markdown",
   "metadata": {},
   "source": [
    "## Q3\n",
    "\n",
    "What are the top ten publishers downloaded in Edmonton?"
   ]
  },
  {
   "cell_type": "code",
   "execution_count": null,
   "metadata": {},
   "outputs": [],
   "source": []
  },
  {
   "cell_type": "markdown",
   "metadata": {},
   "source": [
    "## Q4\n",
    "How many unique users are there in Montreal"
   ]
  },
  {
   "cell_type": "code",
   "execution_count": null,
   "metadata": {},
   "outputs": [],
   "source": [
    "montreal_unique_users = sci_hub_homework[].nunique()"
   ]
  },
  {
   "cell_type": "markdown",
   "metadata": {},
   "source": [
    "## Q5\n",
    "\n",
    "How many unique users are there in Edmonton?"
   ]
  },
  {
   "cell_type": "code",
   "execution_count": null,
   "metadata": {},
   "outputs": [],
   "source": [
    "edmonton_unique_users ="
   ]
  },
  {
   "cell_type": "markdown",
   "metadata": {},
   "source": [
    "## Q6\n",
    "\n",
    "You are trying to analyze which city has the higher ratio of downloads per unique user. Can you complete the following cell to display this result to the screen?  You need to modify lines: 2 & 10"
   ]
  },
  {
   "cell_type": "code",
   "execution_count": null,
   "metadata": {},
   "outputs": [],
   "source": [
    "\n",
    "montreal_total_downloads = \n",
    "\n",
    "montreal_ratio = montreal_total_downloads / montreal_unique_users\n",
    "\n",
    "print(\"Toronto Downloads per user: \", montreal_ratio)\n",
    "\n",
    "\n",
    "\n",
    "edmonton_total_downloads = \n",
    "\n",
    "edmonton_ratio = edmonton_total_downloads / edmonton_unique_users\n",
    "\n",
    "print(\"Edmonton Downloads per user: \", edmonton_ratio)"
   ]
  },
  {
   "cell_type": "markdown",
   "metadata": {},
   "source": [
    "## Q7\n",
    "\n",
    "Which city has the highest per capita downloads per user?"
   ]
  },
  {
   "cell_type": "markdown",
   "metadata": {},
   "source": [
    "The city with the highest ration is..."
   ]
  },
  {
   "cell_type": "markdown",
   "metadata": {},
   "source": [
    "# Visualization Questions\n",
    "\n",
    "Now that we have done some preliminary analysis on the data let's take a look at how we can visualize some of our results. We'll built a few more dataframes to seperate out the Toronto users from the Edmonton users."
   ]
  },
  {
   "cell_type": "code",
   "execution_count": null,
   "metadata": {},
   "outputs": [],
   "source": [
    "#Let's create some list of info\n",
    "montreal_users = sci_hub_homework[sci_hub_homework[\"city\"] == \"Montreal\"]\n",
    "edmonton_users = sci_hub_homework[sci_homework[\"city\"] == \"Edmonton\"]"
   ]
  },
  {
   "cell_type": "markdown",
   "metadata": {},
   "source": [
    "## Q8\n",
    "Draw a pie that shows the distribution of users in Montreal versus Edmonton"
   ]
  },
  {
   "cell_type": "code",
   "execution_count": null,
   "metadata": {},
   "outputs": [],
   "source": []
  },
  {
   "cell_type": "markdown",
   "metadata": {},
   "source": [
    "## Q9\n",
    "\n",
    "Draw a pie graph of the top 10 downloaded publishers in the Edmonton dataset"
   ]
  },
  {
   "cell_type": "code",
   "execution_count": null,
   "metadata": {},
   "outputs": [],
   "source": []
  },
  {
   "cell_type": "markdown",
   "metadata": {},
   "source": [
    "## Q10\n",
    "\n",
    "Draw a histogram of the distribution of Edmonton downloads per user for the top 100 users\n"
   ]
  },
  {
   "cell_type": "code",
   "execution_count": null,
   "metadata": {},
   "outputs": [],
   "source": []
  },
  {
   "cell_type": "markdown",
   "metadata": {},
   "source": [
    "## What else can you discover?\n",
    "\n",
    "Now that we've covered some ground take a moment to reflect on the data and what you learned about analyzing it. In the cell below try to write some code that will perform a different calculation / visualization on the data."
   ]
  },
  {
   "cell_type": "code",
   "execution_count": null,
   "metadata": {},
   "outputs": [],
   "source": []
  },
  {
   "cell_type": "markdown",
   "metadata": {},
   "source": [
    "In my code above..."
   ]
  },
  {
   "cell_type": "markdown",
   "metadata": {},
   "source": [
    "## Congrats!\n",
    "\n",
    "You have completed week 3 homework. Be sure to save your completed notebook as a PDF and upload you final result to the course website."
   ]
  }
 ],
 "metadata": {
  "kernelspec": {
   "display_name": "Python 3",
   "language": "python",
   "name": "python3"
  },
  "language_info": {
   "codemirror_mode": {
    "name": "ipython",
    "version": 3
   },
   "file_extension": ".py",
   "mimetype": "text/x-python",
   "name": "python",
   "nbconvert_exporter": "python",
   "pygments_lexer": "ipython3",
   "version": "3.7.4"
  }
 },
 "nbformat": 4,
 "nbformat_minor": 2
}
