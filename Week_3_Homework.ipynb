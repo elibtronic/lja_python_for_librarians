{
 "cells": [
  {
   "cell_type": "markdown",
   "metadata": {},
   "source": [
    "# Python for Librarians - Week 3 Homework\n",
    "\n",
    "In our workalong notebook we looked at Sci Hub usage between two cities: Toronto & Montreal. Most of our questions for this week will look at a different subset of data. We'll use the Sci-Hub usage data set but we'll pick two different cities to compare."
   ]
  },
  {
   "cell_type": "code",
   "execution_count": null,
   "metadata": {},
   "outputs": [],
   "source": [
    "import pandas\n",
    "import matplotlib.pyplot as plt\n",
    "%matplotlib inline"
   ]
  },
  {
   "cell_type": "code",
   "execution_count": null,
   "metadata": {
    "scrolled": true
   },
   "outputs": [],
   "source": [
    "#We load up our CSV. Columns are already in the data so we don't need to specific them\n",
    "sci_hub_homework = pandas.read_csv(\"https://raw.githubusercontent.com/elibtronic/lja_datasets/master/week_3_sci_hub_homework.csv\")"
   ]
  },
  {
   "cell_type": "code",
   "execution_count": null,
   "metadata": {},
   "outputs": [],
   "source": [
    "#run this a few times to see more glimpses of the data\n",
    "sci_hub_homework.sample(10)"
   ]
  },
  {
   "cell_type": "markdown",
   "metadata": {},
   "source": [
    "## Q1\n",
    "What is the distribution of values between the two cities"
   ]
  },
  {
   "cell_type": "code",
   "execution_count": null,
   "metadata": {},
   "outputs": [],
   "source": [
    "sci_hub_homework.groupby().count()"
   ]
  },
  {
   "cell_type": "markdown",
   "metadata": {},
   "source": [
    "## Q2\n",
    "\n",
    "What are the top ten publishers downloaded in Edmonton? (Hint: check the **Sorting** section in the Week 3 workalong for inspiration for this question)"
   ]
  },
  {
   "cell_type": "code",
   "execution_count": null,
   "metadata": {},
   "outputs": [],
   "source": []
  },
  {
   "cell_type": "markdown",
   "metadata": {},
   "source": [
    "## Q3\n",
    "How many unique users are there in the first city in the data?"
   ]
  },
  {
   "cell_type": "code",
   "execution_count": null,
   "metadata": {},
   "outputs": [],
   "source": [
    "montreal_unique_users = sci_hub_homework[].nunique()\n",
    "montreal_unique_users"
   ]
  },
  {
   "cell_type": "markdown",
   "metadata": {},
   "source": [
    "## Q4\n",
    "\n",
    "How many unique users are there in the second city in the data?"
   ]
  },
  {
   "cell_type": "code",
   "execution_count": null,
   "metadata": {},
   "outputs": [],
   "source": [
    "edmonton_unique_users =\n",
    "edmonton_unique_users"
   ]
  },
  {
   "cell_type": "markdown",
   "metadata": {},
   "source": [
    "## Q5\n",
    "\n",
    "You are trying to analyze which city has the higher ratio of downloads per number of unique user. Can you complete the following cell to display this result to the screen?  You need to modify lines: 2 & 10"
   ]
  },
  {
   "cell_type": "code",
   "execution_count": null,
   "metadata": {},
   "outputs": [],
   "source": [
    "\n",
    "montreal_total_downloads = \n",
    "\n",
    "montreal_ratio = montreal_total_downloads / montreal_unique_users\n",
    "\n",
    "print(\"Montreal Downloads per user: \", montreal_ratio)\n",
    "\n",
    "\n",
    "\n",
    "edmonton_total_downloads = \n",
    "\n",
    "edmonton_ratio = edmonton_total_downloads / edmonton_unique_users\n",
    "\n",
    "print(\"Edmonton Downloads per user: \", edmonton_ratio)"
   ]
  },
  {
   "cell_type": "markdown",
   "metadata": {},
   "source": [
    "## Q6\n",
    "\n",
    "Which city has the highest per capita downloads per user?"
   ]
  },
  {
   "cell_type": "markdown",
   "metadata": {},
   "source": [
    "The city with the highest ratio is..."
   ]
  },
  {
   "cell_type": "markdown",
   "metadata": {},
   "source": [
    "# Visualization Questions\n",
    "\n",
    "Now that we have done some preliminary analysis on the data let's take a look at how we can visualize some of our results. We'll built a few more dataframes to seperate out the Montreal users from the Edmonton users. Run this next cell before moving onto question 8."
   ]
  },
  {
   "cell_type": "code",
   "execution_count": null,
   "metadata": {},
   "outputs": [],
   "source": [
    "#Let's create some list of info\n",
    "montreal_users = sci_hub_homework[sci_hub_homework[\"city\"] == \"Montreal\"]\n",
    "edmonton_users = sci_hub_homework[sci_hub_homework[\"city\"] == \"Edmonton\"]"
   ]
  },
  {
   "cell_type": "markdown",
   "metadata": {},
   "source": [
    "## Q8\n",
    "Draw a pie that comparse the number of users in Montreal and the number of users in Edmonton. You need to complete lines: 1,2,7 and 13. If you've completed question 5 already that should also help here. (At this point you probably have at least 3 different ways of answering this question)"
   ]
  },
  {
   "cell_type": "code",
   "execution_count": null,
   "metadata": {},
   "outputs": [],
   "source": [
    "edmonton_slice = \n",
    "montreal_slice = \n",
    "\n",
    "e_pie = [edmonton_slice,montreal_slice]\n",
    "\n",
    "#Labels for Pie graph as a list\n",
    "pie_labels = [\"\",\"\"]\n",
    "\n",
    "#Just as before but this time we add labels=pie_labels to add labels\n",
    "plt.pie(e_pie,labels=pie_labels)\n",
    "\n",
    "#Nifty title to describe to our pie\n",
    "plt.title(\"\")\n",
    "\n",
    "#Generate the pie\n",
    "plt.show()"
   ]
  },
  {
   "cell_type": "markdown",
   "metadata": {},
   "source": [
    "## Q9\n",
    "\n",
    "Draw a pie graph of the top 10 downloaded publishers in the Edmonton dataset. (Your result from Question 2 above should help here) You need to modify lines 1,2,3,4,8 & 10."
   ]
  },
  {
   "cell_type": "code",
   "execution_count": null,
   "metadata": {
    "scrolled": true
   },
   "outputs": [],
   "source": [
    "edmonton_top_publishers = edmonton_users.groupby(\"\")\\\n",
    "                            .count()\\\n",
    "                            .sort_values(by='',ascending=False)\\\n",
    "                            .head()[\"\"]\n",
    "\n",
    "\n",
    "plt.pie(edmonton_top_publishers, labels=edmonton_top_publishers.index)\n",
    "plt.title(\"\")\n",
    "plt.show()"
   ]
  },
  {
   "cell_type": "markdown",
   "metadata": {},
   "source": [
    "## Q9\n",
    "\n",
    "You've now compared the top 10 most downloaded publishers from 3 different cities, what can you say about the biggest slice of each of these 3 pies. (Bonus points if you can actually find the name of that publisher)"
   ]
  },
  {
   "cell_type": "markdown",
   "metadata": {},
   "source": [
    "The top downloaded publisher from each city..."
   ]
  },
  {
   "cell_type": "markdown",
   "metadata": {},
   "source": [
    "## Q10\n",
    "\n",
    "Draw a histogram of the distribution of Edmonton downloads per user for the top 100 users. Check the histogram section from week 3 workalong for more details. You need to complete lines 1,2,3,6,9,10 & 11.\n"
   ]
  },
  {
   "cell_type": "code",
   "execution_count": null,
   "metadata": {},
   "outputs": [],
   "source": [
    "edmonton_downloads_by_user = edmonton_users.groupby('')\\\n",
    "                            .count()\\\n",
    "                            .sort_values(by = \"\",ascending=False)[\"doi_whole\"].head()\n",
    "\n",
    "\n",
    "bins = \n",
    "\n",
    "plt.hist(edmonton_downloads_by_user,bins)\n",
    "plt.xlabel(\"\")\n",
    "plt.ylabel(\"\")\n",
    "plt.title(\"\")\n",
    "plt.show()\n"
   ]
  },
  {
   "cell_type": "markdown",
   "metadata": {},
   "source": [
    "## Q11\n",
    "\n",
    "What is (approximately) the highest number of downloads performed by a user in the dataset?"
   ]
  },
  {
   "cell_type": "markdown",
   "metadata": {},
   "source": [
    "The highest number is..."
   ]
  },
  {
   "cell_type": "markdown",
   "metadata": {},
   "source": [
    "## What else can you discover?\n",
    "\n",
    "Now that we've covered some ground take a moment to reflect on the data and what you learned about analyzing it. In the cell below try to write some code that will perform a different calculation / visualization on the data."
   ]
  },
  {
   "cell_type": "code",
   "execution_count": null,
   "metadata": {},
   "outputs": [],
   "source": []
  },
  {
   "cell_type": "markdown",
   "metadata": {},
   "source": [
    "In my code above..."
   ]
  },
  {
   "cell_type": "markdown",
   "metadata": {},
   "source": [
    "## Congrats!\n",
    "\n",
    "You have completed week 3 homework. Be sure to complete all of the next steps:\n",
    "\n",
    "- Save as PDF and upload to the LMS\n",
    "- Make a post in the Week 3 Homework Forum\n",
    "- Also click the **Share** button above and enter `libraryjuicepresspython@gmail.com` so I can get a shared copy of your work."
   ]
  }
 ],
 "metadata": {
  "kernelspec": {
   "display_name": "Python 3",
   "language": "python",
   "name": "python3"
  },
  "language_info": {
   "codemirror_mode": {
    "name": "ipython",
    "version": 3
   },
   "file_extension": ".py",
   "mimetype": "text/x-python",
   "name": "python",
   "nbconvert_exporter": "python",
   "pygments_lexer": "ipython3",
   "version": "3.7.4"
  }
 },
 "nbformat": 4,
 "nbformat_minor": 2
}
