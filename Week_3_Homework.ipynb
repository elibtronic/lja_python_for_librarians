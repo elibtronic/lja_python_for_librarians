{
 "cells": [
  {
   "cell_type": "markdown",
   "metadata": {},
   "source": [
    "# Week 3\n",
    "\n",
    "In our workalong notebook we looked at Sci Hub usage between two cities: Toronto & Montreal. Most of our questions for this week will look at a different subset of data. We'll use the Sci-Hub usage data set but we'll pick two different cities to compare."
   ]
  },
  {
   "cell_type": "code",
   "execution_count": 1,
   "metadata": {},
   "outputs": [],
   "source": [
    "import pandas\n",
    "import matplotlib.pyplot as plt\n",
    "%matplotlib inline"
   ]
  },
  {
   "cell_type": "code",
   "execution_count": null,
   "metadata": {
    "scrolled": true
   },
   "outputs": [],
   "source": [
    "sci_homework = pandas.read_csv(\"week_3_sci_hub_homework.csv\")\n",
    "sci_homework"
   ]
  },
  {
   "cell_type": "markdown",
   "metadata": {},
   "source": [
    "## Q1\n",
    "What is the distribution of values between the two cities"
   ]
  },
  {
   "cell_type": "code",
   "execution_count": null,
   "metadata": {},
   "outputs": [],
   "source": []
  },
  {
   "cell_type": "markdown",
   "metadata": {},
   "source": [
    "## Q2\n",
    "What are the top ten publishers in the data for both Toronto and Montreal. How many are common? You can just print this to the screen with a print statement."
   ]
  },
  {
   "cell_type": "code",
   "execution_count": null,
   "metadata": {},
   "outputs": [],
   "source": []
  },
  {
   "cell_type": "markdown",
   "metadata": {},
   "source": [
    "## Q3\n",
    "How many unique users are there in each city? (Some of the work is done for you)"
   ]
  },
  {
   "cell_type": "code",
   "execution_count": null,
   "metadata": {},
   "outputs": [],
   "source": [
    "toronto_users =\n",
    "\n",
    "edmonton_users ="
   ]
  },
  {
   "cell_type": "markdown",
   "metadata": {},
   "source": [
    "## Q4\n",
    "\n",
    "You are trying to analyze which city has the higher ratio of downloads per unique user. Can you complete the following cell to display this result to the screen? "
   ]
  },
  {
   "cell_type": "code",
   "execution_count": null,
   "metadata": {},
   "outputs": [],
   "source": [
    "\n",
    "toronto_total_downloads =\n",
    "toronto_ratio = \n",
    "print(\"Toronto Downloads per user: \",toronto_ratio)\n",
    "\n",
    "edmonton_total_downloads =\n",
    "edmonton_ratio = \n",
    "print(\"Edmonton Downloads per user: \",edmonton_ratio)"
   ]
  },
  {
   "cell_type": "markdown",
   "metadata": {},
   "source": [
    "# Visualization Questions\n",
    "\n",
    "Now that we have done some preliminary analysis on the data let's take a look at how we can visualize some of our results. We'll built a few more dataframes to seperate out the Toronto users from the Edmonton users."
   ]
  },
  {
   "cell_type": "code",
   "execution_count": 4,
   "metadata": {},
   "outputs": [],
   "source": [
    "#Let's create some list of info\n",
    "toronto_users = sci_hub_data[sci_homework[\"city\"] == \"Toronto\"]\n",
    "edmonton_users = sci_hub_data[sci_homework[\"city\"] == \"Edmonton\"]"
   ]
  },
  {
   "cell_type": "markdown",
   "metadata": {},
   "source": [
    "## Q?\n",
    "Draw a pie that shows the distribution of users in Toronto versus Edmonton"
   ]
  },
  {
   "cell_type": "code",
   "execution_count": null,
   "metadata": {},
   "outputs": [],
   "source": []
  },
  {
   "cell_type": "markdown",
   "metadata": {},
   "source": [
    "## Q?\n",
    "\n",
    "Draw a bar graph of top 20 publishers in Toronto (some of the work is done for you)"
   ]
  },
  {
   "cell_type": "code",
   "execution_count": null,
   "metadata": {},
   "outputs": [],
   "source": []
  },
  {
   "cell_type": "markdown",
   "metadata": {},
   "source": [
    "## Q?\n",
    "Draw a bar graph of the top 20 publishers in the Edmonton data (some of the work is done for you)\n"
   ]
  },
  {
   "cell_type": "code",
   "execution_count": null,
   "metadata": {},
   "outputs": [],
   "source": []
  },
  {
   "cell_type": "markdown",
   "metadata": {},
   "source": [
    "## What else can you discover?\n",
    "\n",
    "Now that we've covered some ground take a moment to reflect on the data and what you learned about analyzing it. In the cell below try to write some code that will perform a different calculation / visualization on the data."
   ]
  },
  {
   "cell_type": "code",
   "execution_count": null,
   "metadata": {},
   "outputs": [],
   "source": []
  },
  {
   "cell_type": "markdown",
   "metadata": {},
   "source": [
    "(Edit this cell by deleting this text and writing a brief summary of what you calculated)"
   ]
  }
 ],
 "metadata": {
  "kernelspec": {
   "display_name": "Python 3",
   "language": "python",
   "name": "python3"
  },
  "language_info": {
   "codemirror_mode": {
    "name": "ipython",
    "version": 3
   },
   "file_extension": ".py",
   "mimetype": "text/x-python",
   "name": "python",
   "nbconvert_exporter": "python",
   "pygments_lexer": "ipython3",
   "version": "3.7.4"
  }
 },
 "nbformat": 4,
 "nbformat_minor": 2
}
