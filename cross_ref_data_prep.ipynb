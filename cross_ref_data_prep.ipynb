{
 "cells": [
  {
   "cell_type": "markdown",
   "metadata": {},
   "source": [
    "# Week 2 Homework Cross Ref Data Prep\n",
    "\n",
    "[uses](https://github.com/fabiobatalha/crossrefapi)"
   ]
  },
  {
   "cell_type": "code",
   "execution_count": null,
   "metadata": {},
   "outputs": [],
   "source": [
    "%pip install crossrefapi"
   ]
  },
  {
   "cell_type": "code",
   "execution_count": null,
   "metadata": {},
   "outputs": [],
   "source": [
    "from crossref.restful import Works\n",
    "works = Works()"
   ]
  },
  {
   "cell_type": "code",
   "execution_count": null,
   "metadata": {},
   "outputs": [],
   "source": [
    "# Rando article in SSJ\n",
    "# https://doi.org/10.26522/ssj.v15i2.2429\n",
    "\n",
    "works.agency('10.26522/ssj.v15i2.2429')"
   ]
  },
  {
   "cell_type": "code",
   "execution_count": null,
   "metadata": {},
   "outputs": [],
   "source": [
    "# Journal details for SSJ\n",
    "from crossref.restful import Journals\n",
    "bjournals = Journals()\n",
    "\n",
    "bjournals.journal('1911-4788')"
   ]
  },
  {
   "cell_type": "code",
   "execution_count": null,
   "metadata": {},
   "outputs": [],
   "source": [
    "#details for VP\n",
    "bjournals2 = Journals()\n",
    "\n",
    "bjournals2.journal('1925-0614 ')\n",
    "\n"
   ]
  },
  {
   "cell_type": "code",
   "execution_count": 1,
   "metadata": {},
   "outputs": [],
   "source": [
    "#Let's build an actual Dataset\n",
    "import pandas as pd"
   ]
  },
  {
   "cell_type": "code",
   "execution_count": 3,
   "metadata": {},
   "outputs": [
    {
     "data": {
      "text/plain": [
       "32841"
      ]
     },
     "execution_count": 3,
     "metadata": {},
     "output_type": "execute_result"
    }
   ],
   "source": [
    "#information literacy Articles from first half of 2020?\n",
    "#Counting number of results to get a sense of if this is going to be a good data set\n",
    "from crossref.restful import Works\n",
    "\n",
    "articles_md = Works()\n",
    "#articles_md.query('information literacy').filter(from_online_pub_date='2020-01-01').filter(until_online_pub_date='2020-06-30').count()\n",
    "\n"
   ]
  },
  {
   "cell_type": "code",
   "execution_count": 4,
   "metadata": {},
   "outputs": [],
   "source": [
    "#Actually Retrieve That article metadata\n",
    "\n",
    "result_set = articles_md.query('information literacy').filter(from_online_pub_date='2020-01-01').filter(until_online_pub_date='2020-06-30')"
   ]
  },
  {
   "cell_type": "code",
   "execution_count": 9,
   "metadata": {},
   "outputs": [],
   "source": [
    "all_rows = []\n",
    "\n",
    "for item in result_set.sample(1000):\n",
    "    drow = []\n",
    "    drow.append(item['DOI'])\n",
    "    drow.append(item['prefix'])\n",
    "    try:\n",
    "        drow.append(item['ISSN'][0])\n",
    "    except:\n",
    "        drow.append('XXXX-XXXX')\n",
    "    drow.append(item['type'])\n",
    "    drow.append(item['publisher'])\n",
    "    try:\n",
    "        drow.append(item['container-title'][0])\n",
    "    except:\n",
    "        drow.append(item['container-title'])\n",
    "    date = \"\"\n",
    "    for dp in item['deposited']['date-parts'][0]:\n",
    "        date = date + str(dp) + \"/\"\n",
    "    date = date[:-1]\n",
    "    drow.append(date)\n",
    "    drow.append(item['reference-count'])\n",
    "    try:\n",
    "        drow.append(item['title'][0])\n",
    "    except:\n",
    "        drow.append(item['title'])\n",
    "    drow.append(item['score'])\n",
    "    all_rows.append(drow)\n",
    "    "
   ]
  },
  {
   "cell_type": "code",
   "execution_count": 35,
   "metadata": {},
   "outputs": [
    {
     "data": {
      "text/html": [
       "<div>\n",
       "<style scoped>\n",
       "    .dataframe tbody tr th:only-of-type {\n",
       "        vertical-align: middle;\n",
       "    }\n",
       "\n",
       "    .dataframe tbody tr th {\n",
       "        vertical-align: top;\n",
       "    }\n",
       "\n",
       "    .dataframe thead th {\n",
       "        text-align: right;\n",
       "    }\n",
       "</style>\n",
       "<table border=\"1\" class=\"dataframe\">\n",
       "  <thead>\n",
       "    <tr style=\"text-align: right;\">\n",
       "      <th></th>\n",
       "      <th>DOI</th>\n",
       "      <th>PREFIX</th>\n",
       "      <th>ISSN</th>\n",
       "      <th>type</th>\n",
       "      <th>publisher</th>\n",
       "      <th>title</th>\n",
       "      <th>date</th>\n",
       "      <th>reference-count</th>\n",
       "      <th>alt title</th>\n",
       "      <th>score</th>\n",
       "    </tr>\n",
       "  </thead>\n",
       "  <tbody>\n",
       "    <tr>\n",
       "      <td>0</td>\n",
       "      <td>10.1007/978-3-030-30375-4_6</td>\n",
       "      <td>10.1007</td>\n",
       "      <td>2364-6934</td>\n",
       "      <td>book-chapter</td>\n",
       "      <td>Springer International Publishing</td>\n",
       "      <td>Technological and Modern Irrigation Environmen...</td>\n",
       "      <td>2020/3/27</td>\n",
       "      <td>19</td>\n",
       "      <td>Development of Recent Information and Data on ...</td>\n",
       "      <td>3.054405</td>\n",
       "    </tr>\n",
       "    <tr>\n",
       "      <td>1</td>\n",
       "      <td>10.1021/acsaelm.0c00297</td>\n",
       "      <td>10.1021</td>\n",
       "      <td>2637-6113</td>\n",
       "      <td>journal-article</td>\n",
       "      <td>American Chemical Society (ACS)</td>\n",
       "      <td>ACS Applied Electronic Materials</td>\n",
       "      <td>2020/7/28</td>\n",
       "      <td>23</td>\n",
       "      <td>Understanding the Region of Resistance Change ...</td>\n",
       "      <td>3.054405</td>\n",
       "    </tr>\n",
       "  </tbody>\n",
       "</table>\n",
       "</div>"
      ],
      "text/plain": [
       "                           DOI   PREFIX       ISSN             type  \\\n",
       "0  10.1007/978-3-030-30375-4_6  10.1007  2364-6934     book-chapter   \n",
       "1      10.1021/acsaelm.0c00297  10.1021  2637-6113  journal-article   \n",
       "\n",
       "                           publisher  \\\n",
       "0  Springer International Publishing   \n",
       "1    American Chemical Society (ACS)   \n",
       "\n",
       "                                               title       date  \\\n",
       "0  Technological and Modern Irrigation Environmen...  2020/3/27   \n",
       "1                   ACS Applied Electronic Materials  2020/7/28   \n",
       "\n",
       "   reference-count                                          alt title  \\\n",
       "0               19  Development of Recent Information and Data on ...   \n",
       "1               23  Understanding the Region of Resistance Change ...   \n",
       "\n",
       "      score  \n",
       "0  3.054405  \n",
       "1  3.054405  "
      ]
     },
     "execution_count": 35,
     "metadata": {},
     "output_type": "execute_result"
    }
   ],
   "source": [
    "doi_df = pd.DataFrame(all_rows)\n",
    "doi_df.columns = ['DOI','PREFIX','ISSN','type','publisher','title','date','reference-count','alt title','score']\n",
    "doi_df.head()"
   ]
  },
  {
   "cell_type": "code",
   "execution_count": 36,
   "metadata": {},
   "outputs": [],
   "source": [
    "doi_df.to_csv('week_2_doi_homework.csv',index=False)"
   ]
  }
 ],
 "metadata": {
  "kernelspec": {
   "display_name": "Python 3",
   "language": "python",
   "name": "python3"
  },
  "language_info": {
   "codemirror_mode": {
    "name": "ipython",
    "version": 3
   },
   "file_extension": ".py",
   "mimetype": "text/x-python",
   "name": "python",
   "nbconvert_exporter": "python",
   "pygments_lexer": "ipython3",
   "version": "3.7.4"
  }
 },
 "nbformat": 4,
 "nbformat_minor": 2
}
